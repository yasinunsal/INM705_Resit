{
  "cells": [
    {
      "cell_type": "code",
      "execution_count": 53,
      "metadata": {
        "colab": {
          "base_uri": "https://localhost:8080/"
        },
        "id": "6I9uc14ceRcf",
        "outputId": "49e20d20-1f83-446f-b947-6ae3272fe856"
      },
      "outputs": [
        {
          "output_type": "stream",
          "name": "stdout",
          "text": [
            "Drive already mounted at /content/drive; to attempt to forcibly remount, call drive.mount(\"/content/drive\", force_remount=True).\n"
          ]
        }
      ],
      "source": [
        "from google.colab import drive\n",
        "drive.mount('/content/drive')"
      ]
    },
    {
      "cell_type": "code",
      "execution_count": 54,
      "metadata": {
        "colab": {
          "base_uri": "https://localhost:8080/"
        },
        "id": "OYdgi1bweRch",
        "outputId": "6b30ec40-d113-47fd-ebd0-7c1a6fa0f58c"
      },
      "outputs": [
        {
          "output_type": "stream",
          "name": "stdout",
          "text": [
            "'Copy of FasterRCNN_112_112_mobilenet_v3_large_320_fpn.ipynb'\n",
            "'Copy of INM707-Lab7-REINFORCE.ipynb'\n",
            "'Copy of INM707-Lab8-DoubleDQN.ipynb'\n",
            "'Copy of INM707-Lab9-AC-PPO.ipynb'\n",
            " FasterRCNN_112_112_faster_weights_adam.ipynb\n",
            " FasterRCNN_112_112_faster_weights.ipynb\n",
            " FasterRCNN_config.ipynb\n",
            " FasterRCNN.ipynb\n",
            " FrCNN_config.ipynb\n",
            " fruit-images-for-object-detection\n",
            " INFERECE_INM705Lab3_object_dection.ipynb\n",
            " Inference_Load_Checkpoints.ipynb\n",
            " INM705\n",
            "'INM705_lab1_showcase (1).ipynb'\n",
            " INM705_lab1_showcase.ipynb\n",
            "'INM705_W7 - Graph Networks.ipynb'\n",
            " INM706_CW_from_PyCharm.ipynb\n",
            " INM706_W7_Bert\n",
            " INM707-Lab6\n",
            " Lab4_FCN_MASK_RCNN_Inference.ipynb\n",
            "'Load of FasterRCNN checkpoint.ipynb'\n",
            " Untitled0.ipynb\n",
            " Untitled1.ipynb\n",
            " Untitled2.ipynb\n",
            " Untitled3.ipynb\n",
            " wandb\n"
          ]
        }
      ],
      "source": [
        "!ls"
      ]
    },
    {
      "cell_type": "code",
      "execution_count": 55,
      "metadata": {
        "colab": {
          "base_uri": "https://localhost:8080/"
        },
        "id": "7S76tA6geRch",
        "outputId": "556f71c8-9659-4226-d8b7-09dbc174d00c"
      },
      "outputs": [
        {
          "output_type": "stream",
          "name": "stdout",
          "text": [
            "/content/drive/MyDrive/Colab Notebooks\n",
            "'Copy of FasterRCNN_112_112_mobilenet_v3_large_320_fpn.ipynb'\n",
            "'Copy of INM707-Lab7-REINFORCE.ipynb'\n",
            "'Copy of INM707-Lab8-DoubleDQN.ipynb'\n",
            "'Copy of INM707-Lab9-AC-PPO.ipynb'\n",
            " FasterRCNN_112_112_faster_weights_adam.ipynb\n",
            " FasterRCNN_112_112_faster_weights.ipynb\n",
            " FasterRCNN_config.ipynb\n",
            " FasterRCNN.ipynb\n",
            " FrCNN_config.ipynb\n",
            " fruit-images-for-object-detection\n",
            " INFERECE_INM705Lab3_object_dection.ipynb\n",
            " Inference_Load_Checkpoints.ipynb\n",
            " INM705\n",
            "'INM705_lab1_showcase (1).ipynb'\n",
            " INM705_lab1_showcase.ipynb\n",
            "'INM705_W7 - Graph Networks.ipynb'\n",
            " INM706_CW_from_PyCharm.ipynb\n",
            " INM706_W7_Bert\n",
            " INM707-Lab6\n",
            " Lab4_FCN_MASK_RCNN_Inference.ipynb\n",
            "'Load of FasterRCNN checkpoint.ipynb'\n",
            " Untitled0.ipynb\n",
            " Untitled1.ipynb\n",
            " Untitled2.ipynb\n",
            " Untitled3.ipynb\n",
            " wandb\n"
          ]
        }
      ],
      "source": [
        "%cd /content/drive/MyDrive/Colab\\ Notebooks\n",
        "!ls\n"
      ]
    },
    {
      "cell_type": "code",
      "execution_count": 56,
      "metadata": {
        "colab": {
          "base_uri": "https://localhost:8080/",
          "height": 34
        },
        "id": "5ywlgrIYeRci",
        "outputId": "9f94e238-0622-4c74-f928-9af4d76e8872"
      },
      "outputs": [
        {
          "output_type": "display_data",
          "data": {
            "text/plain": [
              "cuda\n"
            ],
            "text/html": [
              "<pre style=\"white-space:pre;overflow-x:auto;line-height:normal;font-family:Menlo,'DejaVu Sans Mono',consolas,'Courier New',monospace\">cuda\n",
              "</pre>\n"
            ]
          },
          "metadata": {}
        }
      ],
      "source": [
        "!pip install -q torch_snippets\n",
        "!pip3 install wandb -qU\n",
        "from torch_snippets import *\n",
        "import torch\n",
        "import random\n",
        "from PIL import Image\n",
        "from torch.utils.data import Dataset, DataLoader\n",
        "from torchvision import models\n",
        "from torchvision.models.detection.faster_rcnn import FastRCNNPredictor\n",
        "from xml.etree import ElementTree as et\n",
        "import numpy as np\n",
        "import wandb\n",
        "import math\n",
        "device = 'cuda' if torch.cuda.is_available() else 'cpu'\n",
        "print(device)"
      ]
    },
    {
      "cell_type": "code",
      "source": [
        "# get parameters from config file\n",
        "import yaml\n",
        "\n",
        "def read_settings(config_path):\n",
        "    with open(config_path, 'r') as file:\n",
        "        settings = yaml.safe_load(file)\n",
        "    return settings\n",
        "\n",
        "\n",
        "# Read settings from the YAML file\n",
        "root_path = 'fruit-images-for-object-detection/'\n",
        "config_path = root_path + 'config.yaml'\n",
        "settings = read_settings(config_path)\n",
        "\n",
        "path_settings = settings.get('path_settings', {})\n",
        "model_settings = settings.get('model', {})\n",
        "train_settings = settings.get('train', {})\n",
        "\n",
        "print(\"backbone\",model_settings['backbone'])\n",
        "print(\"Optimizer\",model_settings['optimizer'])\n",
        "print(\"Learning Rate\",train_settings['learning_rate'])\n",
        "print(\"Image size\",train_settings['image_size'])"
      ],
      "metadata": {
        "id": "yv9lKqzAejAr",
        "colab": {
          "base_uri": "https://localhost:8080/",
          "height": 83
        },
        "outputId": "6fb1dae1-e6a4-4879-ee7b-ed26e9f712cf"
      },
      "execution_count": 57,
      "outputs": [
        {
          "output_type": "display_data",
          "data": {
            "text/plain": [
              "backbone RESNET\n"
            ],
            "text/html": [
              "<pre style=\"white-space:pre;overflow-x:auto;line-height:normal;font-family:Menlo,'DejaVu Sans Mono',consolas,'Courier New',monospace\">backbone RESNET\n",
              "</pre>\n"
            ]
          },
          "metadata": {}
        },
        {
          "output_type": "display_data",
          "data": {
            "text/plain": [
              "Optimizer ADAM\n"
            ],
            "text/html": [
              "<pre style=\"white-space:pre;overflow-x:auto;line-height:normal;font-family:Menlo,'DejaVu Sans Mono',consolas,'Courier New',monospace\">Optimizer ADAM\n",
              "</pre>\n"
            ]
          },
          "metadata": {}
        },
        {
          "output_type": "display_data",
          "data": {
            "text/plain": [
              "Learning Rate \u001b[1;36m1e-05\u001b[0m\n"
            ],
            "text/html": [
              "<pre style=\"white-space:pre;overflow-x:auto;line-height:normal;font-family:Menlo,'DejaVu Sans Mono',consolas,'Courier New',monospace\">Learning Rate <span style=\"color: #008080; text-decoration-color: #008080; font-weight: bold\">1e-05</span>\n",
              "</pre>\n"
            ]
          },
          "metadata": {}
        },
        {
          "output_type": "display_data",
          "data": {
            "text/plain": [
              "Image size \u001b[1;36m112\u001b[0m\n"
            ],
            "text/html": [
              "<pre style=\"white-space:pre;overflow-x:auto;line-height:normal;font-family:Menlo,'DejaVu Sans Mono',consolas,'Courier New',monospace\">Image size <span style=\"color: #008080; text-decoration-color: #008080; font-weight: bold\">112</span>\n",
              "</pre>\n"
            ]
          },
          "metadata": {}
        }
      ]
    },
    {
      "cell_type": "code",
      "source": [
        "# Get saved checkpoints\n",
        "checkpoint = path_settings['checkpoint_root'] + model_settings['backbone'] + \"_\" + model_settings['optimizer'] + \"_lr_\" + str(train_settings['learning_rate']) + \"_CKPT.pth\"\n",
        "print(checkpoint)"
      ],
      "metadata": {
        "colab": {
          "base_uri": "https://localhost:8080/",
          "height": 34
        },
        "id": "lap3Pie0fAMC",
        "outputId": "88b1e957-84e8-4df5-c484-89a050f00d09"
      },
      "execution_count": 58,
      "outputs": [
        {
          "output_type": "display_data",
          "data": {
            "text/plain": [
              "fruit-images-for-object-detection/checkpoints/RESNET_ADAM_lr_1e-05_CKPT.pth\n"
            ],
            "text/html": [
              "<pre style=\"white-space:pre;overflow-x:auto;line-height:normal;font-family:Menlo,'DejaVu Sans Mono',consolas,'Courier New',monospace\">fruit-images-for-object-detection/checkpoints/RESNET_ADAM_lr_1e-05_CKPT.pth\n",
              "</pre>\n"
            ]
          },
          "metadata": {}
        }
      ]
    },
    {
      "cell_type": "code",
      "execution_count": 59,
      "metadata": {
        "colab": {
          "base_uri": "https://localhost:8080/",
          "height": 1000
        },
        "id": "qm3rlnH3eRci",
        "outputId": "87dcc58e-7cd9-42a3-cd72-079454c0def2"
      },
      "outputs": [
        {
          "output_type": "stream",
          "name": "stderr",
          "text": [
            "/usr/local/lib/python3.10/dist-packages/torchvision/models/_utils.py:208: UserWarning: The parameter 'pretrained' is deprecated since 0.13 and may be removed in the future, please use 'weights' instead.\n",
            "  warnings.warn(\n",
            "/usr/local/lib/python3.10/dist-packages/torchvision/models/_utils.py:223: UserWarning: Arguments other than a weight enum or `None` for 'weights' are deprecated since 0.13 and may be removed in the future. The current behavior is equivalent to passing `weights=None`.\n",
            "  warnings.warn(msg)\n"
          ]
        },
        {
          "output_type": "display_data",
          "data": {
            "text/plain": [
              "copied weights for backbone.body.conv1.weight\n"
            ],
            "text/html": [
              "<pre style=\"white-space:pre;overflow-x:auto;line-height:normal;font-family:Menlo,'DejaVu Sans Mono',consolas,'Courier New',monospace\">copied weights for backbone.body.conv1.weight\n",
              "</pre>\n"
            ]
          },
          "metadata": {}
        },
        {
          "output_type": "display_data",
          "data": {
            "text/plain": [
              "copied weights for backbone.body.bn1.weight\n"
            ],
            "text/html": [
              "<pre style=\"white-space:pre;overflow-x:auto;line-height:normal;font-family:Menlo,'DejaVu Sans Mono',consolas,'Courier New',monospace\">copied weights for backbone.body.bn1.weight\n",
              "</pre>\n"
            ]
          },
          "metadata": {}
        },
        {
          "output_type": "display_data",
          "data": {
            "text/plain": [
              "copied weights for backbone.body.bn1.bias\n"
            ],
            "text/html": [
              "<pre style=\"white-space:pre;overflow-x:auto;line-height:normal;font-family:Menlo,'DejaVu Sans Mono',consolas,'Courier New',monospace\">copied weights for backbone.body.bn1.bias\n",
              "</pre>\n"
            ]
          },
          "metadata": {}
        },
        {
          "output_type": "display_data",
          "data": {
            "text/plain": [
              "copied weights for backbone.body.bn1.running_mean\n"
            ],
            "text/html": [
              "<pre style=\"white-space:pre;overflow-x:auto;line-height:normal;font-family:Menlo,'DejaVu Sans Mono',consolas,'Courier New',monospace\">copied weights for backbone.body.bn1.running_mean\n",
              "</pre>\n"
            ]
          },
          "metadata": {}
        },
        {
          "output_type": "display_data",
          "data": {
            "text/plain": [
              "copied weights for backbone.body.bn1.running_var\n"
            ],
            "text/html": [
              "<pre style=\"white-space:pre;overflow-x:auto;line-height:normal;font-family:Menlo,'DejaVu Sans Mono',consolas,'Courier New',monospace\">copied weights for backbone.body.bn1.running_var\n",
              "</pre>\n"
            ]
          },
          "metadata": {}
        },
        {
          "output_type": "display_data",
          "data": {
            "text/plain": [
              "copied weights for backbone.body.layer1.\u001b[1;36m0.\u001b[0mconv1.weight\n"
            ],
            "text/html": [
              "<pre style=\"white-space:pre;overflow-x:auto;line-height:normal;font-family:Menlo,'DejaVu Sans Mono',consolas,'Courier New',monospace\">copied weights for backbone.body.layer1.<span style=\"color: #008080; text-decoration-color: #008080; font-weight: bold\">0.</span>conv1.weight\n",
              "</pre>\n"
            ]
          },
          "metadata": {}
        },
        {
          "output_type": "display_data",
          "data": {
            "text/plain": [
              "copied weights for backbone.body.layer1.\u001b[1;36m0.\u001b[0mbn1.weight\n"
            ],
            "text/html": [
              "<pre style=\"white-space:pre;overflow-x:auto;line-height:normal;font-family:Menlo,'DejaVu Sans Mono',consolas,'Courier New',monospace\">copied weights for backbone.body.layer1.<span style=\"color: #008080; text-decoration-color: #008080; font-weight: bold\">0.</span>bn1.weight\n",
              "</pre>\n"
            ]
          },
          "metadata": {}
        },
        {
          "output_type": "display_data",
          "data": {
            "text/plain": [
              "copied weights for backbone.body.layer1.\u001b[1;36m0.\u001b[0mbn1.bias\n"
            ],
            "text/html": [
              "<pre style=\"white-space:pre;overflow-x:auto;line-height:normal;font-family:Menlo,'DejaVu Sans Mono',consolas,'Courier New',monospace\">copied weights for backbone.body.layer1.<span style=\"color: #008080; text-decoration-color: #008080; font-weight: bold\">0.</span>bn1.bias\n",
              "</pre>\n"
            ]
          },
          "metadata": {}
        },
        {
          "output_type": "display_data",
          "data": {
            "text/plain": [
              "copied weights for backbone.body.layer1.\u001b[1;36m0.\u001b[0mbn1.running_mean\n"
            ],
            "text/html": [
              "<pre style=\"white-space:pre;overflow-x:auto;line-height:normal;font-family:Menlo,'DejaVu Sans Mono',consolas,'Courier New',monospace\">copied weights for backbone.body.layer1.<span style=\"color: #008080; text-decoration-color: #008080; font-weight: bold\">0.</span>bn1.running_mean\n",
              "</pre>\n"
            ]
          },
          "metadata": {}
        },
        {
          "output_type": "display_data",
          "data": {
            "text/plain": [
              "copied weights for backbone.body.layer1.\u001b[1;36m0.\u001b[0mbn1.running_var\n"
            ],
            "text/html": [
              "<pre style=\"white-space:pre;overflow-x:auto;line-height:normal;font-family:Menlo,'DejaVu Sans Mono',consolas,'Courier New',monospace\">copied weights for backbone.body.layer1.<span style=\"color: #008080; text-decoration-color: #008080; font-weight: bold\">0.</span>bn1.running_var\n",
              "</pre>\n"
            ]
          },
          "metadata": {}
        },
        {
          "output_type": "display_data",
          "data": {
            "text/plain": [
              "copied weights for backbone.body.layer1.\u001b[1;36m0.\u001b[0mconv2.weight\n"
            ],
            "text/html": [
              "<pre style=\"white-space:pre;overflow-x:auto;line-height:normal;font-family:Menlo,'DejaVu Sans Mono',consolas,'Courier New',monospace\">copied weights for backbone.body.layer1.<span style=\"color: #008080; text-decoration-color: #008080; font-weight: bold\">0.</span>conv2.weight\n",
              "</pre>\n"
            ]
          },
          "metadata": {}
        },
        {
          "output_type": "display_data",
          "data": {
            "text/plain": [
              "copied weights for backbone.body.layer1.\u001b[1;36m0.\u001b[0mbn2.weight\n"
            ],
            "text/html": [
              "<pre style=\"white-space:pre;overflow-x:auto;line-height:normal;font-family:Menlo,'DejaVu Sans Mono',consolas,'Courier New',monospace\">copied weights for backbone.body.layer1.<span style=\"color: #008080; text-decoration-color: #008080; font-weight: bold\">0.</span>bn2.weight\n",
              "</pre>\n"
            ]
          },
          "metadata": {}
        },
        {
          "output_type": "display_data",
          "data": {
            "text/plain": [
              "copied weights for backbone.body.layer1.\u001b[1;36m0.\u001b[0mbn2.bias\n"
            ],
            "text/html": [
              "<pre style=\"white-space:pre;overflow-x:auto;line-height:normal;font-family:Menlo,'DejaVu Sans Mono',consolas,'Courier New',monospace\">copied weights for backbone.body.layer1.<span style=\"color: #008080; text-decoration-color: #008080; font-weight: bold\">0.</span>bn2.bias\n",
              "</pre>\n"
            ]
          },
          "metadata": {}
        },
        {
          "output_type": "display_data",
          "data": {
            "text/plain": [
              "copied weights for backbone.body.layer1.\u001b[1;36m0.\u001b[0mbn2.running_mean\n"
            ],
            "text/html": [
              "<pre style=\"white-space:pre;overflow-x:auto;line-height:normal;font-family:Menlo,'DejaVu Sans Mono',consolas,'Courier New',monospace\">copied weights for backbone.body.layer1.<span style=\"color: #008080; text-decoration-color: #008080; font-weight: bold\">0.</span>bn2.running_mean\n",
              "</pre>\n"
            ]
          },
          "metadata": {}
        },
        {
          "output_type": "display_data",
          "data": {
            "text/plain": [
              "copied weights for backbone.body.layer1.\u001b[1;36m0.\u001b[0mbn2.running_var\n"
            ],
            "text/html": [
              "<pre style=\"white-space:pre;overflow-x:auto;line-height:normal;font-family:Menlo,'DejaVu Sans Mono',consolas,'Courier New',monospace\">copied weights for backbone.body.layer1.<span style=\"color: #008080; text-decoration-color: #008080; font-weight: bold\">0.</span>bn2.running_var\n",
              "</pre>\n"
            ]
          },
          "metadata": {}
        },
        {
          "output_type": "display_data",
          "data": {
            "text/plain": [
              "copied weights for backbone.body.layer1.\u001b[1;36m0.\u001b[0mconv3.weight\n"
            ],
            "text/html": [
              "<pre style=\"white-space:pre;overflow-x:auto;line-height:normal;font-family:Menlo,'DejaVu Sans Mono',consolas,'Courier New',monospace\">copied weights for backbone.body.layer1.<span style=\"color: #008080; text-decoration-color: #008080; font-weight: bold\">0.</span>conv3.weight\n",
              "</pre>\n"
            ]
          },
          "metadata": {}
        },
        {
          "output_type": "display_data",
          "data": {
            "text/plain": [
              "copied weights for backbone.body.layer1.\u001b[1;36m0.\u001b[0mbn3.weight\n"
            ],
            "text/html": [
              "<pre style=\"white-space:pre;overflow-x:auto;line-height:normal;font-family:Menlo,'DejaVu Sans Mono',consolas,'Courier New',monospace\">copied weights for backbone.body.layer1.<span style=\"color: #008080; text-decoration-color: #008080; font-weight: bold\">0.</span>bn3.weight\n",
              "</pre>\n"
            ]
          },
          "metadata": {}
        },
        {
          "output_type": "display_data",
          "data": {
            "text/plain": [
              "copied weights for backbone.body.layer1.\u001b[1;36m0.\u001b[0mbn3.bias\n"
            ],
            "text/html": [
              "<pre style=\"white-space:pre;overflow-x:auto;line-height:normal;font-family:Menlo,'DejaVu Sans Mono',consolas,'Courier New',monospace\">copied weights for backbone.body.layer1.<span style=\"color: #008080; text-decoration-color: #008080; font-weight: bold\">0.</span>bn3.bias\n",
              "</pre>\n"
            ]
          },
          "metadata": {}
        },
        {
          "output_type": "display_data",
          "data": {
            "text/plain": [
              "copied weights for backbone.body.layer1.\u001b[1;36m0.\u001b[0mbn3.running_mean\n"
            ],
            "text/html": [
              "<pre style=\"white-space:pre;overflow-x:auto;line-height:normal;font-family:Menlo,'DejaVu Sans Mono',consolas,'Courier New',monospace\">copied weights for backbone.body.layer1.<span style=\"color: #008080; text-decoration-color: #008080; font-weight: bold\">0.</span>bn3.running_mean\n",
              "</pre>\n"
            ]
          },
          "metadata": {}
        },
        {
          "output_type": "display_data",
          "data": {
            "text/plain": [
              "copied weights for backbone.body.layer1.\u001b[1;36m0.\u001b[0mbn3.running_var\n"
            ],
            "text/html": [
              "<pre style=\"white-space:pre;overflow-x:auto;line-height:normal;font-family:Menlo,'DejaVu Sans Mono',consolas,'Courier New',monospace\">copied weights for backbone.body.layer1.<span style=\"color: #008080; text-decoration-color: #008080; font-weight: bold\">0.</span>bn3.running_var\n",
              "</pre>\n"
            ]
          },
          "metadata": {}
        },
        {
          "output_type": "display_data",
          "data": {
            "text/plain": [
              "copied weights for backbone.body.layer1.\u001b[1;36m0.\u001b[0mdownsample.\u001b[1;36m0.\u001b[0mweight\n"
            ],
            "text/html": [
              "<pre style=\"white-space:pre;overflow-x:auto;line-height:normal;font-family:Menlo,'DejaVu Sans Mono',consolas,'Courier New',monospace\">copied weights for backbone.body.layer1.<span style=\"color: #008080; text-decoration-color: #008080; font-weight: bold\">0.</span>downsample.<span style=\"color: #008080; text-decoration-color: #008080; font-weight: bold\">0.</span>weight\n",
              "</pre>\n"
            ]
          },
          "metadata": {}
        },
        {
          "output_type": "display_data",
          "data": {
            "text/plain": [
              "copied weights for backbone.body.layer1.\u001b[1;36m0.\u001b[0mdownsample.\u001b[1;36m1.\u001b[0mweight\n"
            ],
            "text/html": [
              "<pre style=\"white-space:pre;overflow-x:auto;line-height:normal;font-family:Menlo,'DejaVu Sans Mono',consolas,'Courier New',monospace\">copied weights for backbone.body.layer1.<span style=\"color: #008080; text-decoration-color: #008080; font-weight: bold\">0.</span>downsample.<span style=\"color: #008080; text-decoration-color: #008080; font-weight: bold\">1.</span>weight\n",
              "</pre>\n"
            ]
          },
          "metadata": {}
        },
        {
          "output_type": "display_data",
          "data": {
            "text/plain": [
              "copied weights for backbone.body.layer1.\u001b[1;36m0.\u001b[0mdownsample.\u001b[1;36m1.\u001b[0mbias\n"
            ],
            "text/html": [
              "<pre style=\"white-space:pre;overflow-x:auto;line-height:normal;font-family:Menlo,'DejaVu Sans Mono',consolas,'Courier New',monospace\">copied weights for backbone.body.layer1.<span style=\"color: #008080; text-decoration-color: #008080; font-weight: bold\">0.</span>downsample.<span style=\"color: #008080; text-decoration-color: #008080; font-weight: bold\">1.</span>bias\n",
              "</pre>\n"
            ]
          },
          "metadata": {}
        },
        {
          "output_type": "display_data",
          "data": {
            "text/plain": [
              "copied weights for backbone.body.layer1.\u001b[1;36m0.\u001b[0mdownsample.\u001b[1;36m1.\u001b[0mrunning_mean\n"
            ],
            "text/html": [
              "<pre style=\"white-space:pre;overflow-x:auto;line-height:normal;font-family:Menlo,'DejaVu Sans Mono',consolas,'Courier New',monospace\">copied weights for backbone.body.layer1.<span style=\"color: #008080; text-decoration-color: #008080; font-weight: bold\">0.</span>downsample.<span style=\"color: #008080; text-decoration-color: #008080; font-weight: bold\">1.</span>running_mean\n",
              "</pre>\n"
            ]
          },
          "metadata": {}
        },
        {
          "output_type": "display_data",
          "data": {
            "text/plain": [
              "copied weights for backbone.body.layer1.\u001b[1;36m0.\u001b[0mdownsample.\u001b[1;36m1.\u001b[0mrunning_var\n"
            ],
            "text/html": [
              "<pre style=\"white-space:pre;overflow-x:auto;line-height:normal;font-family:Menlo,'DejaVu Sans Mono',consolas,'Courier New',monospace\">copied weights for backbone.body.layer1.<span style=\"color: #008080; text-decoration-color: #008080; font-weight: bold\">0.</span>downsample.<span style=\"color: #008080; text-decoration-color: #008080; font-weight: bold\">1.</span>running_var\n",
              "</pre>\n"
            ]
          },
          "metadata": {}
        },
        {
          "output_type": "display_data",
          "data": {
            "text/plain": [
              "copied weights for backbone.body.layer1.\u001b[1;36m1.\u001b[0mconv1.weight\n"
            ],
            "text/html": [
              "<pre style=\"white-space:pre;overflow-x:auto;line-height:normal;font-family:Menlo,'DejaVu Sans Mono',consolas,'Courier New',monospace\">copied weights for backbone.body.layer1.<span style=\"color: #008080; text-decoration-color: #008080; font-weight: bold\">1.</span>conv1.weight\n",
              "</pre>\n"
            ]
          },
          "metadata": {}
        },
        {
          "output_type": "display_data",
          "data": {
            "text/plain": [
              "copied weights for backbone.body.layer1.\u001b[1;36m1.\u001b[0mbn1.weight\n"
            ],
            "text/html": [
              "<pre style=\"white-space:pre;overflow-x:auto;line-height:normal;font-family:Menlo,'DejaVu Sans Mono',consolas,'Courier New',monospace\">copied weights for backbone.body.layer1.<span style=\"color: #008080; text-decoration-color: #008080; font-weight: bold\">1.</span>bn1.weight\n",
              "</pre>\n"
            ]
          },
          "metadata": {}
        },
        {
          "output_type": "display_data",
          "data": {
            "text/plain": [
              "copied weights for backbone.body.layer1.\u001b[1;36m1.\u001b[0mbn1.bias\n"
            ],
            "text/html": [
              "<pre style=\"white-space:pre;overflow-x:auto;line-height:normal;font-family:Menlo,'DejaVu Sans Mono',consolas,'Courier New',monospace\">copied weights for backbone.body.layer1.<span style=\"color: #008080; text-decoration-color: #008080; font-weight: bold\">1.</span>bn1.bias\n",
              "</pre>\n"
            ]
          },
          "metadata": {}
        },
        {
          "output_type": "display_data",
          "data": {
            "text/plain": [
              "copied weights for backbone.body.layer1.\u001b[1;36m1.\u001b[0mbn1.running_mean\n"
            ],
            "text/html": [
              "<pre style=\"white-space:pre;overflow-x:auto;line-height:normal;font-family:Menlo,'DejaVu Sans Mono',consolas,'Courier New',monospace\">copied weights for backbone.body.layer1.<span style=\"color: #008080; text-decoration-color: #008080; font-weight: bold\">1.</span>bn1.running_mean\n",
              "</pre>\n"
            ]
          },
          "metadata": {}
        },
        {
          "output_type": "display_data",
          "data": {
            "text/plain": [
              "copied weights for backbone.body.layer1.\u001b[1;36m1.\u001b[0mbn1.running_var\n"
            ],
            "text/html": [
              "<pre style=\"white-space:pre;overflow-x:auto;line-height:normal;font-family:Menlo,'DejaVu Sans Mono',consolas,'Courier New',monospace\">copied weights for backbone.body.layer1.<span style=\"color: #008080; text-decoration-color: #008080; font-weight: bold\">1.</span>bn1.running_var\n",
              "</pre>\n"
            ]
          },
          "metadata": {}
        },
        {
          "output_type": "display_data",
          "data": {
            "text/plain": [
              "copied weights for backbone.body.layer1.\u001b[1;36m1.\u001b[0mconv2.weight\n"
            ],
            "text/html": [
              "<pre style=\"white-space:pre;overflow-x:auto;line-height:normal;font-family:Menlo,'DejaVu Sans Mono',consolas,'Courier New',monospace\">copied weights for backbone.body.layer1.<span style=\"color: #008080; text-decoration-color: #008080; font-weight: bold\">1.</span>conv2.weight\n",
              "</pre>\n"
            ]
          },
          "metadata": {}
        },
        {
          "output_type": "display_data",
          "data": {
            "text/plain": [
              "copied weights for backbone.body.layer1.\u001b[1;36m1.\u001b[0mbn2.weight\n"
            ],
            "text/html": [
              "<pre style=\"white-space:pre;overflow-x:auto;line-height:normal;font-family:Menlo,'DejaVu Sans Mono',consolas,'Courier New',monospace\">copied weights for backbone.body.layer1.<span style=\"color: #008080; text-decoration-color: #008080; font-weight: bold\">1.</span>bn2.weight\n",
              "</pre>\n"
            ]
          },
          "metadata": {}
        },
        {
          "output_type": "display_data",
          "data": {
            "text/plain": [
              "copied weights for backbone.body.layer1.\u001b[1;36m1.\u001b[0mbn2.bias\n"
            ],
            "text/html": [
              "<pre style=\"white-space:pre;overflow-x:auto;line-height:normal;font-family:Menlo,'DejaVu Sans Mono',consolas,'Courier New',monospace\">copied weights for backbone.body.layer1.<span style=\"color: #008080; text-decoration-color: #008080; font-weight: bold\">1.</span>bn2.bias\n",
              "</pre>\n"
            ]
          },
          "metadata": {}
        },
        {
          "output_type": "display_data",
          "data": {
            "text/plain": [
              "copied weights for backbone.body.layer1.\u001b[1;36m1.\u001b[0mbn2.running_mean\n"
            ],
            "text/html": [
              "<pre style=\"white-space:pre;overflow-x:auto;line-height:normal;font-family:Menlo,'DejaVu Sans Mono',consolas,'Courier New',monospace\">copied weights for backbone.body.layer1.<span style=\"color: #008080; text-decoration-color: #008080; font-weight: bold\">1.</span>bn2.running_mean\n",
              "</pre>\n"
            ]
          },
          "metadata": {}
        },
        {
          "output_type": "display_data",
          "data": {
            "text/plain": [
              "copied weights for backbone.body.layer1.\u001b[1;36m1.\u001b[0mbn2.running_var\n"
            ],
            "text/html": [
              "<pre style=\"white-space:pre;overflow-x:auto;line-height:normal;font-family:Menlo,'DejaVu Sans Mono',consolas,'Courier New',monospace\">copied weights for backbone.body.layer1.<span style=\"color: #008080; text-decoration-color: #008080; font-weight: bold\">1.</span>bn2.running_var\n",
              "</pre>\n"
            ]
          },
          "metadata": {}
        },
        {
          "output_type": "display_data",
          "data": {
            "text/plain": [
              "copied weights for backbone.body.layer1.\u001b[1;36m1.\u001b[0mconv3.weight\n"
            ],
            "text/html": [
              "<pre style=\"white-space:pre;overflow-x:auto;line-height:normal;font-family:Menlo,'DejaVu Sans Mono',consolas,'Courier New',monospace\">copied weights for backbone.body.layer1.<span style=\"color: #008080; text-decoration-color: #008080; font-weight: bold\">1.</span>conv3.weight\n",
              "</pre>\n"
            ]
          },
          "metadata": {}
        },
        {
          "output_type": "display_data",
          "data": {
            "text/plain": [
              "copied weights for backbone.body.layer1.\u001b[1;36m1.\u001b[0mbn3.weight\n"
            ],
            "text/html": [
              "<pre style=\"white-space:pre;overflow-x:auto;line-height:normal;font-family:Menlo,'DejaVu Sans Mono',consolas,'Courier New',monospace\">copied weights for backbone.body.layer1.<span style=\"color: #008080; text-decoration-color: #008080; font-weight: bold\">1.</span>bn3.weight\n",
              "</pre>\n"
            ]
          },
          "metadata": {}
        },
        {
          "output_type": "display_data",
          "data": {
            "text/plain": [
              "copied weights for backbone.body.layer1.\u001b[1;36m1.\u001b[0mbn3.bias\n"
            ],
            "text/html": [
              "<pre style=\"white-space:pre;overflow-x:auto;line-height:normal;font-family:Menlo,'DejaVu Sans Mono',consolas,'Courier New',monospace\">copied weights for backbone.body.layer1.<span style=\"color: #008080; text-decoration-color: #008080; font-weight: bold\">1.</span>bn3.bias\n",
              "</pre>\n"
            ]
          },
          "metadata": {}
        },
        {
          "output_type": "display_data",
          "data": {
            "text/plain": [
              "copied weights for backbone.body.layer1.\u001b[1;36m1.\u001b[0mbn3.running_mean\n"
            ],
            "text/html": [
              "<pre style=\"white-space:pre;overflow-x:auto;line-height:normal;font-family:Menlo,'DejaVu Sans Mono',consolas,'Courier New',monospace\">copied weights for backbone.body.layer1.<span style=\"color: #008080; text-decoration-color: #008080; font-weight: bold\">1.</span>bn3.running_mean\n",
              "</pre>\n"
            ]
          },
          "metadata": {}
        },
        {
          "output_type": "display_data",
          "data": {
            "text/plain": [
              "copied weights for backbone.body.layer1.\u001b[1;36m1.\u001b[0mbn3.running_var\n"
            ],
            "text/html": [
              "<pre style=\"white-space:pre;overflow-x:auto;line-height:normal;font-family:Menlo,'DejaVu Sans Mono',consolas,'Courier New',monospace\">copied weights for backbone.body.layer1.<span style=\"color: #008080; text-decoration-color: #008080; font-weight: bold\">1.</span>bn3.running_var\n",
              "</pre>\n"
            ]
          },
          "metadata": {}
        },
        {
          "output_type": "display_data",
          "data": {
            "text/plain": [
              "copied weights for backbone.body.layer1.\u001b[1;36m2.\u001b[0mconv1.weight\n"
            ],
            "text/html": [
              "<pre style=\"white-space:pre;overflow-x:auto;line-height:normal;font-family:Menlo,'DejaVu Sans Mono',consolas,'Courier New',monospace\">copied weights for backbone.body.layer1.<span style=\"color: #008080; text-decoration-color: #008080; font-weight: bold\">2.</span>conv1.weight\n",
              "</pre>\n"
            ]
          },
          "metadata": {}
        },
        {
          "output_type": "display_data",
          "data": {
            "text/plain": [
              "copied weights for backbone.body.layer1.\u001b[1;36m2.\u001b[0mbn1.weight\n"
            ],
            "text/html": [
              "<pre style=\"white-space:pre;overflow-x:auto;line-height:normal;font-family:Menlo,'DejaVu Sans Mono',consolas,'Courier New',monospace\">copied weights for backbone.body.layer1.<span style=\"color: #008080; text-decoration-color: #008080; font-weight: bold\">2.</span>bn1.weight\n",
              "</pre>\n"
            ]
          },
          "metadata": {}
        },
        {
          "output_type": "display_data",
          "data": {
            "text/plain": [
              "copied weights for backbone.body.layer1.\u001b[1;36m2.\u001b[0mbn1.bias\n"
            ],
            "text/html": [
              "<pre style=\"white-space:pre;overflow-x:auto;line-height:normal;font-family:Menlo,'DejaVu Sans Mono',consolas,'Courier New',monospace\">copied weights for backbone.body.layer1.<span style=\"color: #008080; text-decoration-color: #008080; font-weight: bold\">2.</span>bn1.bias\n",
              "</pre>\n"
            ]
          },
          "metadata": {}
        },
        {
          "output_type": "display_data",
          "data": {
            "text/plain": [
              "copied weights for backbone.body.layer1.\u001b[1;36m2.\u001b[0mbn1.running_mean\n"
            ],
            "text/html": [
              "<pre style=\"white-space:pre;overflow-x:auto;line-height:normal;font-family:Menlo,'DejaVu Sans Mono',consolas,'Courier New',monospace\">copied weights for backbone.body.layer1.<span style=\"color: #008080; text-decoration-color: #008080; font-weight: bold\">2.</span>bn1.running_mean\n",
              "</pre>\n"
            ]
          },
          "metadata": {}
        },
        {
          "output_type": "display_data",
          "data": {
            "text/plain": [
              "copied weights for backbone.body.layer1.\u001b[1;36m2.\u001b[0mbn1.running_var\n"
            ],
            "text/html": [
              "<pre style=\"white-space:pre;overflow-x:auto;line-height:normal;font-family:Menlo,'DejaVu Sans Mono',consolas,'Courier New',monospace\">copied weights for backbone.body.layer1.<span style=\"color: #008080; text-decoration-color: #008080; font-weight: bold\">2.</span>bn1.running_var\n",
              "</pre>\n"
            ]
          },
          "metadata": {}
        },
        {
          "output_type": "display_data",
          "data": {
            "text/plain": [
              "copied weights for backbone.body.layer1.\u001b[1;36m2.\u001b[0mconv2.weight\n"
            ],
            "text/html": [
              "<pre style=\"white-space:pre;overflow-x:auto;line-height:normal;font-family:Menlo,'DejaVu Sans Mono',consolas,'Courier New',monospace\">copied weights for backbone.body.layer1.<span style=\"color: #008080; text-decoration-color: #008080; font-weight: bold\">2.</span>conv2.weight\n",
              "</pre>\n"
            ]
          },
          "metadata": {}
        },
        {
          "output_type": "display_data",
          "data": {
            "text/plain": [
              "copied weights for backbone.body.layer1.\u001b[1;36m2.\u001b[0mbn2.weight\n"
            ],
            "text/html": [
              "<pre style=\"white-space:pre;overflow-x:auto;line-height:normal;font-family:Menlo,'DejaVu Sans Mono',consolas,'Courier New',monospace\">copied weights for backbone.body.layer1.<span style=\"color: #008080; text-decoration-color: #008080; font-weight: bold\">2.</span>bn2.weight\n",
              "</pre>\n"
            ]
          },
          "metadata": {}
        },
        {
          "output_type": "display_data",
          "data": {
            "text/plain": [
              "copied weights for backbone.body.layer1.\u001b[1;36m2.\u001b[0mbn2.bias\n"
            ],
            "text/html": [
              "<pre style=\"white-space:pre;overflow-x:auto;line-height:normal;font-family:Menlo,'DejaVu Sans Mono',consolas,'Courier New',monospace\">copied weights for backbone.body.layer1.<span style=\"color: #008080; text-decoration-color: #008080; font-weight: bold\">2.</span>bn2.bias\n",
              "</pre>\n"
            ]
          },
          "metadata": {}
        },
        {
          "output_type": "display_data",
          "data": {
            "text/plain": [
              "copied weights for backbone.body.layer1.\u001b[1;36m2.\u001b[0mbn2.running_mean\n"
            ],
            "text/html": [
              "<pre style=\"white-space:pre;overflow-x:auto;line-height:normal;font-family:Menlo,'DejaVu Sans Mono',consolas,'Courier New',monospace\">copied weights for backbone.body.layer1.<span style=\"color: #008080; text-decoration-color: #008080; font-weight: bold\">2.</span>bn2.running_mean\n",
              "</pre>\n"
            ]
          },
          "metadata": {}
        },
        {
          "output_type": "display_data",
          "data": {
            "text/plain": [
              "copied weights for backbone.body.layer1.\u001b[1;36m2.\u001b[0mbn2.running_var\n"
            ],
            "text/html": [
              "<pre style=\"white-space:pre;overflow-x:auto;line-height:normal;font-family:Menlo,'DejaVu Sans Mono',consolas,'Courier New',monospace\">copied weights for backbone.body.layer1.<span style=\"color: #008080; text-decoration-color: #008080; font-weight: bold\">2.</span>bn2.running_var\n",
              "</pre>\n"
            ]
          },
          "metadata": {}
        },
        {
          "output_type": "display_data",
          "data": {
            "text/plain": [
              "copied weights for backbone.body.layer1.\u001b[1;36m2.\u001b[0mconv3.weight\n"
            ],
            "text/html": [
              "<pre style=\"white-space:pre;overflow-x:auto;line-height:normal;font-family:Menlo,'DejaVu Sans Mono',consolas,'Courier New',monospace\">copied weights for backbone.body.layer1.<span style=\"color: #008080; text-decoration-color: #008080; font-weight: bold\">2.</span>conv3.weight\n",
              "</pre>\n"
            ]
          },
          "metadata": {}
        },
        {
          "output_type": "display_data",
          "data": {
            "text/plain": [
              "copied weights for backbone.body.layer1.\u001b[1;36m2.\u001b[0mbn3.weight\n"
            ],
            "text/html": [
              "<pre style=\"white-space:pre;overflow-x:auto;line-height:normal;font-family:Menlo,'DejaVu Sans Mono',consolas,'Courier New',monospace\">copied weights for backbone.body.layer1.<span style=\"color: #008080; text-decoration-color: #008080; font-weight: bold\">2.</span>bn3.weight\n",
              "</pre>\n"
            ]
          },
          "metadata": {}
        },
        {
          "output_type": "display_data",
          "data": {
            "text/plain": [
              "copied weights for backbone.body.layer1.\u001b[1;36m2.\u001b[0mbn3.bias\n"
            ],
            "text/html": [
              "<pre style=\"white-space:pre;overflow-x:auto;line-height:normal;font-family:Menlo,'DejaVu Sans Mono',consolas,'Courier New',monospace\">copied weights for backbone.body.layer1.<span style=\"color: #008080; text-decoration-color: #008080; font-weight: bold\">2.</span>bn3.bias\n",
              "</pre>\n"
            ]
          },
          "metadata": {}
        },
        {
          "output_type": "display_data",
          "data": {
            "text/plain": [
              "copied weights for backbone.body.layer1.\u001b[1;36m2.\u001b[0mbn3.running_mean\n"
            ],
            "text/html": [
              "<pre style=\"white-space:pre;overflow-x:auto;line-height:normal;font-family:Menlo,'DejaVu Sans Mono',consolas,'Courier New',monospace\">copied weights for backbone.body.layer1.<span style=\"color: #008080; text-decoration-color: #008080; font-weight: bold\">2.</span>bn3.running_mean\n",
              "</pre>\n"
            ]
          },
          "metadata": {}
        },
        {
          "output_type": "display_data",
          "data": {
            "text/plain": [
              "copied weights for backbone.body.layer1.\u001b[1;36m2.\u001b[0mbn3.running_var\n"
            ],
            "text/html": [
              "<pre style=\"white-space:pre;overflow-x:auto;line-height:normal;font-family:Menlo,'DejaVu Sans Mono',consolas,'Courier New',monospace\">copied weights for backbone.body.layer1.<span style=\"color: #008080; text-decoration-color: #008080; font-weight: bold\">2.</span>bn3.running_var\n",
              "</pre>\n"
            ]
          },
          "metadata": {}
        },
        {
          "output_type": "display_data",
          "data": {
            "text/plain": [
              "copied weights for backbone.body.layer2.\u001b[1;36m0.\u001b[0mconv1.weight\n"
            ],
            "text/html": [
              "<pre style=\"white-space:pre;overflow-x:auto;line-height:normal;font-family:Menlo,'DejaVu Sans Mono',consolas,'Courier New',monospace\">copied weights for backbone.body.layer2.<span style=\"color: #008080; text-decoration-color: #008080; font-weight: bold\">0.</span>conv1.weight\n",
              "</pre>\n"
            ]
          },
          "metadata": {}
        },
        {
          "output_type": "display_data",
          "data": {
            "text/plain": [
              "copied weights for backbone.body.layer2.\u001b[1;36m0.\u001b[0mbn1.weight\n"
            ],
            "text/html": [
              "<pre style=\"white-space:pre;overflow-x:auto;line-height:normal;font-family:Menlo,'DejaVu Sans Mono',consolas,'Courier New',monospace\">copied weights for backbone.body.layer2.<span style=\"color: #008080; text-decoration-color: #008080; font-weight: bold\">0.</span>bn1.weight\n",
              "</pre>\n"
            ]
          },
          "metadata": {}
        },
        {
          "output_type": "display_data",
          "data": {
            "text/plain": [
              "copied weights for backbone.body.layer2.\u001b[1;36m0.\u001b[0mbn1.bias\n"
            ],
            "text/html": [
              "<pre style=\"white-space:pre;overflow-x:auto;line-height:normal;font-family:Menlo,'DejaVu Sans Mono',consolas,'Courier New',monospace\">copied weights for backbone.body.layer2.<span style=\"color: #008080; text-decoration-color: #008080; font-weight: bold\">0.</span>bn1.bias\n",
              "</pre>\n"
            ]
          },
          "metadata": {}
        },
        {
          "output_type": "display_data",
          "data": {
            "text/plain": [
              "copied weights for backbone.body.layer2.\u001b[1;36m0.\u001b[0mbn1.running_mean\n"
            ],
            "text/html": [
              "<pre style=\"white-space:pre;overflow-x:auto;line-height:normal;font-family:Menlo,'DejaVu Sans Mono',consolas,'Courier New',monospace\">copied weights for backbone.body.layer2.<span style=\"color: #008080; text-decoration-color: #008080; font-weight: bold\">0.</span>bn1.running_mean\n",
              "</pre>\n"
            ]
          },
          "metadata": {}
        },
        {
          "output_type": "display_data",
          "data": {
            "text/plain": [
              "copied weights for backbone.body.layer2.\u001b[1;36m0.\u001b[0mbn1.running_var\n"
            ],
            "text/html": [
              "<pre style=\"white-space:pre;overflow-x:auto;line-height:normal;font-family:Menlo,'DejaVu Sans Mono',consolas,'Courier New',monospace\">copied weights for backbone.body.layer2.<span style=\"color: #008080; text-decoration-color: #008080; font-weight: bold\">0.</span>bn1.running_var\n",
              "</pre>\n"
            ]
          },
          "metadata": {}
        },
        {
          "output_type": "display_data",
          "data": {
            "text/plain": [
              "copied weights for backbone.body.layer2.\u001b[1;36m0.\u001b[0mconv2.weight\n"
            ],
            "text/html": [
              "<pre style=\"white-space:pre;overflow-x:auto;line-height:normal;font-family:Menlo,'DejaVu Sans Mono',consolas,'Courier New',monospace\">copied weights for backbone.body.layer2.<span style=\"color: #008080; text-decoration-color: #008080; font-weight: bold\">0.</span>conv2.weight\n",
              "</pre>\n"
            ]
          },
          "metadata": {}
        },
        {
          "output_type": "display_data",
          "data": {
            "text/plain": [
              "copied weights for backbone.body.layer2.\u001b[1;36m0.\u001b[0mbn2.weight\n"
            ],
            "text/html": [
              "<pre style=\"white-space:pre;overflow-x:auto;line-height:normal;font-family:Menlo,'DejaVu Sans Mono',consolas,'Courier New',monospace\">copied weights for backbone.body.layer2.<span style=\"color: #008080; text-decoration-color: #008080; font-weight: bold\">0.</span>bn2.weight\n",
              "</pre>\n"
            ]
          },
          "metadata": {}
        },
        {
          "output_type": "display_data",
          "data": {
            "text/plain": [
              "copied weights for backbone.body.layer2.\u001b[1;36m0.\u001b[0mbn2.bias\n"
            ],
            "text/html": [
              "<pre style=\"white-space:pre;overflow-x:auto;line-height:normal;font-family:Menlo,'DejaVu Sans Mono',consolas,'Courier New',monospace\">copied weights for backbone.body.layer2.<span style=\"color: #008080; text-decoration-color: #008080; font-weight: bold\">0.</span>bn2.bias\n",
              "</pre>\n"
            ]
          },
          "metadata": {}
        },
        {
          "output_type": "display_data",
          "data": {
            "text/plain": [
              "copied weights for backbone.body.layer2.\u001b[1;36m0.\u001b[0mbn2.running_mean\n"
            ],
            "text/html": [
              "<pre style=\"white-space:pre;overflow-x:auto;line-height:normal;font-family:Menlo,'DejaVu Sans Mono',consolas,'Courier New',monospace\">copied weights for backbone.body.layer2.<span style=\"color: #008080; text-decoration-color: #008080; font-weight: bold\">0.</span>bn2.running_mean\n",
              "</pre>\n"
            ]
          },
          "metadata": {}
        },
        {
          "output_type": "display_data",
          "data": {
            "text/plain": [
              "copied weights for backbone.body.layer2.\u001b[1;36m0.\u001b[0mbn2.running_var\n"
            ],
            "text/html": [
              "<pre style=\"white-space:pre;overflow-x:auto;line-height:normal;font-family:Menlo,'DejaVu Sans Mono',consolas,'Courier New',monospace\">copied weights for backbone.body.layer2.<span style=\"color: #008080; text-decoration-color: #008080; font-weight: bold\">0.</span>bn2.running_var\n",
              "</pre>\n"
            ]
          },
          "metadata": {}
        },
        {
          "output_type": "display_data",
          "data": {
            "text/plain": [
              "copied weights for backbone.body.layer2.\u001b[1;36m0.\u001b[0mconv3.weight\n"
            ],
            "text/html": [
              "<pre style=\"white-space:pre;overflow-x:auto;line-height:normal;font-family:Menlo,'DejaVu Sans Mono',consolas,'Courier New',monospace\">copied weights for backbone.body.layer2.<span style=\"color: #008080; text-decoration-color: #008080; font-weight: bold\">0.</span>conv3.weight\n",
              "</pre>\n"
            ]
          },
          "metadata": {}
        },
        {
          "output_type": "display_data",
          "data": {
            "text/plain": [
              "copied weights for backbone.body.layer2.\u001b[1;36m0.\u001b[0mbn3.weight\n"
            ],
            "text/html": [
              "<pre style=\"white-space:pre;overflow-x:auto;line-height:normal;font-family:Menlo,'DejaVu Sans Mono',consolas,'Courier New',monospace\">copied weights for backbone.body.layer2.<span style=\"color: #008080; text-decoration-color: #008080; font-weight: bold\">0.</span>bn3.weight\n",
              "</pre>\n"
            ]
          },
          "metadata": {}
        },
        {
          "output_type": "display_data",
          "data": {
            "text/plain": [
              "copied weights for backbone.body.layer2.\u001b[1;36m0.\u001b[0mbn3.bias\n"
            ],
            "text/html": [
              "<pre style=\"white-space:pre;overflow-x:auto;line-height:normal;font-family:Menlo,'DejaVu Sans Mono',consolas,'Courier New',monospace\">copied weights for backbone.body.layer2.<span style=\"color: #008080; text-decoration-color: #008080; font-weight: bold\">0.</span>bn3.bias\n",
              "</pre>\n"
            ]
          },
          "metadata": {}
        },
        {
          "output_type": "display_data",
          "data": {
            "text/plain": [
              "copied weights for backbone.body.layer2.\u001b[1;36m0.\u001b[0mbn3.running_mean\n"
            ],
            "text/html": [
              "<pre style=\"white-space:pre;overflow-x:auto;line-height:normal;font-family:Menlo,'DejaVu Sans Mono',consolas,'Courier New',monospace\">copied weights for backbone.body.layer2.<span style=\"color: #008080; text-decoration-color: #008080; font-weight: bold\">0.</span>bn3.running_mean\n",
              "</pre>\n"
            ]
          },
          "metadata": {}
        },
        {
          "output_type": "display_data",
          "data": {
            "text/plain": [
              "copied weights for backbone.body.layer2.\u001b[1;36m0.\u001b[0mbn3.running_var\n"
            ],
            "text/html": [
              "<pre style=\"white-space:pre;overflow-x:auto;line-height:normal;font-family:Menlo,'DejaVu Sans Mono',consolas,'Courier New',monospace\">copied weights for backbone.body.layer2.<span style=\"color: #008080; text-decoration-color: #008080; font-weight: bold\">0.</span>bn3.running_var\n",
              "</pre>\n"
            ]
          },
          "metadata": {}
        },
        {
          "output_type": "display_data",
          "data": {
            "text/plain": [
              "copied weights for backbone.body.layer2.\u001b[1;36m0.\u001b[0mdownsample.\u001b[1;36m0.\u001b[0mweight\n"
            ],
            "text/html": [
              "<pre style=\"white-space:pre;overflow-x:auto;line-height:normal;font-family:Menlo,'DejaVu Sans Mono',consolas,'Courier New',monospace\">copied weights for backbone.body.layer2.<span style=\"color: #008080; text-decoration-color: #008080; font-weight: bold\">0.</span>downsample.<span style=\"color: #008080; text-decoration-color: #008080; font-weight: bold\">0.</span>weight\n",
              "</pre>\n"
            ]
          },
          "metadata": {}
        },
        {
          "output_type": "display_data",
          "data": {
            "text/plain": [
              "copied weights for backbone.body.layer2.\u001b[1;36m0.\u001b[0mdownsample.\u001b[1;36m1.\u001b[0mweight\n"
            ],
            "text/html": [
              "<pre style=\"white-space:pre;overflow-x:auto;line-height:normal;font-family:Menlo,'DejaVu Sans Mono',consolas,'Courier New',monospace\">copied weights for backbone.body.layer2.<span style=\"color: #008080; text-decoration-color: #008080; font-weight: bold\">0.</span>downsample.<span style=\"color: #008080; text-decoration-color: #008080; font-weight: bold\">1.</span>weight\n",
              "</pre>\n"
            ]
          },
          "metadata": {}
        },
        {
          "output_type": "display_data",
          "data": {
            "text/plain": [
              "copied weights for backbone.body.layer2.\u001b[1;36m0.\u001b[0mdownsample.\u001b[1;36m1.\u001b[0mbias\n"
            ],
            "text/html": [
              "<pre style=\"white-space:pre;overflow-x:auto;line-height:normal;font-family:Menlo,'DejaVu Sans Mono',consolas,'Courier New',monospace\">copied weights for backbone.body.layer2.<span style=\"color: #008080; text-decoration-color: #008080; font-weight: bold\">0.</span>downsample.<span style=\"color: #008080; text-decoration-color: #008080; font-weight: bold\">1.</span>bias\n",
              "</pre>\n"
            ]
          },
          "metadata": {}
        },
        {
          "output_type": "display_data",
          "data": {
            "text/plain": [
              "copied weights for backbone.body.layer2.\u001b[1;36m0.\u001b[0mdownsample.\u001b[1;36m1.\u001b[0mrunning_mean\n"
            ],
            "text/html": [
              "<pre style=\"white-space:pre;overflow-x:auto;line-height:normal;font-family:Menlo,'DejaVu Sans Mono',consolas,'Courier New',monospace\">copied weights for backbone.body.layer2.<span style=\"color: #008080; text-decoration-color: #008080; font-weight: bold\">0.</span>downsample.<span style=\"color: #008080; text-decoration-color: #008080; font-weight: bold\">1.</span>running_mean\n",
              "</pre>\n"
            ]
          },
          "metadata": {}
        },
        {
          "output_type": "display_data",
          "data": {
            "text/plain": [
              "copied weights for backbone.body.layer2.\u001b[1;36m0.\u001b[0mdownsample.\u001b[1;36m1.\u001b[0mrunning_var\n"
            ],
            "text/html": [
              "<pre style=\"white-space:pre;overflow-x:auto;line-height:normal;font-family:Menlo,'DejaVu Sans Mono',consolas,'Courier New',monospace\">copied weights for backbone.body.layer2.<span style=\"color: #008080; text-decoration-color: #008080; font-weight: bold\">0.</span>downsample.<span style=\"color: #008080; text-decoration-color: #008080; font-weight: bold\">1.</span>running_var\n",
              "</pre>\n"
            ]
          },
          "metadata": {}
        },
        {
          "output_type": "display_data",
          "data": {
            "text/plain": [
              "copied weights for backbone.body.layer2.\u001b[1;36m1.\u001b[0mconv1.weight\n"
            ],
            "text/html": [
              "<pre style=\"white-space:pre;overflow-x:auto;line-height:normal;font-family:Menlo,'DejaVu Sans Mono',consolas,'Courier New',monospace\">copied weights for backbone.body.layer2.<span style=\"color: #008080; text-decoration-color: #008080; font-weight: bold\">1.</span>conv1.weight\n",
              "</pre>\n"
            ]
          },
          "metadata": {}
        },
        {
          "output_type": "display_data",
          "data": {
            "text/plain": [
              "copied weights for backbone.body.layer2.\u001b[1;36m1.\u001b[0mbn1.weight\n"
            ],
            "text/html": [
              "<pre style=\"white-space:pre;overflow-x:auto;line-height:normal;font-family:Menlo,'DejaVu Sans Mono',consolas,'Courier New',monospace\">copied weights for backbone.body.layer2.<span style=\"color: #008080; text-decoration-color: #008080; font-weight: bold\">1.</span>bn1.weight\n",
              "</pre>\n"
            ]
          },
          "metadata": {}
        },
        {
          "output_type": "display_data",
          "data": {
            "text/plain": [
              "copied weights for backbone.body.layer2.\u001b[1;36m1.\u001b[0mbn1.bias\n"
            ],
            "text/html": [
              "<pre style=\"white-space:pre;overflow-x:auto;line-height:normal;font-family:Menlo,'DejaVu Sans Mono',consolas,'Courier New',monospace\">copied weights for backbone.body.layer2.<span style=\"color: #008080; text-decoration-color: #008080; font-weight: bold\">1.</span>bn1.bias\n",
              "</pre>\n"
            ]
          },
          "metadata": {}
        },
        {
          "output_type": "display_data",
          "data": {
            "text/plain": [
              "copied weights for backbone.body.layer2.\u001b[1;36m1.\u001b[0mbn1.running_mean\n"
            ],
            "text/html": [
              "<pre style=\"white-space:pre;overflow-x:auto;line-height:normal;font-family:Menlo,'DejaVu Sans Mono',consolas,'Courier New',monospace\">copied weights for backbone.body.layer2.<span style=\"color: #008080; text-decoration-color: #008080; font-weight: bold\">1.</span>bn1.running_mean\n",
              "</pre>\n"
            ]
          },
          "metadata": {}
        },
        {
          "output_type": "display_data",
          "data": {
            "text/plain": [
              "copied weights for backbone.body.layer2.\u001b[1;36m1.\u001b[0mbn1.running_var\n"
            ],
            "text/html": [
              "<pre style=\"white-space:pre;overflow-x:auto;line-height:normal;font-family:Menlo,'DejaVu Sans Mono',consolas,'Courier New',monospace\">copied weights for backbone.body.layer2.<span style=\"color: #008080; text-decoration-color: #008080; font-weight: bold\">1.</span>bn1.running_var\n",
              "</pre>\n"
            ]
          },
          "metadata": {}
        },
        {
          "output_type": "display_data",
          "data": {
            "text/plain": [
              "copied weights for backbone.body.layer2.\u001b[1;36m1.\u001b[0mconv2.weight\n"
            ],
            "text/html": [
              "<pre style=\"white-space:pre;overflow-x:auto;line-height:normal;font-family:Menlo,'DejaVu Sans Mono',consolas,'Courier New',monospace\">copied weights for backbone.body.layer2.<span style=\"color: #008080; text-decoration-color: #008080; font-weight: bold\">1.</span>conv2.weight\n",
              "</pre>\n"
            ]
          },
          "metadata": {}
        },
        {
          "output_type": "display_data",
          "data": {
            "text/plain": [
              "copied weights for backbone.body.layer2.\u001b[1;36m1.\u001b[0mbn2.weight\n"
            ],
            "text/html": [
              "<pre style=\"white-space:pre;overflow-x:auto;line-height:normal;font-family:Menlo,'DejaVu Sans Mono',consolas,'Courier New',monospace\">copied weights for backbone.body.layer2.<span style=\"color: #008080; text-decoration-color: #008080; font-weight: bold\">1.</span>bn2.weight\n",
              "</pre>\n"
            ]
          },
          "metadata": {}
        },
        {
          "output_type": "display_data",
          "data": {
            "text/plain": [
              "copied weights for backbone.body.layer2.\u001b[1;36m1.\u001b[0mbn2.bias\n"
            ],
            "text/html": [
              "<pre style=\"white-space:pre;overflow-x:auto;line-height:normal;font-family:Menlo,'DejaVu Sans Mono',consolas,'Courier New',monospace\">copied weights for backbone.body.layer2.<span style=\"color: #008080; text-decoration-color: #008080; font-weight: bold\">1.</span>bn2.bias\n",
              "</pre>\n"
            ]
          },
          "metadata": {}
        },
        {
          "output_type": "display_data",
          "data": {
            "text/plain": [
              "copied weights for backbone.body.layer2.\u001b[1;36m1.\u001b[0mbn2.running_mean\n"
            ],
            "text/html": [
              "<pre style=\"white-space:pre;overflow-x:auto;line-height:normal;font-family:Menlo,'DejaVu Sans Mono',consolas,'Courier New',monospace\">copied weights for backbone.body.layer2.<span style=\"color: #008080; text-decoration-color: #008080; font-weight: bold\">1.</span>bn2.running_mean\n",
              "</pre>\n"
            ]
          },
          "metadata": {}
        },
        {
          "output_type": "display_data",
          "data": {
            "text/plain": [
              "copied weights for backbone.body.layer2.\u001b[1;36m1.\u001b[0mbn2.running_var\n"
            ],
            "text/html": [
              "<pre style=\"white-space:pre;overflow-x:auto;line-height:normal;font-family:Menlo,'DejaVu Sans Mono',consolas,'Courier New',monospace\">copied weights for backbone.body.layer2.<span style=\"color: #008080; text-decoration-color: #008080; font-weight: bold\">1.</span>bn2.running_var\n",
              "</pre>\n"
            ]
          },
          "metadata": {}
        },
        {
          "output_type": "display_data",
          "data": {
            "text/plain": [
              "copied weights for backbone.body.layer2.\u001b[1;36m1.\u001b[0mconv3.weight\n"
            ],
            "text/html": [
              "<pre style=\"white-space:pre;overflow-x:auto;line-height:normal;font-family:Menlo,'DejaVu Sans Mono',consolas,'Courier New',monospace\">copied weights for backbone.body.layer2.<span style=\"color: #008080; text-decoration-color: #008080; font-weight: bold\">1.</span>conv3.weight\n",
              "</pre>\n"
            ]
          },
          "metadata": {}
        },
        {
          "output_type": "display_data",
          "data": {
            "text/plain": [
              "copied weights for backbone.body.layer2.\u001b[1;36m1.\u001b[0mbn3.weight\n"
            ],
            "text/html": [
              "<pre style=\"white-space:pre;overflow-x:auto;line-height:normal;font-family:Menlo,'DejaVu Sans Mono',consolas,'Courier New',monospace\">copied weights for backbone.body.layer2.<span style=\"color: #008080; text-decoration-color: #008080; font-weight: bold\">1.</span>bn3.weight\n",
              "</pre>\n"
            ]
          },
          "metadata": {}
        },
        {
          "output_type": "display_data",
          "data": {
            "text/plain": [
              "copied weights for backbone.body.layer2.\u001b[1;36m1.\u001b[0mbn3.bias\n"
            ],
            "text/html": [
              "<pre style=\"white-space:pre;overflow-x:auto;line-height:normal;font-family:Menlo,'DejaVu Sans Mono',consolas,'Courier New',monospace\">copied weights for backbone.body.layer2.<span style=\"color: #008080; text-decoration-color: #008080; font-weight: bold\">1.</span>bn3.bias\n",
              "</pre>\n"
            ]
          },
          "metadata": {}
        },
        {
          "output_type": "display_data",
          "data": {
            "text/plain": [
              "copied weights for backbone.body.layer2.\u001b[1;36m1.\u001b[0mbn3.running_mean\n"
            ],
            "text/html": [
              "<pre style=\"white-space:pre;overflow-x:auto;line-height:normal;font-family:Menlo,'DejaVu Sans Mono',consolas,'Courier New',monospace\">copied weights for backbone.body.layer2.<span style=\"color: #008080; text-decoration-color: #008080; font-weight: bold\">1.</span>bn3.running_mean\n",
              "</pre>\n"
            ]
          },
          "metadata": {}
        },
        {
          "output_type": "display_data",
          "data": {
            "text/plain": [
              "copied weights for backbone.body.layer2.\u001b[1;36m1.\u001b[0mbn3.running_var\n"
            ],
            "text/html": [
              "<pre style=\"white-space:pre;overflow-x:auto;line-height:normal;font-family:Menlo,'DejaVu Sans Mono',consolas,'Courier New',monospace\">copied weights for backbone.body.layer2.<span style=\"color: #008080; text-decoration-color: #008080; font-weight: bold\">1.</span>bn3.running_var\n",
              "</pre>\n"
            ]
          },
          "metadata": {}
        },
        {
          "output_type": "display_data",
          "data": {
            "text/plain": [
              "copied weights for backbone.body.layer2.\u001b[1;36m2.\u001b[0mconv1.weight\n"
            ],
            "text/html": [
              "<pre style=\"white-space:pre;overflow-x:auto;line-height:normal;font-family:Menlo,'DejaVu Sans Mono',consolas,'Courier New',monospace\">copied weights for backbone.body.layer2.<span style=\"color: #008080; text-decoration-color: #008080; font-weight: bold\">2.</span>conv1.weight\n",
              "</pre>\n"
            ]
          },
          "metadata": {}
        },
        {
          "output_type": "display_data",
          "data": {
            "text/plain": [
              "copied weights for backbone.body.layer2.\u001b[1;36m2.\u001b[0mbn1.weight\n"
            ],
            "text/html": [
              "<pre style=\"white-space:pre;overflow-x:auto;line-height:normal;font-family:Menlo,'DejaVu Sans Mono',consolas,'Courier New',monospace\">copied weights for backbone.body.layer2.<span style=\"color: #008080; text-decoration-color: #008080; font-weight: bold\">2.</span>bn1.weight\n",
              "</pre>\n"
            ]
          },
          "metadata": {}
        },
        {
          "output_type": "display_data",
          "data": {
            "text/plain": [
              "copied weights for backbone.body.layer2.\u001b[1;36m2.\u001b[0mbn1.bias\n"
            ],
            "text/html": [
              "<pre style=\"white-space:pre;overflow-x:auto;line-height:normal;font-family:Menlo,'DejaVu Sans Mono',consolas,'Courier New',monospace\">copied weights for backbone.body.layer2.<span style=\"color: #008080; text-decoration-color: #008080; font-weight: bold\">2.</span>bn1.bias\n",
              "</pre>\n"
            ]
          },
          "metadata": {}
        },
        {
          "output_type": "display_data",
          "data": {
            "text/plain": [
              "copied weights for backbone.body.layer2.\u001b[1;36m2.\u001b[0mbn1.running_mean\n"
            ],
            "text/html": [
              "<pre style=\"white-space:pre;overflow-x:auto;line-height:normal;font-family:Menlo,'DejaVu Sans Mono',consolas,'Courier New',monospace\">copied weights for backbone.body.layer2.<span style=\"color: #008080; text-decoration-color: #008080; font-weight: bold\">2.</span>bn1.running_mean\n",
              "</pre>\n"
            ]
          },
          "metadata": {}
        },
        {
          "output_type": "display_data",
          "data": {
            "text/plain": [
              "copied weights for backbone.body.layer2.\u001b[1;36m2.\u001b[0mbn1.running_var\n"
            ],
            "text/html": [
              "<pre style=\"white-space:pre;overflow-x:auto;line-height:normal;font-family:Menlo,'DejaVu Sans Mono',consolas,'Courier New',monospace\">copied weights for backbone.body.layer2.<span style=\"color: #008080; text-decoration-color: #008080; font-weight: bold\">2.</span>bn1.running_var\n",
              "</pre>\n"
            ]
          },
          "metadata": {}
        },
        {
          "output_type": "display_data",
          "data": {
            "text/plain": [
              "copied weights for backbone.body.layer2.\u001b[1;36m2.\u001b[0mconv2.weight\n"
            ],
            "text/html": [
              "<pre style=\"white-space:pre;overflow-x:auto;line-height:normal;font-family:Menlo,'DejaVu Sans Mono',consolas,'Courier New',monospace\">copied weights for backbone.body.layer2.<span style=\"color: #008080; text-decoration-color: #008080; font-weight: bold\">2.</span>conv2.weight\n",
              "</pre>\n"
            ]
          },
          "metadata": {}
        },
        {
          "output_type": "display_data",
          "data": {
            "text/plain": [
              "copied weights for backbone.body.layer2.\u001b[1;36m2.\u001b[0mbn2.weight\n"
            ],
            "text/html": [
              "<pre style=\"white-space:pre;overflow-x:auto;line-height:normal;font-family:Menlo,'DejaVu Sans Mono',consolas,'Courier New',monospace\">copied weights for backbone.body.layer2.<span style=\"color: #008080; text-decoration-color: #008080; font-weight: bold\">2.</span>bn2.weight\n",
              "</pre>\n"
            ]
          },
          "metadata": {}
        },
        {
          "output_type": "display_data",
          "data": {
            "text/plain": [
              "copied weights for backbone.body.layer2.\u001b[1;36m2.\u001b[0mbn2.bias\n"
            ],
            "text/html": [
              "<pre style=\"white-space:pre;overflow-x:auto;line-height:normal;font-family:Menlo,'DejaVu Sans Mono',consolas,'Courier New',monospace\">copied weights for backbone.body.layer2.<span style=\"color: #008080; text-decoration-color: #008080; font-weight: bold\">2.</span>bn2.bias\n",
              "</pre>\n"
            ]
          },
          "metadata": {}
        },
        {
          "output_type": "display_data",
          "data": {
            "text/plain": [
              "copied weights for backbone.body.layer2.\u001b[1;36m2.\u001b[0mbn2.running_mean\n"
            ],
            "text/html": [
              "<pre style=\"white-space:pre;overflow-x:auto;line-height:normal;font-family:Menlo,'DejaVu Sans Mono',consolas,'Courier New',monospace\">copied weights for backbone.body.layer2.<span style=\"color: #008080; text-decoration-color: #008080; font-weight: bold\">2.</span>bn2.running_mean\n",
              "</pre>\n"
            ]
          },
          "metadata": {}
        },
        {
          "output_type": "display_data",
          "data": {
            "text/plain": [
              "copied weights for backbone.body.layer2.\u001b[1;36m2.\u001b[0mbn2.running_var\n"
            ],
            "text/html": [
              "<pre style=\"white-space:pre;overflow-x:auto;line-height:normal;font-family:Menlo,'DejaVu Sans Mono',consolas,'Courier New',monospace\">copied weights for backbone.body.layer2.<span style=\"color: #008080; text-decoration-color: #008080; font-weight: bold\">2.</span>bn2.running_var\n",
              "</pre>\n"
            ]
          },
          "metadata": {}
        },
        {
          "output_type": "display_data",
          "data": {
            "text/plain": [
              "copied weights for backbone.body.layer2.\u001b[1;36m2.\u001b[0mconv3.weight\n"
            ],
            "text/html": [
              "<pre style=\"white-space:pre;overflow-x:auto;line-height:normal;font-family:Menlo,'DejaVu Sans Mono',consolas,'Courier New',monospace\">copied weights for backbone.body.layer2.<span style=\"color: #008080; text-decoration-color: #008080; font-weight: bold\">2.</span>conv3.weight\n",
              "</pre>\n"
            ]
          },
          "metadata": {}
        },
        {
          "output_type": "display_data",
          "data": {
            "text/plain": [
              "copied weights for backbone.body.layer2.\u001b[1;36m2.\u001b[0mbn3.weight\n"
            ],
            "text/html": [
              "<pre style=\"white-space:pre;overflow-x:auto;line-height:normal;font-family:Menlo,'DejaVu Sans Mono',consolas,'Courier New',monospace\">copied weights for backbone.body.layer2.<span style=\"color: #008080; text-decoration-color: #008080; font-weight: bold\">2.</span>bn3.weight\n",
              "</pre>\n"
            ]
          },
          "metadata": {}
        },
        {
          "output_type": "display_data",
          "data": {
            "text/plain": [
              "copied weights for backbone.body.layer2.\u001b[1;36m2.\u001b[0mbn3.bias\n"
            ],
            "text/html": [
              "<pre style=\"white-space:pre;overflow-x:auto;line-height:normal;font-family:Menlo,'DejaVu Sans Mono',consolas,'Courier New',monospace\">copied weights for backbone.body.layer2.<span style=\"color: #008080; text-decoration-color: #008080; font-weight: bold\">2.</span>bn3.bias\n",
              "</pre>\n"
            ]
          },
          "metadata": {}
        },
        {
          "output_type": "display_data",
          "data": {
            "text/plain": [
              "copied weights for backbone.body.layer2.\u001b[1;36m2.\u001b[0mbn3.running_mean\n"
            ],
            "text/html": [
              "<pre style=\"white-space:pre;overflow-x:auto;line-height:normal;font-family:Menlo,'DejaVu Sans Mono',consolas,'Courier New',monospace\">copied weights for backbone.body.layer2.<span style=\"color: #008080; text-decoration-color: #008080; font-weight: bold\">2.</span>bn3.running_mean\n",
              "</pre>\n"
            ]
          },
          "metadata": {}
        },
        {
          "output_type": "display_data",
          "data": {
            "text/plain": [
              "copied weights for backbone.body.layer2.\u001b[1;36m2.\u001b[0mbn3.running_var\n"
            ],
            "text/html": [
              "<pre style=\"white-space:pre;overflow-x:auto;line-height:normal;font-family:Menlo,'DejaVu Sans Mono',consolas,'Courier New',monospace\">copied weights for backbone.body.layer2.<span style=\"color: #008080; text-decoration-color: #008080; font-weight: bold\">2.</span>bn3.running_var\n",
              "</pre>\n"
            ]
          },
          "metadata": {}
        },
        {
          "output_type": "display_data",
          "data": {
            "text/plain": [
              "copied weights for backbone.body.layer2.\u001b[1;36m3.\u001b[0mconv1.weight\n"
            ],
            "text/html": [
              "<pre style=\"white-space:pre;overflow-x:auto;line-height:normal;font-family:Menlo,'DejaVu Sans Mono',consolas,'Courier New',monospace\">copied weights for backbone.body.layer2.<span style=\"color: #008080; text-decoration-color: #008080; font-weight: bold\">3.</span>conv1.weight\n",
              "</pre>\n"
            ]
          },
          "metadata": {}
        },
        {
          "output_type": "display_data",
          "data": {
            "text/plain": [
              "copied weights for backbone.body.layer2.\u001b[1;36m3.\u001b[0mbn1.weight\n"
            ],
            "text/html": [
              "<pre style=\"white-space:pre;overflow-x:auto;line-height:normal;font-family:Menlo,'DejaVu Sans Mono',consolas,'Courier New',monospace\">copied weights for backbone.body.layer2.<span style=\"color: #008080; text-decoration-color: #008080; font-weight: bold\">3.</span>bn1.weight\n",
              "</pre>\n"
            ]
          },
          "metadata": {}
        },
        {
          "output_type": "display_data",
          "data": {
            "text/plain": [
              "copied weights for backbone.body.layer2.\u001b[1;36m3.\u001b[0mbn1.bias\n"
            ],
            "text/html": [
              "<pre style=\"white-space:pre;overflow-x:auto;line-height:normal;font-family:Menlo,'DejaVu Sans Mono',consolas,'Courier New',monospace\">copied weights for backbone.body.layer2.<span style=\"color: #008080; text-decoration-color: #008080; font-weight: bold\">3.</span>bn1.bias\n",
              "</pre>\n"
            ]
          },
          "metadata": {}
        },
        {
          "output_type": "display_data",
          "data": {
            "text/plain": [
              "copied weights for backbone.body.layer2.\u001b[1;36m3.\u001b[0mbn1.running_mean\n"
            ],
            "text/html": [
              "<pre style=\"white-space:pre;overflow-x:auto;line-height:normal;font-family:Menlo,'DejaVu Sans Mono',consolas,'Courier New',monospace\">copied weights for backbone.body.layer2.<span style=\"color: #008080; text-decoration-color: #008080; font-weight: bold\">3.</span>bn1.running_mean\n",
              "</pre>\n"
            ]
          },
          "metadata": {}
        },
        {
          "output_type": "display_data",
          "data": {
            "text/plain": [
              "copied weights for backbone.body.layer2.\u001b[1;36m3.\u001b[0mbn1.running_var\n"
            ],
            "text/html": [
              "<pre style=\"white-space:pre;overflow-x:auto;line-height:normal;font-family:Menlo,'DejaVu Sans Mono',consolas,'Courier New',monospace\">copied weights for backbone.body.layer2.<span style=\"color: #008080; text-decoration-color: #008080; font-weight: bold\">3.</span>bn1.running_var\n",
              "</pre>\n"
            ]
          },
          "metadata": {}
        },
        {
          "output_type": "display_data",
          "data": {
            "text/plain": [
              "copied weights for backbone.body.layer2.\u001b[1;36m3.\u001b[0mconv2.weight\n"
            ],
            "text/html": [
              "<pre style=\"white-space:pre;overflow-x:auto;line-height:normal;font-family:Menlo,'DejaVu Sans Mono',consolas,'Courier New',monospace\">copied weights for backbone.body.layer2.<span style=\"color: #008080; text-decoration-color: #008080; font-weight: bold\">3.</span>conv2.weight\n",
              "</pre>\n"
            ]
          },
          "metadata": {}
        },
        {
          "output_type": "display_data",
          "data": {
            "text/plain": [
              "copied weights for backbone.body.layer2.\u001b[1;36m3.\u001b[0mbn2.weight\n"
            ],
            "text/html": [
              "<pre style=\"white-space:pre;overflow-x:auto;line-height:normal;font-family:Menlo,'DejaVu Sans Mono',consolas,'Courier New',monospace\">copied weights for backbone.body.layer2.<span style=\"color: #008080; text-decoration-color: #008080; font-weight: bold\">3.</span>bn2.weight\n",
              "</pre>\n"
            ]
          },
          "metadata": {}
        },
        {
          "output_type": "display_data",
          "data": {
            "text/plain": [
              "copied weights for backbone.body.layer2.\u001b[1;36m3.\u001b[0mbn2.bias\n"
            ],
            "text/html": [
              "<pre style=\"white-space:pre;overflow-x:auto;line-height:normal;font-family:Menlo,'DejaVu Sans Mono',consolas,'Courier New',monospace\">copied weights for backbone.body.layer2.<span style=\"color: #008080; text-decoration-color: #008080; font-weight: bold\">3.</span>bn2.bias\n",
              "</pre>\n"
            ]
          },
          "metadata": {}
        },
        {
          "output_type": "display_data",
          "data": {
            "text/plain": [
              "copied weights for backbone.body.layer2.\u001b[1;36m3.\u001b[0mbn2.running_mean\n"
            ],
            "text/html": [
              "<pre style=\"white-space:pre;overflow-x:auto;line-height:normal;font-family:Menlo,'DejaVu Sans Mono',consolas,'Courier New',monospace\">copied weights for backbone.body.layer2.<span style=\"color: #008080; text-decoration-color: #008080; font-weight: bold\">3.</span>bn2.running_mean\n",
              "</pre>\n"
            ]
          },
          "metadata": {}
        },
        {
          "output_type": "display_data",
          "data": {
            "text/plain": [
              "copied weights for backbone.body.layer2.\u001b[1;36m3.\u001b[0mbn2.running_var\n"
            ],
            "text/html": [
              "<pre style=\"white-space:pre;overflow-x:auto;line-height:normal;font-family:Menlo,'DejaVu Sans Mono',consolas,'Courier New',monospace\">copied weights for backbone.body.layer2.<span style=\"color: #008080; text-decoration-color: #008080; font-weight: bold\">3.</span>bn2.running_var\n",
              "</pre>\n"
            ]
          },
          "metadata": {}
        },
        {
          "output_type": "display_data",
          "data": {
            "text/plain": [
              "copied weights for backbone.body.layer2.\u001b[1;36m3.\u001b[0mconv3.weight\n"
            ],
            "text/html": [
              "<pre style=\"white-space:pre;overflow-x:auto;line-height:normal;font-family:Menlo,'DejaVu Sans Mono',consolas,'Courier New',monospace\">copied weights for backbone.body.layer2.<span style=\"color: #008080; text-decoration-color: #008080; font-weight: bold\">3.</span>conv3.weight\n",
              "</pre>\n"
            ]
          },
          "metadata": {}
        },
        {
          "output_type": "display_data",
          "data": {
            "text/plain": [
              "copied weights for backbone.body.layer2.\u001b[1;36m3.\u001b[0mbn3.weight\n"
            ],
            "text/html": [
              "<pre style=\"white-space:pre;overflow-x:auto;line-height:normal;font-family:Menlo,'DejaVu Sans Mono',consolas,'Courier New',monospace\">copied weights for backbone.body.layer2.<span style=\"color: #008080; text-decoration-color: #008080; font-weight: bold\">3.</span>bn3.weight\n",
              "</pre>\n"
            ]
          },
          "metadata": {}
        },
        {
          "output_type": "display_data",
          "data": {
            "text/plain": [
              "copied weights for backbone.body.layer2.\u001b[1;36m3.\u001b[0mbn3.bias\n"
            ],
            "text/html": [
              "<pre style=\"white-space:pre;overflow-x:auto;line-height:normal;font-family:Menlo,'DejaVu Sans Mono',consolas,'Courier New',monospace\">copied weights for backbone.body.layer2.<span style=\"color: #008080; text-decoration-color: #008080; font-weight: bold\">3.</span>bn3.bias\n",
              "</pre>\n"
            ]
          },
          "metadata": {}
        },
        {
          "output_type": "display_data",
          "data": {
            "text/plain": [
              "copied weights for backbone.body.layer2.\u001b[1;36m3.\u001b[0mbn3.running_mean\n"
            ],
            "text/html": [
              "<pre style=\"white-space:pre;overflow-x:auto;line-height:normal;font-family:Menlo,'DejaVu Sans Mono',consolas,'Courier New',monospace\">copied weights for backbone.body.layer2.<span style=\"color: #008080; text-decoration-color: #008080; font-weight: bold\">3.</span>bn3.running_mean\n",
              "</pre>\n"
            ]
          },
          "metadata": {}
        },
        {
          "output_type": "display_data",
          "data": {
            "text/plain": [
              "copied weights for backbone.body.layer2.\u001b[1;36m3.\u001b[0mbn3.running_var\n"
            ],
            "text/html": [
              "<pre style=\"white-space:pre;overflow-x:auto;line-height:normal;font-family:Menlo,'DejaVu Sans Mono',consolas,'Courier New',monospace\">copied weights for backbone.body.layer2.<span style=\"color: #008080; text-decoration-color: #008080; font-weight: bold\">3.</span>bn3.running_var\n",
              "</pre>\n"
            ]
          },
          "metadata": {}
        },
        {
          "output_type": "display_data",
          "data": {
            "text/plain": [
              "copied weights for backbone.body.layer3.\u001b[1;36m0.\u001b[0mconv1.weight\n"
            ],
            "text/html": [
              "<pre style=\"white-space:pre;overflow-x:auto;line-height:normal;font-family:Menlo,'DejaVu Sans Mono',consolas,'Courier New',monospace\">copied weights for backbone.body.layer3.<span style=\"color: #008080; text-decoration-color: #008080; font-weight: bold\">0.</span>conv1.weight\n",
              "</pre>\n"
            ]
          },
          "metadata": {}
        },
        {
          "output_type": "display_data",
          "data": {
            "text/plain": [
              "copied weights for backbone.body.layer3.\u001b[1;36m0.\u001b[0mbn1.weight\n"
            ],
            "text/html": [
              "<pre style=\"white-space:pre;overflow-x:auto;line-height:normal;font-family:Menlo,'DejaVu Sans Mono',consolas,'Courier New',monospace\">copied weights for backbone.body.layer3.<span style=\"color: #008080; text-decoration-color: #008080; font-weight: bold\">0.</span>bn1.weight\n",
              "</pre>\n"
            ]
          },
          "metadata": {}
        },
        {
          "output_type": "display_data",
          "data": {
            "text/plain": [
              "copied weights for backbone.body.layer3.\u001b[1;36m0.\u001b[0mbn1.bias\n"
            ],
            "text/html": [
              "<pre style=\"white-space:pre;overflow-x:auto;line-height:normal;font-family:Menlo,'DejaVu Sans Mono',consolas,'Courier New',monospace\">copied weights for backbone.body.layer3.<span style=\"color: #008080; text-decoration-color: #008080; font-weight: bold\">0.</span>bn1.bias\n",
              "</pre>\n"
            ]
          },
          "metadata": {}
        },
        {
          "output_type": "display_data",
          "data": {
            "text/plain": [
              "copied weights for backbone.body.layer3.\u001b[1;36m0.\u001b[0mbn1.running_mean\n"
            ],
            "text/html": [
              "<pre style=\"white-space:pre;overflow-x:auto;line-height:normal;font-family:Menlo,'DejaVu Sans Mono',consolas,'Courier New',monospace\">copied weights for backbone.body.layer3.<span style=\"color: #008080; text-decoration-color: #008080; font-weight: bold\">0.</span>bn1.running_mean\n",
              "</pre>\n"
            ]
          },
          "metadata": {}
        },
        {
          "output_type": "display_data",
          "data": {
            "text/plain": [
              "copied weights for backbone.body.layer3.\u001b[1;36m0.\u001b[0mbn1.running_var\n"
            ],
            "text/html": [
              "<pre style=\"white-space:pre;overflow-x:auto;line-height:normal;font-family:Menlo,'DejaVu Sans Mono',consolas,'Courier New',monospace\">copied weights for backbone.body.layer3.<span style=\"color: #008080; text-decoration-color: #008080; font-weight: bold\">0.</span>bn1.running_var\n",
              "</pre>\n"
            ]
          },
          "metadata": {}
        },
        {
          "output_type": "display_data",
          "data": {
            "text/plain": [
              "copied weights for backbone.body.layer3.\u001b[1;36m0.\u001b[0mconv2.weight\n"
            ],
            "text/html": [
              "<pre style=\"white-space:pre;overflow-x:auto;line-height:normal;font-family:Menlo,'DejaVu Sans Mono',consolas,'Courier New',monospace\">copied weights for backbone.body.layer3.<span style=\"color: #008080; text-decoration-color: #008080; font-weight: bold\">0.</span>conv2.weight\n",
              "</pre>\n"
            ]
          },
          "metadata": {}
        },
        {
          "output_type": "display_data",
          "data": {
            "text/plain": [
              "copied weights for backbone.body.layer3.\u001b[1;36m0.\u001b[0mbn2.weight\n"
            ],
            "text/html": [
              "<pre style=\"white-space:pre;overflow-x:auto;line-height:normal;font-family:Menlo,'DejaVu Sans Mono',consolas,'Courier New',monospace\">copied weights for backbone.body.layer3.<span style=\"color: #008080; text-decoration-color: #008080; font-weight: bold\">0.</span>bn2.weight\n",
              "</pre>\n"
            ]
          },
          "metadata": {}
        },
        {
          "output_type": "display_data",
          "data": {
            "text/plain": [
              "copied weights for backbone.body.layer3.\u001b[1;36m0.\u001b[0mbn2.bias\n"
            ],
            "text/html": [
              "<pre style=\"white-space:pre;overflow-x:auto;line-height:normal;font-family:Menlo,'DejaVu Sans Mono',consolas,'Courier New',monospace\">copied weights for backbone.body.layer3.<span style=\"color: #008080; text-decoration-color: #008080; font-weight: bold\">0.</span>bn2.bias\n",
              "</pre>\n"
            ]
          },
          "metadata": {}
        },
        {
          "output_type": "display_data",
          "data": {
            "text/plain": [
              "copied weights for backbone.body.layer3.\u001b[1;36m0.\u001b[0mbn2.running_mean\n"
            ],
            "text/html": [
              "<pre style=\"white-space:pre;overflow-x:auto;line-height:normal;font-family:Menlo,'DejaVu Sans Mono',consolas,'Courier New',monospace\">copied weights for backbone.body.layer3.<span style=\"color: #008080; text-decoration-color: #008080; font-weight: bold\">0.</span>bn2.running_mean\n",
              "</pre>\n"
            ]
          },
          "metadata": {}
        },
        {
          "output_type": "display_data",
          "data": {
            "text/plain": [
              "copied weights for backbone.body.layer3.\u001b[1;36m0.\u001b[0mbn2.running_var\n"
            ],
            "text/html": [
              "<pre style=\"white-space:pre;overflow-x:auto;line-height:normal;font-family:Menlo,'DejaVu Sans Mono',consolas,'Courier New',monospace\">copied weights for backbone.body.layer3.<span style=\"color: #008080; text-decoration-color: #008080; font-weight: bold\">0.</span>bn2.running_var\n",
              "</pre>\n"
            ]
          },
          "metadata": {}
        },
        {
          "output_type": "display_data",
          "data": {
            "text/plain": [
              "copied weights for backbone.body.layer3.\u001b[1;36m0.\u001b[0mconv3.weight\n"
            ],
            "text/html": [
              "<pre style=\"white-space:pre;overflow-x:auto;line-height:normal;font-family:Menlo,'DejaVu Sans Mono',consolas,'Courier New',monospace\">copied weights for backbone.body.layer3.<span style=\"color: #008080; text-decoration-color: #008080; font-weight: bold\">0.</span>conv3.weight\n",
              "</pre>\n"
            ]
          },
          "metadata": {}
        },
        {
          "output_type": "display_data",
          "data": {
            "text/plain": [
              "copied weights for backbone.body.layer3.\u001b[1;36m0.\u001b[0mbn3.weight\n"
            ],
            "text/html": [
              "<pre style=\"white-space:pre;overflow-x:auto;line-height:normal;font-family:Menlo,'DejaVu Sans Mono',consolas,'Courier New',monospace\">copied weights for backbone.body.layer3.<span style=\"color: #008080; text-decoration-color: #008080; font-weight: bold\">0.</span>bn3.weight\n",
              "</pre>\n"
            ]
          },
          "metadata": {}
        },
        {
          "output_type": "display_data",
          "data": {
            "text/plain": [
              "copied weights for backbone.body.layer3.\u001b[1;36m0.\u001b[0mbn3.bias\n"
            ],
            "text/html": [
              "<pre style=\"white-space:pre;overflow-x:auto;line-height:normal;font-family:Menlo,'DejaVu Sans Mono',consolas,'Courier New',monospace\">copied weights for backbone.body.layer3.<span style=\"color: #008080; text-decoration-color: #008080; font-weight: bold\">0.</span>bn3.bias\n",
              "</pre>\n"
            ]
          },
          "metadata": {}
        },
        {
          "output_type": "display_data",
          "data": {
            "text/plain": [
              "copied weights for backbone.body.layer3.\u001b[1;36m0.\u001b[0mbn3.running_mean\n"
            ],
            "text/html": [
              "<pre style=\"white-space:pre;overflow-x:auto;line-height:normal;font-family:Menlo,'DejaVu Sans Mono',consolas,'Courier New',monospace\">copied weights for backbone.body.layer3.<span style=\"color: #008080; text-decoration-color: #008080; font-weight: bold\">0.</span>bn3.running_mean\n",
              "</pre>\n"
            ]
          },
          "metadata": {}
        },
        {
          "output_type": "display_data",
          "data": {
            "text/plain": [
              "copied weights for backbone.body.layer3.\u001b[1;36m0.\u001b[0mbn3.running_var\n"
            ],
            "text/html": [
              "<pre style=\"white-space:pre;overflow-x:auto;line-height:normal;font-family:Menlo,'DejaVu Sans Mono',consolas,'Courier New',monospace\">copied weights for backbone.body.layer3.<span style=\"color: #008080; text-decoration-color: #008080; font-weight: bold\">0.</span>bn3.running_var\n",
              "</pre>\n"
            ]
          },
          "metadata": {}
        },
        {
          "output_type": "display_data",
          "data": {
            "text/plain": [
              "copied weights for backbone.body.layer3.\u001b[1;36m0.\u001b[0mdownsample.\u001b[1;36m0.\u001b[0mweight\n"
            ],
            "text/html": [
              "<pre style=\"white-space:pre;overflow-x:auto;line-height:normal;font-family:Menlo,'DejaVu Sans Mono',consolas,'Courier New',monospace\">copied weights for backbone.body.layer3.<span style=\"color: #008080; text-decoration-color: #008080; font-weight: bold\">0.</span>downsample.<span style=\"color: #008080; text-decoration-color: #008080; font-weight: bold\">0.</span>weight\n",
              "</pre>\n"
            ]
          },
          "metadata": {}
        },
        {
          "output_type": "display_data",
          "data": {
            "text/plain": [
              "copied weights for backbone.body.layer3.\u001b[1;36m0.\u001b[0mdownsample.\u001b[1;36m1.\u001b[0mweight\n"
            ],
            "text/html": [
              "<pre style=\"white-space:pre;overflow-x:auto;line-height:normal;font-family:Menlo,'DejaVu Sans Mono',consolas,'Courier New',monospace\">copied weights for backbone.body.layer3.<span style=\"color: #008080; text-decoration-color: #008080; font-weight: bold\">0.</span>downsample.<span style=\"color: #008080; text-decoration-color: #008080; font-weight: bold\">1.</span>weight\n",
              "</pre>\n"
            ]
          },
          "metadata": {}
        },
        {
          "output_type": "display_data",
          "data": {
            "text/plain": [
              "copied weights for backbone.body.layer3.\u001b[1;36m0.\u001b[0mdownsample.\u001b[1;36m1.\u001b[0mbias\n"
            ],
            "text/html": [
              "<pre style=\"white-space:pre;overflow-x:auto;line-height:normal;font-family:Menlo,'DejaVu Sans Mono',consolas,'Courier New',monospace\">copied weights for backbone.body.layer3.<span style=\"color: #008080; text-decoration-color: #008080; font-weight: bold\">0.</span>downsample.<span style=\"color: #008080; text-decoration-color: #008080; font-weight: bold\">1.</span>bias\n",
              "</pre>\n"
            ]
          },
          "metadata": {}
        },
        {
          "output_type": "display_data",
          "data": {
            "text/plain": [
              "copied weights for backbone.body.layer3.\u001b[1;36m0.\u001b[0mdownsample.\u001b[1;36m1.\u001b[0mrunning_mean\n"
            ],
            "text/html": [
              "<pre style=\"white-space:pre;overflow-x:auto;line-height:normal;font-family:Menlo,'DejaVu Sans Mono',consolas,'Courier New',monospace\">copied weights for backbone.body.layer3.<span style=\"color: #008080; text-decoration-color: #008080; font-weight: bold\">0.</span>downsample.<span style=\"color: #008080; text-decoration-color: #008080; font-weight: bold\">1.</span>running_mean\n",
              "</pre>\n"
            ]
          },
          "metadata": {}
        },
        {
          "output_type": "display_data",
          "data": {
            "text/plain": [
              "copied weights for backbone.body.layer3.\u001b[1;36m0.\u001b[0mdownsample.\u001b[1;36m1.\u001b[0mrunning_var\n"
            ],
            "text/html": [
              "<pre style=\"white-space:pre;overflow-x:auto;line-height:normal;font-family:Menlo,'DejaVu Sans Mono',consolas,'Courier New',monospace\">copied weights for backbone.body.layer3.<span style=\"color: #008080; text-decoration-color: #008080; font-weight: bold\">0.</span>downsample.<span style=\"color: #008080; text-decoration-color: #008080; font-weight: bold\">1.</span>running_var\n",
              "</pre>\n"
            ]
          },
          "metadata": {}
        },
        {
          "output_type": "display_data",
          "data": {
            "text/plain": [
              "copied weights for backbone.body.layer3.\u001b[1;36m1.\u001b[0mconv1.weight\n"
            ],
            "text/html": [
              "<pre style=\"white-space:pre;overflow-x:auto;line-height:normal;font-family:Menlo,'DejaVu Sans Mono',consolas,'Courier New',monospace\">copied weights for backbone.body.layer3.<span style=\"color: #008080; text-decoration-color: #008080; font-weight: bold\">1.</span>conv1.weight\n",
              "</pre>\n"
            ]
          },
          "metadata": {}
        },
        {
          "output_type": "display_data",
          "data": {
            "text/plain": [
              "copied weights for backbone.body.layer3.\u001b[1;36m1.\u001b[0mbn1.weight\n"
            ],
            "text/html": [
              "<pre style=\"white-space:pre;overflow-x:auto;line-height:normal;font-family:Menlo,'DejaVu Sans Mono',consolas,'Courier New',monospace\">copied weights for backbone.body.layer3.<span style=\"color: #008080; text-decoration-color: #008080; font-weight: bold\">1.</span>bn1.weight\n",
              "</pre>\n"
            ]
          },
          "metadata": {}
        },
        {
          "output_type": "display_data",
          "data": {
            "text/plain": [
              "copied weights for backbone.body.layer3.\u001b[1;36m1.\u001b[0mbn1.bias\n"
            ],
            "text/html": [
              "<pre style=\"white-space:pre;overflow-x:auto;line-height:normal;font-family:Menlo,'DejaVu Sans Mono',consolas,'Courier New',monospace\">copied weights for backbone.body.layer3.<span style=\"color: #008080; text-decoration-color: #008080; font-weight: bold\">1.</span>bn1.bias\n",
              "</pre>\n"
            ]
          },
          "metadata": {}
        },
        {
          "output_type": "display_data",
          "data": {
            "text/plain": [
              "copied weights for backbone.body.layer3.\u001b[1;36m1.\u001b[0mbn1.running_mean\n"
            ],
            "text/html": [
              "<pre style=\"white-space:pre;overflow-x:auto;line-height:normal;font-family:Menlo,'DejaVu Sans Mono',consolas,'Courier New',monospace\">copied weights for backbone.body.layer3.<span style=\"color: #008080; text-decoration-color: #008080; font-weight: bold\">1.</span>bn1.running_mean\n",
              "</pre>\n"
            ]
          },
          "metadata": {}
        },
        {
          "output_type": "display_data",
          "data": {
            "text/plain": [
              "copied weights for backbone.body.layer3.\u001b[1;36m1.\u001b[0mbn1.running_var\n"
            ],
            "text/html": [
              "<pre style=\"white-space:pre;overflow-x:auto;line-height:normal;font-family:Menlo,'DejaVu Sans Mono',consolas,'Courier New',monospace\">copied weights for backbone.body.layer3.<span style=\"color: #008080; text-decoration-color: #008080; font-weight: bold\">1.</span>bn1.running_var\n",
              "</pre>\n"
            ]
          },
          "metadata": {}
        },
        {
          "output_type": "display_data",
          "data": {
            "text/plain": [
              "copied weights for backbone.body.layer3.\u001b[1;36m1.\u001b[0mconv2.weight\n"
            ],
            "text/html": [
              "<pre style=\"white-space:pre;overflow-x:auto;line-height:normal;font-family:Menlo,'DejaVu Sans Mono',consolas,'Courier New',monospace\">copied weights for backbone.body.layer3.<span style=\"color: #008080; text-decoration-color: #008080; font-weight: bold\">1.</span>conv2.weight\n",
              "</pre>\n"
            ]
          },
          "metadata": {}
        },
        {
          "output_type": "display_data",
          "data": {
            "text/plain": [
              "copied weights for backbone.body.layer3.\u001b[1;36m1.\u001b[0mbn2.weight\n"
            ],
            "text/html": [
              "<pre style=\"white-space:pre;overflow-x:auto;line-height:normal;font-family:Menlo,'DejaVu Sans Mono',consolas,'Courier New',monospace\">copied weights for backbone.body.layer3.<span style=\"color: #008080; text-decoration-color: #008080; font-weight: bold\">1.</span>bn2.weight\n",
              "</pre>\n"
            ]
          },
          "metadata": {}
        },
        {
          "output_type": "display_data",
          "data": {
            "text/plain": [
              "copied weights for backbone.body.layer3.\u001b[1;36m1.\u001b[0mbn2.bias\n"
            ],
            "text/html": [
              "<pre style=\"white-space:pre;overflow-x:auto;line-height:normal;font-family:Menlo,'DejaVu Sans Mono',consolas,'Courier New',monospace\">copied weights for backbone.body.layer3.<span style=\"color: #008080; text-decoration-color: #008080; font-weight: bold\">1.</span>bn2.bias\n",
              "</pre>\n"
            ]
          },
          "metadata": {}
        },
        {
          "output_type": "display_data",
          "data": {
            "text/plain": [
              "copied weights for backbone.body.layer3.\u001b[1;36m1.\u001b[0mbn2.running_mean\n"
            ],
            "text/html": [
              "<pre style=\"white-space:pre;overflow-x:auto;line-height:normal;font-family:Menlo,'DejaVu Sans Mono',consolas,'Courier New',monospace\">copied weights for backbone.body.layer3.<span style=\"color: #008080; text-decoration-color: #008080; font-weight: bold\">1.</span>bn2.running_mean\n",
              "</pre>\n"
            ]
          },
          "metadata": {}
        },
        {
          "output_type": "display_data",
          "data": {
            "text/plain": [
              "copied weights for backbone.body.layer3.\u001b[1;36m1.\u001b[0mbn2.running_var\n"
            ],
            "text/html": [
              "<pre style=\"white-space:pre;overflow-x:auto;line-height:normal;font-family:Menlo,'DejaVu Sans Mono',consolas,'Courier New',monospace\">copied weights for backbone.body.layer3.<span style=\"color: #008080; text-decoration-color: #008080; font-weight: bold\">1.</span>bn2.running_var\n",
              "</pre>\n"
            ]
          },
          "metadata": {}
        },
        {
          "output_type": "display_data",
          "data": {
            "text/plain": [
              "copied weights for backbone.body.layer3.\u001b[1;36m1.\u001b[0mconv3.weight\n"
            ],
            "text/html": [
              "<pre style=\"white-space:pre;overflow-x:auto;line-height:normal;font-family:Menlo,'DejaVu Sans Mono',consolas,'Courier New',monospace\">copied weights for backbone.body.layer3.<span style=\"color: #008080; text-decoration-color: #008080; font-weight: bold\">1.</span>conv3.weight\n",
              "</pre>\n"
            ]
          },
          "metadata": {}
        },
        {
          "output_type": "display_data",
          "data": {
            "text/plain": [
              "copied weights for backbone.body.layer3.\u001b[1;36m1.\u001b[0mbn3.weight\n"
            ],
            "text/html": [
              "<pre style=\"white-space:pre;overflow-x:auto;line-height:normal;font-family:Menlo,'DejaVu Sans Mono',consolas,'Courier New',monospace\">copied weights for backbone.body.layer3.<span style=\"color: #008080; text-decoration-color: #008080; font-weight: bold\">1.</span>bn3.weight\n",
              "</pre>\n"
            ]
          },
          "metadata": {}
        },
        {
          "output_type": "display_data",
          "data": {
            "text/plain": [
              "copied weights for backbone.body.layer3.\u001b[1;36m1.\u001b[0mbn3.bias\n"
            ],
            "text/html": [
              "<pre style=\"white-space:pre;overflow-x:auto;line-height:normal;font-family:Menlo,'DejaVu Sans Mono',consolas,'Courier New',monospace\">copied weights for backbone.body.layer3.<span style=\"color: #008080; text-decoration-color: #008080; font-weight: bold\">1.</span>bn3.bias\n",
              "</pre>\n"
            ]
          },
          "metadata": {}
        },
        {
          "output_type": "display_data",
          "data": {
            "text/plain": [
              "copied weights for backbone.body.layer3.\u001b[1;36m1.\u001b[0mbn3.running_mean\n"
            ],
            "text/html": [
              "<pre style=\"white-space:pre;overflow-x:auto;line-height:normal;font-family:Menlo,'DejaVu Sans Mono',consolas,'Courier New',monospace\">copied weights for backbone.body.layer3.<span style=\"color: #008080; text-decoration-color: #008080; font-weight: bold\">1.</span>bn3.running_mean\n",
              "</pre>\n"
            ]
          },
          "metadata": {}
        },
        {
          "output_type": "display_data",
          "data": {
            "text/plain": [
              "copied weights for backbone.body.layer3.\u001b[1;36m1.\u001b[0mbn3.running_var\n"
            ],
            "text/html": [
              "<pre style=\"white-space:pre;overflow-x:auto;line-height:normal;font-family:Menlo,'DejaVu Sans Mono',consolas,'Courier New',monospace\">copied weights for backbone.body.layer3.<span style=\"color: #008080; text-decoration-color: #008080; font-weight: bold\">1.</span>bn3.running_var\n",
              "</pre>\n"
            ]
          },
          "metadata": {}
        },
        {
          "output_type": "display_data",
          "data": {
            "text/plain": [
              "copied weights for backbone.body.layer3.\u001b[1;36m2.\u001b[0mconv1.weight\n"
            ],
            "text/html": [
              "<pre style=\"white-space:pre;overflow-x:auto;line-height:normal;font-family:Menlo,'DejaVu Sans Mono',consolas,'Courier New',monospace\">copied weights for backbone.body.layer3.<span style=\"color: #008080; text-decoration-color: #008080; font-weight: bold\">2.</span>conv1.weight\n",
              "</pre>\n"
            ]
          },
          "metadata": {}
        },
        {
          "output_type": "display_data",
          "data": {
            "text/plain": [
              "copied weights for backbone.body.layer3.\u001b[1;36m2.\u001b[0mbn1.weight\n"
            ],
            "text/html": [
              "<pre style=\"white-space:pre;overflow-x:auto;line-height:normal;font-family:Menlo,'DejaVu Sans Mono',consolas,'Courier New',monospace\">copied weights for backbone.body.layer3.<span style=\"color: #008080; text-decoration-color: #008080; font-weight: bold\">2.</span>bn1.weight\n",
              "</pre>\n"
            ]
          },
          "metadata": {}
        },
        {
          "output_type": "display_data",
          "data": {
            "text/plain": [
              "copied weights for backbone.body.layer3.\u001b[1;36m2.\u001b[0mbn1.bias\n"
            ],
            "text/html": [
              "<pre style=\"white-space:pre;overflow-x:auto;line-height:normal;font-family:Menlo,'DejaVu Sans Mono',consolas,'Courier New',monospace\">copied weights for backbone.body.layer3.<span style=\"color: #008080; text-decoration-color: #008080; font-weight: bold\">2.</span>bn1.bias\n",
              "</pre>\n"
            ]
          },
          "metadata": {}
        },
        {
          "output_type": "display_data",
          "data": {
            "text/plain": [
              "copied weights for backbone.body.layer3.\u001b[1;36m2.\u001b[0mbn1.running_mean\n"
            ],
            "text/html": [
              "<pre style=\"white-space:pre;overflow-x:auto;line-height:normal;font-family:Menlo,'DejaVu Sans Mono',consolas,'Courier New',monospace\">copied weights for backbone.body.layer3.<span style=\"color: #008080; text-decoration-color: #008080; font-weight: bold\">2.</span>bn1.running_mean\n",
              "</pre>\n"
            ]
          },
          "metadata": {}
        },
        {
          "output_type": "display_data",
          "data": {
            "text/plain": [
              "copied weights for backbone.body.layer3.\u001b[1;36m2.\u001b[0mbn1.running_var\n"
            ],
            "text/html": [
              "<pre style=\"white-space:pre;overflow-x:auto;line-height:normal;font-family:Menlo,'DejaVu Sans Mono',consolas,'Courier New',monospace\">copied weights for backbone.body.layer3.<span style=\"color: #008080; text-decoration-color: #008080; font-weight: bold\">2.</span>bn1.running_var\n",
              "</pre>\n"
            ]
          },
          "metadata": {}
        },
        {
          "output_type": "display_data",
          "data": {
            "text/plain": [
              "copied weights for backbone.body.layer3.\u001b[1;36m2.\u001b[0mconv2.weight\n"
            ],
            "text/html": [
              "<pre style=\"white-space:pre;overflow-x:auto;line-height:normal;font-family:Menlo,'DejaVu Sans Mono',consolas,'Courier New',monospace\">copied weights for backbone.body.layer3.<span style=\"color: #008080; text-decoration-color: #008080; font-weight: bold\">2.</span>conv2.weight\n",
              "</pre>\n"
            ]
          },
          "metadata": {}
        },
        {
          "output_type": "display_data",
          "data": {
            "text/plain": [
              "copied weights for backbone.body.layer3.\u001b[1;36m2.\u001b[0mbn2.weight\n"
            ],
            "text/html": [
              "<pre style=\"white-space:pre;overflow-x:auto;line-height:normal;font-family:Menlo,'DejaVu Sans Mono',consolas,'Courier New',monospace\">copied weights for backbone.body.layer3.<span style=\"color: #008080; text-decoration-color: #008080; font-weight: bold\">2.</span>bn2.weight\n",
              "</pre>\n"
            ]
          },
          "metadata": {}
        },
        {
          "output_type": "display_data",
          "data": {
            "text/plain": [
              "copied weights for backbone.body.layer3.\u001b[1;36m2.\u001b[0mbn2.bias\n"
            ],
            "text/html": [
              "<pre style=\"white-space:pre;overflow-x:auto;line-height:normal;font-family:Menlo,'DejaVu Sans Mono',consolas,'Courier New',monospace\">copied weights for backbone.body.layer3.<span style=\"color: #008080; text-decoration-color: #008080; font-weight: bold\">2.</span>bn2.bias\n",
              "</pre>\n"
            ]
          },
          "metadata": {}
        },
        {
          "output_type": "display_data",
          "data": {
            "text/plain": [
              "copied weights for backbone.body.layer3.\u001b[1;36m2.\u001b[0mbn2.running_mean\n"
            ],
            "text/html": [
              "<pre style=\"white-space:pre;overflow-x:auto;line-height:normal;font-family:Menlo,'DejaVu Sans Mono',consolas,'Courier New',monospace\">copied weights for backbone.body.layer3.<span style=\"color: #008080; text-decoration-color: #008080; font-weight: bold\">2.</span>bn2.running_mean\n",
              "</pre>\n"
            ]
          },
          "metadata": {}
        },
        {
          "output_type": "display_data",
          "data": {
            "text/plain": [
              "copied weights for backbone.body.layer3.\u001b[1;36m2.\u001b[0mbn2.running_var\n"
            ],
            "text/html": [
              "<pre style=\"white-space:pre;overflow-x:auto;line-height:normal;font-family:Menlo,'DejaVu Sans Mono',consolas,'Courier New',monospace\">copied weights for backbone.body.layer3.<span style=\"color: #008080; text-decoration-color: #008080; font-weight: bold\">2.</span>bn2.running_var\n",
              "</pre>\n"
            ]
          },
          "metadata": {}
        },
        {
          "output_type": "display_data",
          "data": {
            "text/plain": [
              "copied weights for backbone.body.layer3.\u001b[1;36m2.\u001b[0mconv3.weight\n"
            ],
            "text/html": [
              "<pre style=\"white-space:pre;overflow-x:auto;line-height:normal;font-family:Menlo,'DejaVu Sans Mono',consolas,'Courier New',monospace\">copied weights for backbone.body.layer3.<span style=\"color: #008080; text-decoration-color: #008080; font-weight: bold\">2.</span>conv3.weight\n",
              "</pre>\n"
            ]
          },
          "metadata": {}
        },
        {
          "output_type": "display_data",
          "data": {
            "text/plain": [
              "copied weights for backbone.body.layer3.\u001b[1;36m2.\u001b[0mbn3.weight\n"
            ],
            "text/html": [
              "<pre style=\"white-space:pre;overflow-x:auto;line-height:normal;font-family:Menlo,'DejaVu Sans Mono',consolas,'Courier New',monospace\">copied weights for backbone.body.layer3.<span style=\"color: #008080; text-decoration-color: #008080; font-weight: bold\">2.</span>bn3.weight\n",
              "</pre>\n"
            ]
          },
          "metadata": {}
        },
        {
          "output_type": "display_data",
          "data": {
            "text/plain": [
              "copied weights for backbone.body.layer3.\u001b[1;36m2.\u001b[0mbn3.bias\n"
            ],
            "text/html": [
              "<pre style=\"white-space:pre;overflow-x:auto;line-height:normal;font-family:Menlo,'DejaVu Sans Mono',consolas,'Courier New',monospace\">copied weights for backbone.body.layer3.<span style=\"color: #008080; text-decoration-color: #008080; font-weight: bold\">2.</span>bn3.bias\n",
              "</pre>\n"
            ]
          },
          "metadata": {}
        },
        {
          "output_type": "display_data",
          "data": {
            "text/plain": [
              "copied weights for backbone.body.layer3.\u001b[1;36m2.\u001b[0mbn3.running_mean\n"
            ],
            "text/html": [
              "<pre style=\"white-space:pre;overflow-x:auto;line-height:normal;font-family:Menlo,'DejaVu Sans Mono',consolas,'Courier New',monospace\">copied weights for backbone.body.layer3.<span style=\"color: #008080; text-decoration-color: #008080; font-weight: bold\">2.</span>bn3.running_mean\n",
              "</pre>\n"
            ]
          },
          "metadata": {}
        },
        {
          "output_type": "display_data",
          "data": {
            "text/plain": [
              "copied weights for backbone.body.layer3.\u001b[1;36m2.\u001b[0mbn3.running_var\n"
            ],
            "text/html": [
              "<pre style=\"white-space:pre;overflow-x:auto;line-height:normal;font-family:Menlo,'DejaVu Sans Mono',consolas,'Courier New',monospace\">copied weights for backbone.body.layer3.<span style=\"color: #008080; text-decoration-color: #008080; font-weight: bold\">2.</span>bn3.running_var\n",
              "</pre>\n"
            ]
          },
          "metadata": {}
        },
        {
          "output_type": "display_data",
          "data": {
            "text/plain": [
              "copied weights for backbone.body.layer3.\u001b[1;36m3.\u001b[0mconv1.weight\n"
            ],
            "text/html": [
              "<pre style=\"white-space:pre;overflow-x:auto;line-height:normal;font-family:Menlo,'DejaVu Sans Mono',consolas,'Courier New',monospace\">copied weights for backbone.body.layer3.<span style=\"color: #008080; text-decoration-color: #008080; font-weight: bold\">3.</span>conv1.weight\n",
              "</pre>\n"
            ]
          },
          "metadata": {}
        },
        {
          "output_type": "display_data",
          "data": {
            "text/plain": [
              "copied weights for backbone.body.layer3.\u001b[1;36m3.\u001b[0mbn1.weight\n"
            ],
            "text/html": [
              "<pre style=\"white-space:pre;overflow-x:auto;line-height:normal;font-family:Menlo,'DejaVu Sans Mono',consolas,'Courier New',monospace\">copied weights for backbone.body.layer3.<span style=\"color: #008080; text-decoration-color: #008080; font-weight: bold\">3.</span>bn1.weight\n",
              "</pre>\n"
            ]
          },
          "metadata": {}
        },
        {
          "output_type": "display_data",
          "data": {
            "text/plain": [
              "copied weights for backbone.body.layer3.\u001b[1;36m3.\u001b[0mbn1.bias\n"
            ],
            "text/html": [
              "<pre style=\"white-space:pre;overflow-x:auto;line-height:normal;font-family:Menlo,'DejaVu Sans Mono',consolas,'Courier New',monospace\">copied weights for backbone.body.layer3.<span style=\"color: #008080; text-decoration-color: #008080; font-weight: bold\">3.</span>bn1.bias\n",
              "</pre>\n"
            ]
          },
          "metadata": {}
        },
        {
          "output_type": "display_data",
          "data": {
            "text/plain": [
              "copied weights for backbone.body.layer3.\u001b[1;36m3.\u001b[0mbn1.running_mean\n"
            ],
            "text/html": [
              "<pre style=\"white-space:pre;overflow-x:auto;line-height:normal;font-family:Menlo,'DejaVu Sans Mono',consolas,'Courier New',monospace\">copied weights for backbone.body.layer3.<span style=\"color: #008080; text-decoration-color: #008080; font-weight: bold\">3.</span>bn1.running_mean\n",
              "</pre>\n"
            ]
          },
          "metadata": {}
        },
        {
          "output_type": "display_data",
          "data": {
            "text/plain": [
              "copied weights for backbone.body.layer3.\u001b[1;36m3.\u001b[0mbn1.running_var\n"
            ],
            "text/html": [
              "<pre style=\"white-space:pre;overflow-x:auto;line-height:normal;font-family:Menlo,'DejaVu Sans Mono',consolas,'Courier New',monospace\">copied weights for backbone.body.layer3.<span style=\"color: #008080; text-decoration-color: #008080; font-weight: bold\">3.</span>bn1.running_var\n",
              "</pre>\n"
            ]
          },
          "metadata": {}
        },
        {
          "output_type": "display_data",
          "data": {
            "text/plain": [
              "copied weights for backbone.body.layer3.\u001b[1;36m3.\u001b[0mconv2.weight\n"
            ],
            "text/html": [
              "<pre style=\"white-space:pre;overflow-x:auto;line-height:normal;font-family:Menlo,'DejaVu Sans Mono',consolas,'Courier New',monospace\">copied weights for backbone.body.layer3.<span style=\"color: #008080; text-decoration-color: #008080; font-weight: bold\">3.</span>conv2.weight\n",
              "</pre>\n"
            ]
          },
          "metadata": {}
        },
        {
          "output_type": "display_data",
          "data": {
            "text/plain": [
              "copied weights for backbone.body.layer3.\u001b[1;36m3.\u001b[0mbn2.weight\n"
            ],
            "text/html": [
              "<pre style=\"white-space:pre;overflow-x:auto;line-height:normal;font-family:Menlo,'DejaVu Sans Mono',consolas,'Courier New',monospace\">copied weights for backbone.body.layer3.<span style=\"color: #008080; text-decoration-color: #008080; font-weight: bold\">3.</span>bn2.weight\n",
              "</pre>\n"
            ]
          },
          "metadata": {}
        },
        {
          "output_type": "display_data",
          "data": {
            "text/plain": [
              "copied weights for backbone.body.layer3.\u001b[1;36m3.\u001b[0mbn2.bias\n"
            ],
            "text/html": [
              "<pre style=\"white-space:pre;overflow-x:auto;line-height:normal;font-family:Menlo,'DejaVu Sans Mono',consolas,'Courier New',monospace\">copied weights for backbone.body.layer3.<span style=\"color: #008080; text-decoration-color: #008080; font-weight: bold\">3.</span>bn2.bias\n",
              "</pre>\n"
            ]
          },
          "metadata": {}
        },
        {
          "output_type": "display_data",
          "data": {
            "text/plain": [
              "copied weights for backbone.body.layer3.\u001b[1;36m3.\u001b[0mbn2.running_mean\n"
            ],
            "text/html": [
              "<pre style=\"white-space:pre;overflow-x:auto;line-height:normal;font-family:Menlo,'DejaVu Sans Mono',consolas,'Courier New',monospace\">copied weights for backbone.body.layer3.<span style=\"color: #008080; text-decoration-color: #008080; font-weight: bold\">3.</span>bn2.running_mean\n",
              "</pre>\n"
            ]
          },
          "metadata": {}
        },
        {
          "output_type": "display_data",
          "data": {
            "text/plain": [
              "copied weights for backbone.body.layer3.\u001b[1;36m3.\u001b[0mbn2.running_var\n"
            ],
            "text/html": [
              "<pre style=\"white-space:pre;overflow-x:auto;line-height:normal;font-family:Menlo,'DejaVu Sans Mono',consolas,'Courier New',monospace\">copied weights for backbone.body.layer3.<span style=\"color: #008080; text-decoration-color: #008080; font-weight: bold\">3.</span>bn2.running_var\n",
              "</pre>\n"
            ]
          },
          "metadata": {}
        },
        {
          "output_type": "display_data",
          "data": {
            "text/plain": [
              "copied weights for backbone.body.layer3.\u001b[1;36m3.\u001b[0mconv3.weight\n"
            ],
            "text/html": [
              "<pre style=\"white-space:pre;overflow-x:auto;line-height:normal;font-family:Menlo,'DejaVu Sans Mono',consolas,'Courier New',monospace\">copied weights for backbone.body.layer3.<span style=\"color: #008080; text-decoration-color: #008080; font-weight: bold\">3.</span>conv3.weight\n",
              "</pre>\n"
            ]
          },
          "metadata": {}
        },
        {
          "output_type": "display_data",
          "data": {
            "text/plain": [
              "copied weights for backbone.body.layer3.\u001b[1;36m3.\u001b[0mbn3.weight\n"
            ],
            "text/html": [
              "<pre style=\"white-space:pre;overflow-x:auto;line-height:normal;font-family:Menlo,'DejaVu Sans Mono',consolas,'Courier New',monospace\">copied weights for backbone.body.layer3.<span style=\"color: #008080; text-decoration-color: #008080; font-weight: bold\">3.</span>bn3.weight\n",
              "</pre>\n"
            ]
          },
          "metadata": {}
        },
        {
          "output_type": "display_data",
          "data": {
            "text/plain": [
              "copied weights for backbone.body.layer3.\u001b[1;36m3.\u001b[0mbn3.bias\n"
            ],
            "text/html": [
              "<pre style=\"white-space:pre;overflow-x:auto;line-height:normal;font-family:Menlo,'DejaVu Sans Mono',consolas,'Courier New',monospace\">copied weights for backbone.body.layer3.<span style=\"color: #008080; text-decoration-color: #008080; font-weight: bold\">3.</span>bn3.bias\n",
              "</pre>\n"
            ]
          },
          "metadata": {}
        },
        {
          "output_type": "display_data",
          "data": {
            "text/plain": [
              "copied weights for backbone.body.layer3.\u001b[1;36m3.\u001b[0mbn3.running_mean\n"
            ],
            "text/html": [
              "<pre style=\"white-space:pre;overflow-x:auto;line-height:normal;font-family:Menlo,'DejaVu Sans Mono',consolas,'Courier New',monospace\">copied weights for backbone.body.layer3.<span style=\"color: #008080; text-decoration-color: #008080; font-weight: bold\">3.</span>bn3.running_mean\n",
              "</pre>\n"
            ]
          },
          "metadata": {}
        },
        {
          "output_type": "display_data",
          "data": {
            "text/plain": [
              "copied weights for backbone.body.layer3.\u001b[1;36m3.\u001b[0mbn3.running_var\n"
            ],
            "text/html": [
              "<pre style=\"white-space:pre;overflow-x:auto;line-height:normal;font-family:Menlo,'DejaVu Sans Mono',consolas,'Courier New',monospace\">copied weights for backbone.body.layer3.<span style=\"color: #008080; text-decoration-color: #008080; font-weight: bold\">3.</span>bn3.running_var\n",
              "</pre>\n"
            ]
          },
          "metadata": {}
        },
        {
          "output_type": "display_data",
          "data": {
            "text/plain": [
              "copied weights for backbone.body.layer3.\u001b[1;36m4.\u001b[0mconv1.weight\n"
            ],
            "text/html": [
              "<pre style=\"white-space:pre;overflow-x:auto;line-height:normal;font-family:Menlo,'DejaVu Sans Mono',consolas,'Courier New',monospace\">copied weights for backbone.body.layer3.<span style=\"color: #008080; text-decoration-color: #008080; font-weight: bold\">4.</span>conv1.weight\n",
              "</pre>\n"
            ]
          },
          "metadata": {}
        },
        {
          "output_type": "display_data",
          "data": {
            "text/plain": [
              "copied weights for backbone.body.layer3.\u001b[1;36m4.\u001b[0mbn1.weight\n"
            ],
            "text/html": [
              "<pre style=\"white-space:pre;overflow-x:auto;line-height:normal;font-family:Menlo,'DejaVu Sans Mono',consolas,'Courier New',monospace\">copied weights for backbone.body.layer3.<span style=\"color: #008080; text-decoration-color: #008080; font-weight: bold\">4.</span>bn1.weight\n",
              "</pre>\n"
            ]
          },
          "metadata": {}
        },
        {
          "output_type": "display_data",
          "data": {
            "text/plain": [
              "copied weights for backbone.body.layer3.\u001b[1;36m4.\u001b[0mbn1.bias\n"
            ],
            "text/html": [
              "<pre style=\"white-space:pre;overflow-x:auto;line-height:normal;font-family:Menlo,'DejaVu Sans Mono',consolas,'Courier New',monospace\">copied weights for backbone.body.layer3.<span style=\"color: #008080; text-decoration-color: #008080; font-weight: bold\">4.</span>bn1.bias\n",
              "</pre>\n"
            ]
          },
          "metadata": {}
        },
        {
          "output_type": "display_data",
          "data": {
            "text/plain": [
              "copied weights for backbone.body.layer3.\u001b[1;36m4.\u001b[0mbn1.running_mean\n"
            ],
            "text/html": [
              "<pre style=\"white-space:pre;overflow-x:auto;line-height:normal;font-family:Menlo,'DejaVu Sans Mono',consolas,'Courier New',monospace\">copied weights for backbone.body.layer3.<span style=\"color: #008080; text-decoration-color: #008080; font-weight: bold\">4.</span>bn1.running_mean\n",
              "</pre>\n"
            ]
          },
          "metadata": {}
        },
        {
          "output_type": "display_data",
          "data": {
            "text/plain": [
              "copied weights for backbone.body.layer3.\u001b[1;36m4.\u001b[0mbn1.running_var\n"
            ],
            "text/html": [
              "<pre style=\"white-space:pre;overflow-x:auto;line-height:normal;font-family:Menlo,'DejaVu Sans Mono',consolas,'Courier New',monospace\">copied weights for backbone.body.layer3.<span style=\"color: #008080; text-decoration-color: #008080; font-weight: bold\">4.</span>bn1.running_var\n",
              "</pre>\n"
            ]
          },
          "metadata": {}
        },
        {
          "output_type": "display_data",
          "data": {
            "text/plain": [
              "copied weights for backbone.body.layer3.\u001b[1;36m4.\u001b[0mconv2.weight\n"
            ],
            "text/html": [
              "<pre style=\"white-space:pre;overflow-x:auto;line-height:normal;font-family:Menlo,'DejaVu Sans Mono',consolas,'Courier New',monospace\">copied weights for backbone.body.layer3.<span style=\"color: #008080; text-decoration-color: #008080; font-weight: bold\">4.</span>conv2.weight\n",
              "</pre>\n"
            ]
          },
          "metadata": {}
        },
        {
          "output_type": "display_data",
          "data": {
            "text/plain": [
              "copied weights for backbone.body.layer3.\u001b[1;36m4.\u001b[0mbn2.weight\n"
            ],
            "text/html": [
              "<pre style=\"white-space:pre;overflow-x:auto;line-height:normal;font-family:Menlo,'DejaVu Sans Mono',consolas,'Courier New',monospace\">copied weights for backbone.body.layer3.<span style=\"color: #008080; text-decoration-color: #008080; font-weight: bold\">4.</span>bn2.weight\n",
              "</pre>\n"
            ]
          },
          "metadata": {}
        },
        {
          "output_type": "display_data",
          "data": {
            "text/plain": [
              "copied weights for backbone.body.layer3.\u001b[1;36m4.\u001b[0mbn2.bias\n"
            ],
            "text/html": [
              "<pre style=\"white-space:pre;overflow-x:auto;line-height:normal;font-family:Menlo,'DejaVu Sans Mono',consolas,'Courier New',monospace\">copied weights for backbone.body.layer3.<span style=\"color: #008080; text-decoration-color: #008080; font-weight: bold\">4.</span>bn2.bias\n",
              "</pre>\n"
            ]
          },
          "metadata": {}
        },
        {
          "output_type": "display_data",
          "data": {
            "text/plain": [
              "copied weights for backbone.body.layer3.\u001b[1;36m4.\u001b[0mbn2.running_mean\n"
            ],
            "text/html": [
              "<pre style=\"white-space:pre;overflow-x:auto;line-height:normal;font-family:Menlo,'DejaVu Sans Mono',consolas,'Courier New',monospace\">copied weights for backbone.body.layer3.<span style=\"color: #008080; text-decoration-color: #008080; font-weight: bold\">4.</span>bn2.running_mean\n",
              "</pre>\n"
            ]
          },
          "metadata": {}
        },
        {
          "output_type": "display_data",
          "data": {
            "text/plain": [
              "copied weights for backbone.body.layer3.\u001b[1;36m4.\u001b[0mbn2.running_var\n"
            ],
            "text/html": [
              "<pre style=\"white-space:pre;overflow-x:auto;line-height:normal;font-family:Menlo,'DejaVu Sans Mono',consolas,'Courier New',monospace\">copied weights for backbone.body.layer3.<span style=\"color: #008080; text-decoration-color: #008080; font-weight: bold\">4.</span>bn2.running_var\n",
              "</pre>\n"
            ]
          },
          "metadata": {}
        },
        {
          "output_type": "display_data",
          "data": {
            "text/plain": [
              "copied weights for backbone.body.layer3.\u001b[1;36m4.\u001b[0mconv3.weight\n"
            ],
            "text/html": [
              "<pre style=\"white-space:pre;overflow-x:auto;line-height:normal;font-family:Menlo,'DejaVu Sans Mono',consolas,'Courier New',monospace\">copied weights for backbone.body.layer3.<span style=\"color: #008080; text-decoration-color: #008080; font-weight: bold\">4.</span>conv3.weight\n",
              "</pre>\n"
            ]
          },
          "metadata": {}
        },
        {
          "output_type": "display_data",
          "data": {
            "text/plain": [
              "copied weights for backbone.body.layer3.\u001b[1;36m4.\u001b[0mbn3.weight\n"
            ],
            "text/html": [
              "<pre style=\"white-space:pre;overflow-x:auto;line-height:normal;font-family:Menlo,'DejaVu Sans Mono',consolas,'Courier New',monospace\">copied weights for backbone.body.layer3.<span style=\"color: #008080; text-decoration-color: #008080; font-weight: bold\">4.</span>bn3.weight\n",
              "</pre>\n"
            ]
          },
          "metadata": {}
        },
        {
          "output_type": "display_data",
          "data": {
            "text/plain": [
              "copied weights for backbone.body.layer3.\u001b[1;36m4.\u001b[0mbn3.bias\n"
            ],
            "text/html": [
              "<pre style=\"white-space:pre;overflow-x:auto;line-height:normal;font-family:Menlo,'DejaVu Sans Mono',consolas,'Courier New',monospace\">copied weights for backbone.body.layer3.<span style=\"color: #008080; text-decoration-color: #008080; font-weight: bold\">4.</span>bn3.bias\n",
              "</pre>\n"
            ]
          },
          "metadata": {}
        },
        {
          "output_type": "display_data",
          "data": {
            "text/plain": [
              "copied weights for backbone.body.layer3.\u001b[1;36m4.\u001b[0mbn3.running_mean\n"
            ],
            "text/html": [
              "<pre style=\"white-space:pre;overflow-x:auto;line-height:normal;font-family:Menlo,'DejaVu Sans Mono',consolas,'Courier New',monospace\">copied weights for backbone.body.layer3.<span style=\"color: #008080; text-decoration-color: #008080; font-weight: bold\">4.</span>bn3.running_mean\n",
              "</pre>\n"
            ]
          },
          "metadata": {}
        },
        {
          "output_type": "display_data",
          "data": {
            "text/plain": [
              "copied weights for backbone.body.layer3.\u001b[1;36m4.\u001b[0mbn3.running_var\n"
            ],
            "text/html": [
              "<pre style=\"white-space:pre;overflow-x:auto;line-height:normal;font-family:Menlo,'DejaVu Sans Mono',consolas,'Courier New',monospace\">copied weights for backbone.body.layer3.<span style=\"color: #008080; text-decoration-color: #008080; font-weight: bold\">4.</span>bn3.running_var\n",
              "</pre>\n"
            ]
          },
          "metadata": {}
        },
        {
          "output_type": "display_data",
          "data": {
            "text/plain": [
              "copied weights for backbone.body.layer3.\u001b[1;36m5.\u001b[0mconv1.weight\n"
            ],
            "text/html": [
              "<pre style=\"white-space:pre;overflow-x:auto;line-height:normal;font-family:Menlo,'DejaVu Sans Mono',consolas,'Courier New',monospace\">copied weights for backbone.body.layer3.<span style=\"color: #008080; text-decoration-color: #008080; font-weight: bold\">5.</span>conv1.weight\n",
              "</pre>\n"
            ]
          },
          "metadata": {}
        },
        {
          "output_type": "display_data",
          "data": {
            "text/plain": [
              "copied weights for backbone.body.layer3.\u001b[1;36m5.\u001b[0mbn1.weight\n"
            ],
            "text/html": [
              "<pre style=\"white-space:pre;overflow-x:auto;line-height:normal;font-family:Menlo,'DejaVu Sans Mono',consolas,'Courier New',monospace\">copied weights for backbone.body.layer3.<span style=\"color: #008080; text-decoration-color: #008080; font-weight: bold\">5.</span>bn1.weight\n",
              "</pre>\n"
            ]
          },
          "metadata": {}
        },
        {
          "output_type": "display_data",
          "data": {
            "text/plain": [
              "copied weights for backbone.body.layer3.\u001b[1;36m5.\u001b[0mbn1.bias\n"
            ],
            "text/html": [
              "<pre style=\"white-space:pre;overflow-x:auto;line-height:normal;font-family:Menlo,'DejaVu Sans Mono',consolas,'Courier New',monospace\">copied weights for backbone.body.layer3.<span style=\"color: #008080; text-decoration-color: #008080; font-weight: bold\">5.</span>bn1.bias\n",
              "</pre>\n"
            ]
          },
          "metadata": {}
        },
        {
          "output_type": "display_data",
          "data": {
            "text/plain": [
              "copied weights for backbone.body.layer3.\u001b[1;36m5.\u001b[0mbn1.running_mean\n"
            ],
            "text/html": [
              "<pre style=\"white-space:pre;overflow-x:auto;line-height:normal;font-family:Menlo,'DejaVu Sans Mono',consolas,'Courier New',monospace\">copied weights for backbone.body.layer3.<span style=\"color: #008080; text-decoration-color: #008080; font-weight: bold\">5.</span>bn1.running_mean\n",
              "</pre>\n"
            ]
          },
          "metadata": {}
        },
        {
          "output_type": "display_data",
          "data": {
            "text/plain": [
              "copied weights for backbone.body.layer3.\u001b[1;36m5.\u001b[0mbn1.running_var\n"
            ],
            "text/html": [
              "<pre style=\"white-space:pre;overflow-x:auto;line-height:normal;font-family:Menlo,'DejaVu Sans Mono',consolas,'Courier New',monospace\">copied weights for backbone.body.layer3.<span style=\"color: #008080; text-decoration-color: #008080; font-weight: bold\">5.</span>bn1.running_var\n",
              "</pre>\n"
            ]
          },
          "metadata": {}
        },
        {
          "output_type": "display_data",
          "data": {
            "text/plain": [
              "copied weights for backbone.body.layer3.\u001b[1;36m5.\u001b[0mconv2.weight\n"
            ],
            "text/html": [
              "<pre style=\"white-space:pre;overflow-x:auto;line-height:normal;font-family:Menlo,'DejaVu Sans Mono',consolas,'Courier New',monospace\">copied weights for backbone.body.layer3.<span style=\"color: #008080; text-decoration-color: #008080; font-weight: bold\">5.</span>conv2.weight\n",
              "</pre>\n"
            ]
          },
          "metadata": {}
        },
        {
          "output_type": "display_data",
          "data": {
            "text/plain": [
              "copied weights for backbone.body.layer3.\u001b[1;36m5.\u001b[0mbn2.weight\n"
            ],
            "text/html": [
              "<pre style=\"white-space:pre;overflow-x:auto;line-height:normal;font-family:Menlo,'DejaVu Sans Mono',consolas,'Courier New',monospace\">copied weights for backbone.body.layer3.<span style=\"color: #008080; text-decoration-color: #008080; font-weight: bold\">5.</span>bn2.weight\n",
              "</pre>\n"
            ]
          },
          "metadata": {}
        },
        {
          "output_type": "display_data",
          "data": {
            "text/plain": [
              "copied weights for backbone.body.layer3.\u001b[1;36m5.\u001b[0mbn2.bias\n"
            ],
            "text/html": [
              "<pre style=\"white-space:pre;overflow-x:auto;line-height:normal;font-family:Menlo,'DejaVu Sans Mono',consolas,'Courier New',monospace\">copied weights for backbone.body.layer3.<span style=\"color: #008080; text-decoration-color: #008080; font-weight: bold\">5.</span>bn2.bias\n",
              "</pre>\n"
            ]
          },
          "metadata": {}
        },
        {
          "output_type": "display_data",
          "data": {
            "text/plain": [
              "copied weights for backbone.body.layer3.\u001b[1;36m5.\u001b[0mbn2.running_mean\n"
            ],
            "text/html": [
              "<pre style=\"white-space:pre;overflow-x:auto;line-height:normal;font-family:Menlo,'DejaVu Sans Mono',consolas,'Courier New',monospace\">copied weights for backbone.body.layer3.<span style=\"color: #008080; text-decoration-color: #008080; font-weight: bold\">5.</span>bn2.running_mean\n",
              "</pre>\n"
            ]
          },
          "metadata": {}
        },
        {
          "output_type": "display_data",
          "data": {
            "text/plain": [
              "copied weights for backbone.body.layer3.\u001b[1;36m5.\u001b[0mbn2.running_var\n"
            ],
            "text/html": [
              "<pre style=\"white-space:pre;overflow-x:auto;line-height:normal;font-family:Menlo,'DejaVu Sans Mono',consolas,'Courier New',monospace\">copied weights for backbone.body.layer3.<span style=\"color: #008080; text-decoration-color: #008080; font-weight: bold\">5.</span>bn2.running_var\n",
              "</pre>\n"
            ]
          },
          "metadata": {}
        },
        {
          "output_type": "display_data",
          "data": {
            "text/plain": [
              "copied weights for backbone.body.layer3.\u001b[1;36m5.\u001b[0mconv3.weight\n"
            ],
            "text/html": [
              "<pre style=\"white-space:pre;overflow-x:auto;line-height:normal;font-family:Menlo,'DejaVu Sans Mono',consolas,'Courier New',monospace\">copied weights for backbone.body.layer3.<span style=\"color: #008080; text-decoration-color: #008080; font-weight: bold\">5.</span>conv3.weight\n",
              "</pre>\n"
            ]
          },
          "metadata": {}
        },
        {
          "output_type": "display_data",
          "data": {
            "text/plain": [
              "copied weights for backbone.body.layer3.\u001b[1;36m5.\u001b[0mbn3.weight\n"
            ],
            "text/html": [
              "<pre style=\"white-space:pre;overflow-x:auto;line-height:normal;font-family:Menlo,'DejaVu Sans Mono',consolas,'Courier New',monospace\">copied weights for backbone.body.layer3.<span style=\"color: #008080; text-decoration-color: #008080; font-weight: bold\">5.</span>bn3.weight\n",
              "</pre>\n"
            ]
          },
          "metadata": {}
        },
        {
          "output_type": "display_data",
          "data": {
            "text/plain": [
              "copied weights for backbone.body.layer3.\u001b[1;36m5.\u001b[0mbn3.bias\n"
            ],
            "text/html": [
              "<pre style=\"white-space:pre;overflow-x:auto;line-height:normal;font-family:Menlo,'DejaVu Sans Mono',consolas,'Courier New',monospace\">copied weights for backbone.body.layer3.<span style=\"color: #008080; text-decoration-color: #008080; font-weight: bold\">5.</span>bn3.bias\n",
              "</pre>\n"
            ]
          },
          "metadata": {}
        },
        {
          "output_type": "display_data",
          "data": {
            "text/plain": [
              "copied weights for backbone.body.layer3.\u001b[1;36m5.\u001b[0mbn3.running_mean\n"
            ],
            "text/html": [
              "<pre style=\"white-space:pre;overflow-x:auto;line-height:normal;font-family:Menlo,'DejaVu Sans Mono',consolas,'Courier New',monospace\">copied weights for backbone.body.layer3.<span style=\"color: #008080; text-decoration-color: #008080; font-weight: bold\">5.</span>bn3.running_mean\n",
              "</pre>\n"
            ]
          },
          "metadata": {}
        },
        {
          "output_type": "display_data",
          "data": {
            "text/plain": [
              "copied weights for backbone.body.layer3.\u001b[1;36m5.\u001b[0mbn3.running_var\n"
            ],
            "text/html": [
              "<pre style=\"white-space:pre;overflow-x:auto;line-height:normal;font-family:Menlo,'DejaVu Sans Mono',consolas,'Courier New',monospace\">copied weights for backbone.body.layer3.<span style=\"color: #008080; text-decoration-color: #008080; font-weight: bold\">5.</span>bn3.running_var\n",
              "</pre>\n"
            ]
          },
          "metadata": {}
        },
        {
          "output_type": "display_data",
          "data": {
            "text/plain": [
              "copied weights for backbone.body.layer4.\u001b[1;36m0.\u001b[0mconv1.weight\n"
            ],
            "text/html": [
              "<pre style=\"white-space:pre;overflow-x:auto;line-height:normal;font-family:Menlo,'DejaVu Sans Mono',consolas,'Courier New',monospace\">copied weights for backbone.body.layer4.<span style=\"color: #008080; text-decoration-color: #008080; font-weight: bold\">0.</span>conv1.weight\n",
              "</pre>\n"
            ]
          },
          "metadata": {}
        },
        {
          "output_type": "display_data",
          "data": {
            "text/plain": [
              "copied weights for backbone.body.layer4.\u001b[1;36m0.\u001b[0mbn1.weight\n"
            ],
            "text/html": [
              "<pre style=\"white-space:pre;overflow-x:auto;line-height:normal;font-family:Menlo,'DejaVu Sans Mono',consolas,'Courier New',monospace\">copied weights for backbone.body.layer4.<span style=\"color: #008080; text-decoration-color: #008080; font-weight: bold\">0.</span>bn1.weight\n",
              "</pre>\n"
            ]
          },
          "metadata": {}
        },
        {
          "output_type": "display_data",
          "data": {
            "text/plain": [
              "copied weights for backbone.body.layer4.\u001b[1;36m0.\u001b[0mbn1.bias\n"
            ],
            "text/html": [
              "<pre style=\"white-space:pre;overflow-x:auto;line-height:normal;font-family:Menlo,'DejaVu Sans Mono',consolas,'Courier New',monospace\">copied weights for backbone.body.layer4.<span style=\"color: #008080; text-decoration-color: #008080; font-weight: bold\">0.</span>bn1.bias\n",
              "</pre>\n"
            ]
          },
          "metadata": {}
        },
        {
          "output_type": "display_data",
          "data": {
            "text/plain": [
              "copied weights for backbone.body.layer4.\u001b[1;36m0.\u001b[0mbn1.running_mean\n"
            ],
            "text/html": [
              "<pre style=\"white-space:pre;overflow-x:auto;line-height:normal;font-family:Menlo,'DejaVu Sans Mono',consolas,'Courier New',monospace\">copied weights for backbone.body.layer4.<span style=\"color: #008080; text-decoration-color: #008080; font-weight: bold\">0.</span>bn1.running_mean\n",
              "</pre>\n"
            ]
          },
          "metadata": {}
        },
        {
          "output_type": "display_data",
          "data": {
            "text/plain": [
              "copied weights for backbone.body.layer4.\u001b[1;36m0.\u001b[0mbn1.running_var\n"
            ],
            "text/html": [
              "<pre style=\"white-space:pre;overflow-x:auto;line-height:normal;font-family:Menlo,'DejaVu Sans Mono',consolas,'Courier New',monospace\">copied weights for backbone.body.layer4.<span style=\"color: #008080; text-decoration-color: #008080; font-weight: bold\">0.</span>bn1.running_var\n",
              "</pre>\n"
            ]
          },
          "metadata": {}
        },
        {
          "output_type": "display_data",
          "data": {
            "text/plain": [
              "copied weights for backbone.body.layer4.\u001b[1;36m0.\u001b[0mconv2.weight\n"
            ],
            "text/html": [
              "<pre style=\"white-space:pre;overflow-x:auto;line-height:normal;font-family:Menlo,'DejaVu Sans Mono',consolas,'Courier New',monospace\">copied weights for backbone.body.layer4.<span style=\"color: #008080; text-decoration-color: #008080; font-weight: bold\">0.</span>conv2.weight\n",
              "</pre>\n"
            ]
          },
          "metadata": {}
        },
        {
          "output_type": "display_data",
          "data": {
            "text/plain": [
              "copied weights for backbone.body.layer4.\u001b[1;36m0.\u001b[0mbn2.weight\n"
            ],
            "text/html": [
              "<pre style=\"white-space:pre;overflow-x:auto;line-height:normal;font-family:Menlo,'DejaVu Sans Mono',consolas,'Courier New',monospace\">copied weights for backbone.body.layer4.<span style=\"color: #008080; text-decoration-color: #008080; font-weight: bold\">0.</span>bn2.weight\n",
              "</pre>\n"
            ]
          },
          "metadata": {}
        },
        {
          "output_type": "display_data",
          "data": {
            "text/plain": [
              "copied weights for backbone.body.layer4.\u001b[1;36m0.\u001b[0mbn2.bias\n"
            ],
            "text/html": [
              "<pre style=\"white-space:pre;overflow-x:auto;line-height:normal;font-family:Menlo,'DejaVu Sans Mono',consolas,'Courier New',monospace\">copied weights for backbone.body.layer4.<span style=\"color: #008080; text-decoration-color: #008080; font-weight: bold\">0.</span>bn2.bias\n",
              "</pre>\n"
            ]
          },
          "metadata": {}
        },
        {
          "output_type": "display_data",
          "data": {
            "text/plain": [
              "copied weights for backbone.body.layer4.\u001b[1;36m0.\u001b[0mbn2.running_mean\n"
            ],
            "text/html": [
              "<pre style=\"white-space:pre;overflow-x:auto;line-height:normal;font-family:Menlo,'DejaVu Sans Mono',consolas,'Courier New',monospace\">copied weights for backbone.body.layer4.<span style=\"color: #008080; text-decoration-color: #008080; font-weight: bold\">0.</span>bn2.running_mean\n",
              "</pre>\n"
            ]
          },
          "metadata": {}
        },
        {
          "output_type": "display_data",
          "data": {
            "text/plain": [
              "copied weights for backbone.body.layer4.\u001b[1;36m0.\u001b[0mbn2.running_var\n"
            ],
            "text/html": [
              "<pre style=\"white-space:pre;overflow-x:auto;line-height:normal;font-family:Menlo,'DejaVu Sans Mono',consolas,'Courier New',monospace\">copied weights for backbone.body.layer4.<span style=\"color: #008080; text-decoration-color: #008080; font-weight: bold\">0.</span>bn2.running_var\n",
              "</pre>\n"
            ]
          },
          "metadata": {}
        },
        {
          "output_type": "display_data",
          "data": {
            "text/plain": [
              "copied weights for backbone.body.layer4.\u001b[1;36m0.\u001b[0mconv3.weight\n"
            ],
            "text/html": [
              "<pre style=\"white-space:pre;overflow-x:auto;line-height:normal;font-family:Menlo,'DejaVu Sans Mono',consolas,'Courier New',monospace\">copied weights for backbone.body.layer4.<span style=\"color: #008080; text-decoration-color: #008080; font-weight: bold\">0.</span>conv3.weight\n",
              "</pre>\n"
            ]
          },
          "metadata": {}
        },
        {
          "output_type": "display_data",
          "data": {
            "text/plain": [
              "copied weights for backbone.body.layer4.\u001b[1;36m0.\u001b[0mbn3.weight\n"
            ],
            "text/html": [
              "<pre style=\"white-space:pre;overflow-x:auto;line-height:normal;font-family:Menlo,'DejaVu Sans Mono',consolas,'Courier New',monospace\">copied weights for backbone.body.layer4.<span style=\"color: #008080; text-decoration-color: #008080; font-weight: bold\">0.</span>bn3.weight\n",
              "</pre>\n"
            ]
          },
          "metadata": {}
        },
        {
          "output_type": "display_data",
          "data": {
            "text/plain": [
              "copied weights for backbone.body.layer4.\u001b[1;36m0.\u001b[0mbn3.bias\n"
            ],
            "text/html": [
              "<pre style=\"white-space:pre;overflow-x:auto;line-height:normal;font-family:Menlo,'DejaVu Sans Mono',consolas,'Courier New',monospace\">copied weights for backbone.body.layer4.<span style=\"color: #008080; text-decoration-color: #008080; font-weight: bold\">0.</span>bn3.bias\n",
              "</pre>\n"
            ]
          },
          "metadata": {}
        },
        {
          "output_type": "display_data",
          "data": {
            "text/plain": [
              "copied weights for backbone.body.layer4.\u001b[1;36m0.\u001b[0mbn3.running_mean\n"
            ],
            "text/html": [
              "<pre style=\"white-space:pre;overflow-x:auto;line-height:normal;font-family:Menlo,'DejaVu Sans Mono',consolas,'Courier New',monospace\">copied weights for backbone.body.layer4.<span style=\"color: #008080; text-decoration-color: #008080; font-weight: bold\">0.</span>bn3.running_mean\n",
              "</pre>\n"
            ]
          },
          "metadata": {}
        },
        {
          "output_type": "display_data",
          "data": {
            "text/plain": [
              "copied weights for backbone.body.layer4.\u001b[1;36m0.\u001b[0mbn3.running_var\n"
            ],
            "text/html": [
              "<pre style=\"white-space:pre;overflow-x:auto;line-height:normal;font-family:Menlo,'DejaVu Sans Mono',consolas,'Courier New',monospace\">copied weights for backbone.body.layer4.<span style=\"color: #008080; text-decoration-color: #008080; font-weight: bold\">0.</span>bn3.running_var\n",
              "</pre>\n"
            ]
          },
          "metadata": {}
        },
        {
          "output_type": "display_data",
          "data": {
            "text/plain": [
              "copied weights for backbone.body.layer4.\u001b[1;36m0.\u001b[0mdownsample.\u001b[1;36m0.\u001b[0mweight\n"
            ],
            "text/html": [
              "<pre style=\"white-space:pre;overflow-x:auto;line-height:normal;font-family:Menlo,'DejaVu Sans Mono',consolas,'Courier New',monospace\">copied weights for backbone.body.layer4.<span style=\"color: #008080; text-decoration-color: #008080; font-weight: bold\">0.</span>downsample.<span style=\"color: #008080; text-decoration-color: #008080; font-weight: bold\">0.</span>weight\n",
              "</pre>\n"
            ]
          },
          "metadata": {}
        },
        {
          "output_type": "display_data",
          "data": {
            "text/plain": [
              "copied weights for backbone.body.layer4.\u001b[1;36m0.\u001b[0mdownsample.\u001b[1;36m1.\u001b[0mweight\n"
            ],
            "text/html": [
              "<pre style=\"white-space:pre;overflow-x:auto;line-height:normal;font-family:Menlo,'DejaVu Sans Mono',consolas,'Courier New',monospace\">copied weights for backbone.body.layer4.<span style=\"color: #008080; text-decoration-color: #008080; font-weight: bold\">0.</span>downsample.<span style=\"color: #008080; text-decoration-color: #008080; font-weight: bold\">1.</span>weight\n",
              "</pre>\n"
            ]
          },
          "metadata": {}
        },
        {
          "output_type": "display_data",
          "data": {
            "text/plain": [
              "copied weights for backbone.body.layer4.\u001b[1;36m0.\u001b[0mdownsample.\u001b[1;36m1.\u001b[0mbias\n"
            ],
            "text/html": [
              "<pre style=\"white-space:pre;overflow-x:auto;line-height:normal;font-family:Menlo,'DejaVu Sans Mono',consolas,'Courier New',monospace\">copied weights for backbone.body.layer4.<span style=\"color: #008080; text-decoration-color: #008080; font-weight: bold\">0.</span>downsample.<span style=\"color: #008080; text-decoration-color: #008080; font-weight: bold\">1.</span>bias\n",
              "</pre>\n"
            ]
          },
          "metadata": {}
        },
        {
          "output_type": "display_data",
          "data": {
            "text/plain": [
              "copied weights for backbone.body.layer4.\u001b[1;36m0.\u001b[0mdownsample.\u001b[1;36m1.\u001b[0mrunning_mean\n"
            ],
            "text/html": [
              "<pre style=\"white-space:pre;overflow-x:auto;line-height:normal;font-family:Menlo,'DejaVu Sans Mono',consolas,'Courier New',monospace\">copied weights for backbone.body.layer4.<span style=\"color: #008080; text-decoration-color: #008080; font-weight: bold\">0.</span>downsample.<span style=\"color: #008080; text-decoration-color: #008080; font-weight: bold\">1.</span>running_mean\n",
              "</pre>\n"
            ]
          },
          "metadata": {}
        },
        {
          "output_type": "display_data",
          "data": {
            "text/plain": [
              "copied weights for backbone.body.layer4.\u001b[1;36m0.\u001b[0mdownsample.\u001b[1;36m1.\u001b[0mrunning_var\n"
            ],
            "text/html": [
              "<pre style=\"white-space:pre;overflow-x:auto;line-height:normal;font-family:Menlo,'DejaVu Sans Mono',consolas,'Courier New',monospace\">copied weights for backbone.body.layer4.<span style=\"color: #008080; text-decoration-color: #008080; font-weight: bold\">0.</span>downsample.<span style=\"color: #008080; text-decoration-color: #008080; font-weight: bold\">1.</span>running_var\n",
              "</pre>\n"
            ]
          },
          "metadata": {}
        },
        {
          "output_type": "display_data",
          "data": {
            "text/plain": [
              "copied weights for backbone.body.layer4.\u001b[1;36m1.\u001b[0mconv1.weight\n"
            ],
            "text/html": [
              "<pre style=\"white-space:pre;overflow-x:auto;line-height:normal;font-family:Menlo,'DejaVu Sans Mono',consolas,'Courier New',monospace\">copied weights for backbone.body.layer4.<span style=\"color: #008080; text-decoration-color: #008080; font-weight: bold\">1.</span>conv1.weight\n",
              "</pre>\n"
            ]
          },
          "metadata": {}
        },
        {
          "output_type": "display_data",
          "data": {
            "text/plain": [
              "copied weights for backbone.body.layer4.\u001b[1;36m1.\u001b[0mbn1.weight\n"
            ],
            "text/html": [
              "<pre style=\"white-space:pre;overflow-x:auto;line-height:normal;font-family:Menlo,'DejaVu Sans Mono',consolas,'Courier New',monospace\">copied weights for backbone.body.layer4.<span style=\"color: #008080; text-decoration-color: #008080; font-weight: bold\">1.</span>bn1.weight\n",
              "</pre>\n"
            ]
          },
          "metadata": {}
        },
        {
          "output_type": "display_data",
          "data": {
            "text/plain": [
              "copied weights for backbone.body.layer4.\u001b[1;36m1.\u001b[0mbn1.bias\n"
            ],
            "text/html": [
              "<pre style=\"white-space:pre;overflow-x:auto;line-height:normal;font-family:Menlo,'DejaVu Sans Mono',consolas,'Courier New',monospace\">copied weights for backbone.body.layer4.<span style=\"color: #008080; text-decoration-color: #008080; font-weight: bold\">1.</span>bn1.bias\n",
              "</pre>\n"
            ]
          },
          "metadata": {}
        },
        {
          "output_type": "display_data",
          "data": {
            "text/plain": [
              "copied weights for backbone.body.layer4.\u001b[1;36m1.\u001b[0mbn1.running_mean\n"
            ],
            "text/html": [
              "<pre style=\"white-space:pre;overflow-x:auto;line-height:normal;font-family:Menlo,'DejaVu Sans Mono',consolas,'Courier New',monospace\">copied weights for backbone.body.layer4.<span style=\"color: #008080; text-decoration-color: #008080; font-weight: bold\">1.</span>bn1.running_mean\n",
              "</pre>\n"
            ]
          },
          "metadata": {}
        },
        {
          "output_type": "display_data",
          "data": {
            "text/plain": [
              "copied weights for backbone.body.layer4.\u001b[1;36m1.\u001b[0mbn1.running_var\n"
            ],
            "text/html": [
              "<pre style=\"white-space:pre;overflow-x:auto;line-height:normal;font-family:Menlo,'DejaVu Sans Mono',consolas,'Courier New',monospace\">copied weights for backbone.body.layer4.<span style=\"color: #008080; text-decoration-color: #008080; font-weight: bold\">1.</span>bn1.running_var\n",
              "</pre>\n"
            ]
          },
          "metadata": {}
        },
        {
          "output_type": "display_data",
          "data": {
            "text/plain": [
              "copied weights for backbone.body.layer4.\u001b[1;36m1.\u001b[0mconv2.weight\n"
            ],
            "text/html": [
              "<pre style=\"white-space:pre;overflow-x:auto;line-height:normal;font-family:Menlo,'DejaVu Sans Mono',consolas,'Courier New',monospace\">copied weights for backbone.body.layer4.<span style=\"color: #008080; text-decoration-color: #008080; font-weight: bold\">1.</span>conv2.weight\n",
              "</pre>\n"
            ]
          },
          "metadata": {}
        },
        {
          "output_type": "display_data",
          "data": {
            "text/plain": [
              "copied weights for backbone.body.layer4.\u001b[1;36m1.\u001b[0mbn2.weight\n"
            ],
            "text/html": [
              "<pre style=\"white-space:pre;overflow-x:auto;line-height:normal;font-family:Menlo,'DejaVu Sans Mono',consolas,'Courier New',monospace\">copied weights for backbone.body.layer4.<span style=\"color: #008080; text-decoration-color: #008080; font-weight: bold\">1.</span>bn2.weight\n",
              "</pre>\n"
            ]
          },
          "metadata": {}
        },
        {
          "output_type": "display_data",
          "data": {
            "text/plain": [
              "copied weights for backbone.body.layer4.\u001b[1;36m1.\u001b[0mbn2.bias\n"
            ],
            "text/html": [
              "<pre style=\"white-space:pre;overflow-x:auto;line-height:normal;font-family:Menlo,'DejaVu Sans Mono',consolas,'Courier New',monospace\">copied weights for backbone.body.layer4.<span style=\"color: #008080; text-decoration-color: #008080; font-weight: bold\">1.</span>bn2.bias\n",
              "</pre>\n"
            ]
          },
          "metadata": {}
        },
        {
          "output_type": "display_data",
          "data": {
            "text/plain": [
              "copied weights for backbone.body.layer4.\u001b[1;36m1.\u001b[0mbn2.running_mean\n"
            ],
            "text/html": [
              "<pre style=\"white-space:pre;overflow-x:auto;line-height:normal;font-family:Menlo,'DejaVu Sans Mono',consolas,'Courier New',monospace\">copied weights for backbone.body.layer4.<span style=\"color: #008080; text-decoration-color: #008080; font-weight: bold\">1.</span>bn2.running_mean\n",
              "</pre>\n"
            ]
          },
          "metadata": {}
        },
        {
          "output_type": "display_data",
          "data": {
            "text/plain": [
              "copied weights for backbone.body.layer4.\u001b[1;36m1.\u001b[0mbn2.running_var\n"
            ],
            "text/html": [
              "<pre style=\"white-space:pre;overflow-x:auto;line-height:normal;font-family:Menlo,'DejaVu Sans Mono',consolas,'Courier New',monospace\">copied weights for backbone.body.layer4.<span style=\"color: #008080; text-decoration-color: #008080; font-weight: bold\">1.</span>bn2.running_var\n",
              "</pre>\n"
            ]
          },
          "metadata": {}
        },
        {
          "output_type": "display_data",
          "data": {
            "text/plain": [
              "copied weights for backbone.body.layer4.\u001b[1;36m1.\u001b[0mconv3.weight\n"
            ],
            "text/html": [
              "<pre style=\"white-space:pre;overflow-x:auto;line-height:normal;font-family:Menlo,'DejaVu Sans Mono',consolas,'Courier New',monospace\">copied weights for backbone.body.layer4.<span style=\"color: #008080; text-decoration-color: #008080; font-weight: bold\">1.</span>conv3.weight\n",
              "</pre>\n"
            ]
          },
          "metadata": {}
        },
        {
          "output_type": "display_data",
          "data": {
            "text/plain": [
              "copied weights for backbone.body.layer4.\u001b[1;36m1.\u001b[0mbn3.weight\n"
            ],
            "text/html": [
              "<pre style=\"white-space:pre;overflow-x:auto;line-height:normal;font-family:Menlo,'DejaVu Sans Mono',consolas,'Courier New',monospace\">copied weights for backbone.body.layer4.<span style=\"color: #008080; text-decoration-color: #008080; font-weight: bold\">1.</span>bn3.weight\n",
              "</pre>\n"
            ]
          },
          "metadata": {}
        },
        {
          "output_type": "display_data",
          "data": {
            "text/plain": [
              "copied weights for backbone.body.layer4.\u001b[1;36m1.\u001b[0mbn3.bias\n"
            ],
            "text/html": [
              "<pre style=\"white-space:pre;overflow-x:auto;line-height:normal;font-family:Menlo,'DejaVu Sans Mono',consolas,'Courier New',monospace\">copied weights for backbone.body.layer4.<span style=\"color: #008080; text-decoration-color: #008080; font-weight: bold\">1.</span>bn3.bias\n",
              "</pre>\n"
            ]
          },
          "metadata": {}
        },
        {
          "output_type": "display_data",
          "data": {
            "text/plain": [
              "copied weights for backbone.body.layer4.\u001b[1;36m1.\u001b[0mbn3.running_mean\n"
            ],
            "text/html": [
              "<pre style=\"white-space:pre;overflow-x:auto;line-height:normal;font-family:Menlo,'DejaVu Sans Mono',consolas,'Courier New',monospace\">copied weights for backbone.body.layer4.<span style=\"color: #008080; text-decoration-color: #008080; font-weight: bold\">1.</span>bn3.running_mean\n",
              "</pre>\n"
            ]
          },
          "metadata": {}
        },
        {
          "output_type": "display_data",
          "data": {
            "text/plain": [
              "copied weights for backbone.body.layer4.\u001b[1;36m1.\u001b[0mbn3.running_var\n"
            ],
            "text/html": [
              "<pre style=\"white-space:pre;overflow-x:auto;line-height:normal;font-family:Menlo,'DejaVu Sans Mono',consolas,'Courier New',monospace\">copied weights for backbone.body.layer4.<span style=\"color: #008080; text-decoration-color: #008080; font-weight: bold\">1.</span>bn3.running_var\n",
              "</pre>\n"
            ]
          },
          "metadata": {}
        },
        {
          "output_type": "display_data",
          "data": {
            "text/plain": [
              "copied weights for backbone.body.layer4.\u001b[1;36m2.\u001b[0mconv1.weight\n"
            ],
            "text/html": [
              "<pre style=\"white-space:pre;overflow-x:auto;line-height:normal;font-family:Menlo,'DejaVu Sans Mono',consolas,'Courier New',monospace\">copied weights for backbone.body.layer4.<span style=\"color: #008080; text-decoration-color: #008080; font-weight: bold\">2.</span>conv1.weight\n",
              "</pre>\n"
            ]
          },
          "metadata": {}
        },
        {
          "output_type": "display_data",
          "data": {
            "text/plain": [
              "copied weights for backbone.body.layer4.\u001b[1;36m2.\u001b[0mbn1.weight\n"
            ],
            "text/html": [
              "<pre style=\"white-space:pre;overflow-x:auto;line-height:normal;font-family:Menlo,'DejaVu Sans Mono',consolas,'Courier New',monospace\">copied weights for backbone.body.layer4.<span style=\"color: #008080; text-decoration-color: #008080; font-weight: bold\">2.</span>bn1.weight\n",
              "</pre>\n"
            ]
          },
          "metadata": {}
        },
        {
          "output_type": "display_data",
          "data": {
            "text/plain": [
              "copied weights for backbone.body.layer4.\u001b[1;36m2.\u001b[0mbn1.bias\n"
            ],
            "text/html": [
              "<pre style=\"white-space:pre;overflow-x:auto;line-height:normal;font-family:Menlo,'DejaVu Sans Mono',consolas,'Courier New',monospace\">copied weights for backbone.body.layer4.<span style=\"color: #008080; text-decoration-color: #008080; font-weight: bold\">2.</span>bn1.bias\n",
              "</pre>\n"
            ]
          },
          "metadata": {}
        },
        {
          "output_type": "display_data",
          "data": {
            "text/plain": [
              "copied weights for backbone.body.layer4.\u001b[1;36m2.\u001b[0mbn1.running_mean\n"
            ],
            "text/html": [
              "<pre style=\"white-space:pre;overflow-x:auto;line-height:normal;font-family:Menlo,'DejaVu Sans Mono',consolas,'Courier New',monospace\">copied weights for backbone.body.layer4.<span style=\"color: #008080; text-decoration-color: #008080; font-weight: bold\">2.</span>bn1.running_mean\n",
              "</pre>\n"
            ]
          },
          "metadata": {}
        },
        {
          "output_type": "display_data",
          "data": {
            "text/plain": [
              "copied weights for backbone.body.layer4.\u001b[1;36m2.\u001b[0mbn1.running_var\n"
            ],
            "text/html": [
              "<pre style=\"white-space:pre;overflow-x:auto;line-height:normal;font-family:Menlo,'DejaVu Sans Mono',consolas,'Courier New',monospace\">copied weights for backbone.body.layer4.<span style=\"color: #008080; text-decoration-color: #008080; font-weight: bold\">2.</span>bn1.running_var\n",
              "</pre>\n"
            ]
          },
          "metadata": {}
        },
        {
          "output_type": "display_data",
          "data": {
            "text/plain": [
              "copied weights for backbone.body.layer4.\u001b[1;36m2.\u001b[0mconv2.weight\n"
            ],
            "text/html": [
              "<pre style=\"white-space:pre;overflow-x:auto;line-height:normal;font-family:Menlo,'DejaVu Sans Mono',consolas,'Courier New',monospace\">copied weights for backbone.body.layer4.<span style=\"color: #008080; text-decoration-color: #008080; font-weight: bold\">2.</span>conv2.weight\n",
              "</pre>\n"
            ]
          },
          "metadata": {}
        },
        {
          "output_type": "display_data",
          "data": {
            "text/plain": [
              "copied weights for backbone.body.layer4.\u001b[1;36m2.\u001b[0mbn2.weight\n"
            ],
            "text/html": [
              "<pre style=\"white-space:pre;overflow-x:auto;line-height:normal;font-family:Menlo,'DejaVu Sans Mono',consolas,'Courier New',monospace\">copied weights for backbone.body.layer4.<span style=\"color: #008080; text-decoration-color: #008080; font-weight: bold\">2.</span>bn2.weight\n",
              "</pre>\n"
            ]
          },
          "metadata": {}
        },
        {
          "output_type": "display_data",
          "data": {
            "text/plain": [
              "copied weights for backbone.body.layer4.\u001b[1;36m2.\u001b[0mbn2.bias\n"
            ],
            "text/html": [
              "<pre style=\"white-space:pre;overflow-x:auto;line-height:normal;font-family:Menlo,'DejaVu Sans Mono',consolas,'Courier New',monospace\">copied weights for backbone.body.layer4.<span style=\"color: #008080; text-decoration-color: #008080; font-weight: bold\">2.</span>bn2.bias\n",
              "</pre>\n"
            ]
          },
          "metadata": {}
        },
        {
          "output_type": "display_data",
          "data": {
            "text/plain": [
              "copied weights for backbone.body.layer4.\u001b[1;36m2.\u001b[0mbn2.running_mean\n"
            ],
            "text/html": [
              "<pre style=\"white-space:pre;overflow-x:auto;line-height:normal;font-family:Menlo,'DejaVu Sans Mono',consolas,'Courier New',monospace\">copied weights for backbone.body.layer4.<span style=\"color: #008080; text-decoration-color: #008080; font-weight: bold\">2.</span>bn2.running_mean\n",
              "</pre>\n"
            ]
          },
          "metadata": {}
        },
        {
          "output_type": "display_data",
          "data": {
            "text/plain": [
              "copied weights for backbone.body.layer4.\u001b[1;36m2.\u001b[0mbn2.running_var\n"
            ],
            "text/html": [
              "<pre style=\"white-space:pre;overflow-x:auto;line-height:normal;font-family:Menlo,'DejaVu Sans Mono',consolas,'Courier New',monospace\">copied weights for backbone.body.layer4.<span style=\"color: #008080; text-decoration-color: #008080; font-weight: bold\">2.</span>bn2.running_var\n",
              "</pre>\n"
            ]
          },
          "metadata": {}
        },
        {
          "output_type": "display_data",
          "data": {
            "text/plain": [
              "copied weights for backbone.body.layer4.\u001b[1;36m2.\u001b[0mconv3.weight\n"
            ],
            "text/html": [
              "<pre style=\"white-space:pre;overflow-x:auto;line-height:normal;font-family:Menlo,'DejaVu Sans Mono',consolas,'Courier New',monospace\">copied weights for backbone.body.layer4.<span style=\"color: #008080; text-decoration-color: #008080; font-weight: bold\">2.</span>conv3.weight\n",
              "</pre>\n"
            ]
          },
          "metadata": {}
        },
        {
          "output_type": "display_data",
          "data": {
            "text/plain": [
              "copied weights for backbone.body.layer4.\u001b[1;36m2.\u001b[0mbn3.weight\n"
            ],
            "text/html": [
              "<pre style=\"white-space:pre;overflow-x:auto;line-height:normal;font-family:Menlo,'DejaVu Sans Mono',consolas,'Courier New',monospace\">copied weights for backbone.body.layer4.<span style=\"color: #008080; text-decoration-color: #008080; font-weight: bold\">2.</span>bn3.weight\n",
              "</pre>\n"
            ]
          },
          "metadata": {}
        },
        {
          "output_type": "display_data",
          "data": {
            "text/plain": [
              "copied weights for backbone.body.layer4.\u001b[1;36m2.\u001b[0mbn3.bias\n"
            ],
            "text/html": [
              "<pre style=\"white-space:pre;overflow-x:auto;line-height:normal;font-family:Menlo,'DejaVu Sans Mono',consolas,'Courier New',monospace\">copied weights for backbone.body.layer4.<span style=\"color: #008080; text-decoration-color: #008080; font-weight: bold\">2.</span>bn3.bias\n",
              "</pre>\n"
            ]
          },
          "metadata": {}
        },
        {
          "output_type": "display_data",
          "data": {
            "text/plain": [
              "copied weights for backbone.body.layer4.\u001b[1;36m2.\u001b[0mbn3.running_mean\n"
            ],
            "text/html": [
              "<pre style=\"white-space:pre;overflow-x:auto;line-height:normal;font-family:Menlo,'DejaVu Sans Mono',consolas,'Courier New',monospace\">copied weights for backbone.body.layer4.<span style=\"color: #008080; text-decoration-color: #008080; font-weight: bold\">2.</span>bn3.running_mean\n",
              "</pre>\n"
            ]
          },
          "metadata": {}
        },
        {
          "output_type": "display_data",
          "data": {
            "text/plain": [
              "copied weights for backbone.body.layer4.\u001b[1;36m2.\u001b[0mbn3.running_var\n"
            ],
            "text/html": [
              "<pre style=\"white-space:pre;overflow-x:auto;line-height:normal;font-family:Menlo,'DejaVu Sans Mono',consolas,'Courier New',monospace\">copied weights for backbone.body.layer4.<span style=\"color: #008080; text-decoration-color: #008080; font-weight: bold\">2.</span>bn3.running_var\n",
              "</pre>\n"
            ]
          },
          "metadata": {}
        },
        {
          "output_type": "display_data",
          "data": {
            "text/plain": [
              "copied weights for backbone.fpn.inner_blocks.\u001b[1;36m0.0\u001b[0m.weight\n"
            ],
            "text/html": [
              "<pre style=\"white-space:pre;overflow-x:auto;line-height:normal;font-family:Menlo,'DejaVu Sans Mono',consolas,'Courier New',monospace\">copied weights for backbone.fpn.inner_blocks.<span style=\"color: #008080; text-decoration-color: #008080; font-weight: bold\">0.0</span>.weight\n",
              "</pre>\n"
            ]
          },
          "metadata": {}
        },
        {
          "output_type": "display_data",
          "data": {
            "text/plain": [
              "copied weights for backbone.fpn.inner_blocks.\u001b[1;36m0.0\u001b[0m.bias\n"
            ],
            "text/html": [
              "<pre style=\"white-space:pre;overflow-x:auto;line-height:normal;font-family:Menlo,'DejaVu Sans Mono',consolas,'Courier New',monospace\">copied weights for backbone.fpn.inner_blocks.<span style=\"color: #008080; text-decoration-color: #008080; font-weight: bold\">0.0</span>.bias\n",
              "</pre>\n"
            ]
          },
          "metadata": {}
        },
        {
          "output_type": "display_data",
          "data": {
            "text/plain": [
              "copied weights for backbone.fpn.inner_blocks.\u001b[1;36m1.0\u001b[0m.weight\n"
            ],
            "text/html": [
              "<pre style=\"white-space:pre;overflow-x:auto;line-height:normal;font-family:Menlo,'DejaVu Sans Mono',consolas,'Courier New',monospace\">copied weights for backbone.fpn.inner_blocks.<span style=\"color: #008080; text-decoration-color: #008080; font-weight: bold\">1.0</span>.weight\n",
              "</pre>\n"
            ]
          },
          "metadata": {}
        },
        {
          "output_type": "display_data",
          "data": {
            "text/plain": [
              "copied weights for backbone.fpn.inner_blocks.\u001b[1;36m1.0\u001b[0m.bias\n"
            ],
            "text/html": [
              "<pre style=\"white-space:pre;overflow-x:auto;line-height:normal;font-family:Menlo,'DejaVu Sans Mono',consolas,'Courier New',monospace\">copied weights for backbone.fpn.inner_blocks.<span style=\"color: #008080; text-decoration-color: #008080; font-weight: bold\">1.0</span>.bias\n",
              "</pre>\n"
            ]
          },
          "metadata": {}
        },
        {
          "output_type": "display_data",
          "data": {
            "text/plain": [
              "copied weights for backbone.fpn.inner_blocks.\u001b[1;36m2.0\u001b[0m.weight\n"
            ],
            "text/html": [
              "<pre style=\"white-space:pre;overflow-x:auto;line-height:normal;font-family:Menlo,'DejaVu Sans Mono',consolas,'Courier New',monospace\">copied weights for backbone.fpn.inner_blocks.<span style=\"color: #008080; text-decoration-color: #008080; font-weight: bold\">2.0</span>.weight\n",
              "</pre>\n"
            ]
          },
          "metadata": {}
        },
        {
          "output_type": "display_data",
          "data": {
            "text/plain": [
              "copied weights for backbone.fpn.inner_blocks.\u001b[1;36m2.0\u001b[0m.bias\n"
            ],
            "text/html": [
              "<pre style=\"white-space:pre;overflow-x:auto;line-height:normal;font-family:Menlo,'DejaVu Sans Mono',consolas,'Courier New',monospace\">copied weights for backbone.fpn.inner_blocks.<span style=\"color: #008080; text-decoration-color: #008080; font-weight: bold\">2.0</span>.bias\n",
              "</pre>\n"
            ]
          },
          "metadata": {}
        },
        {
          "output_type": "display_data",
          "data": {
            "text/plain": [
              "copied weights for backbone.fpn.inner_blocks.\u001b[1;36m3.0\u001b[0m.weight\n"
            ],
            "text/html": [
              "<pre style=\"white-space:pre;overflow-x:auto;line-height:normal;font-family:Menlo,'DejaVu Sans Mono',consolas,'Courier New',monospace\">copied weights for backbone.fpn.inner_blocks.<span style=\"color: #008080; text-decoration-color: #008080; font-weight: bold\">3.0</span>.weight\n",
              "</pre>\n"
            ]
          },
          "metadata": {}
        },
        {
          "output_type": "display_data",
          "data": {
            "text/plain": [
              "copied weights for backbone.fpn.inner_blocks.\u001b[1;36m3.0\u001b[0m.bias\n"
            ],
            "text/html": [
              "<pre style=\"white-space:pre;overflow-x:auto;line-height:normal;font-family:Menlo,'DejaVu Sans Mono',consolas,'Courier New',monospace\">copied weights for backbone.fpn.inner_blocks.<span style=\"color: #008080; text-decoration-color: #008080; font-weight: bold\">3.0</span>.bias\n",
              "</pre>\n"
            ]
          },
          "metadata": {}
        },
        {
          "output_type": "display_data",
          "data": {
            "text/plain": [
              "copied weights for backbone.fpn.layer_blocks.\u001b[1;36m0.0\u001b[0m.weight\n"
            ],
            "text/html": [
              "<pre style=\"white-space:pre;overflow-x:auto;line-height:normal;font-family:Menlo,'DejaVu Sans Mono',consolas,'Courier New',monospace\">copied weights for backbone.fpn.layer_blocks.<span style=\"color: #008080; text-decoration-color: #008080; font-weight: bold\">0.0</span>.weight\n",
              "</pre>\n"
            ]
          },
          "metadata": {}
        },
        {
          "output_type": "display_data",
          "data": {
            "text/plain": [
              "copied weights for backbone.fpn.layer_blocks.\u001b[1;36m0.0\u001b[0m.bias\n"
            ],
            "text/html": [
              "<pre style=\"white-space:pre;overflow-x:auto;line-height:normal;font-family:Menlo,'DejaVu Sans Mono',consolas,'Courier New',monospace\">copied weights for backbone.fpn.layer_blocks.<span style=\"color: #008080; text-decoration-color: #008080; font-weight: bold\">0.0</span>.bias\n",
              "</pre>\n"
            ]
          },
          "metadata": {}
        },
        {
          "output_type": "display_data",
          "data": {
            "text/plain": [
              "copied weights for backbone.fpn.layer_blocks.\u001b[1;36m1.0\u001b[0m.weight\n"
            ],
            "text/html": [
              "<pre style=\"white-space:pre;overflow-x:auto;line-height:normal;font-family:Menlo,'DejaVu Sans Mono',consolas,'Courier New',monospace\">copied weights for backbone.fpn.layer_blocks.<span style=\"color: #008080; text-decoration-color: #008080; font-weight: bold\">1.0</span>.weight\n",
              "</pre>\n"
            ]
          },
          "metadata": {}
        },
        {
          "output_type": "display_data",
          "data": {
            "text/plain": [
              "copied weights for backbone.fpn.layer_blocks.\u001b[1;36m1.0\u001b[0m.bias\n"
            ],
            "text/html": [
              "<pre style=\"white-space:pre;overflow-x:auto;line-height:normal;font-family:Menlo,'DejaVu Sans Mono',consolas,'Courier New',monospace\">copied weights for backbone.fpn.layer_blocks.<span style=\"color: #008080; text-decoration-color: #008080; font-weight: bold\">1.0</span>.bias\n",
              "</pre>\n"
            ]
          },
          "metadata": {}
        },
        {
          "output_type": "display_data",
          "data": {
            "text/plain": [
              "copied weights for backbone.fpn.layer_blocks.\u001b[1;36m2.0\u001b[0m.weight\n"
            ],
            "text/html": [
              "<pre style=\"white-space:pre;overflow-x:auto;line-height:normal;font-family:Menlo,'DejaVu Sans Mono',consolas,'Courier New',monospace\">copied weights for backbone.fpn.layer_blocks.<span style=\"color: #008080; text-decoration-color: #008080; font-weight: bold\">2.0</span>.weight\n",
              "</pre>\n"
            ]
          },
          "metadata": {}
        },
        {
          "output_type": "display_data",
          "data": {
            "text/plain": [
              "copied weights for backbone.fpn.layer_blocks.\u001b[1;36m2.0\u001b[0m.bias\n"
            ],
            "text/html": [
              "<pre style=\"white-space:pre;overflow-x:auto;line-height:normal;font-family:Menlo,'DejaVu Sans Mono',consolas,'Courier New',monospace\">copied weights for backbone.fpn.layer_blocks.<span style=\"color: #008080; text-decoration-color: #008080; font-weight: bold\">2.0</span>.bias\n",
              "</pre>\n"
            ]
          },
          "metadata": {}
        },
        {
          "output_type": "display_data",
          "data": {
            "text/plain": [
              "copied weights for backbone.fpn.layer_blocks.\u001b[1;36m3.0\u001b[0m.weight\n"
            ],
            "text/html": [
              "<pre style=\"white-space:pre;overflow-x:auto;line-height:normal;font-family:Menlo,'DejaVu Sans Mono',consolas,'Courier New',monospace\">copied weights for backbone.fpn.layer_blocks.<span style=\"color: #008080; text-decoration-color: #008080; font-weight: bold\">3.0</span>.weight\n",
              "</pre>\n"
            ]
          },
          "metadata": {}
        },
        {
          "output_type": "display_data",
          "data": {
            "text/plain": [
              "copied weights for backbone.fpn.layer_blocks.\u001b[1;36m3.0\u001b[0m.bias\n"
            ],
            "text/html": [
              "<pre style=\"white-space:pre;overflow-x:auto;line-height:normal;font-family:Menlo,'DejaVu Sans Mono',consolas,'Courier New',monospace\">copied weights for backbone.fpn.layer_blocks.<span style=\"color: #008080; text-decoration-color: #008080; font-weight: bold\">3.0</span>.bias\n",
              "</pre>\n"
            ]
          },
          "metadata": {}
        },
        {
          "output_type": "display_data",
          "data": {
            "text/plain": [
              "copied weights for rpn.head.conv.\u001b[1;36m0.0\u001b[0m.weight\n"
            ],
            "text/html": [
              "<pre style=\"white-space:pre;overflow-x:auto;line-height:normal;font-family:Menlo,'DejaVu Sans Mono',consolas,'Courier New',monospace\">copied weights for rpn.head.conv.<span style=\"color: #008080; text-decoration-color: #008080; font-weight: bold\">0.0</span>.weight\n",
              "</pre>\n"
            ]
          },
          "metadata": {}
        },
        {
          "output_type": "display_data",
          "data": {
            "text/plain": [
              "copied weights for rpn.head.conv.\u001b[1;36m0.0\u001b[0m.bias\n"
            ],
            "text/html": [
              "<pre style=\"white-space:pre;overflow-x:auto;line-height:normal;font-family:Menlo,'DejaVu Sans Mono',consolas,'Courier New',monospace\">copied weights for rpn.head.conv.<span style=\"color: #008080; text-decoration-color: #008080; font-weight: bold\">0.0</span>.bias\n",
              "</pre>\n"
            ]
          },
          "metadata": {}
        },
        {
          "output_type": "display_data",
          "data": {
            "text/plain": [
              "copied weights for rpn.head.cls_logits.weight\n"
            ],
            "text/html": [
              "<pre style=\"white-space:pre;overflow-x:auto;line-height:normal;font-family:Menlo,'DejaVu Sans Mono',consolas,'Courier New',monospace\">copied weights for rpn.head.cls_logits.weight\n",
              "</pre>\n"
            ]
          },
          "metadata": {}
        },
        {
          "output_type": "display_data",
          "data": {
            "text/plain": [
              "copied weights for rpn.head.cls_logits.bias\n"
            ],
            "text/html": [
              "<pre style=\"white-space:pre;overflow-x:auto;line-height:normal;font-family:Menlo,'DejaVu Sans Mono',consolas,'Courier New',monospace\">copied weights for rpn.head.cls_logits.bias\n",
              "</pre>\n"
            ]
          },
          "metadata": {}
        },
        {
          "output_type": "display_data",
          "data": {
            "text/plain": [
              "copied weights for rpn.head.bbox_pred.weight\n"
            ],
            "text/html": [
              "<pre style=\"white-space:pre;overflow-x:auto;line-height:normal;font-family:Menlo,'DejaVu Sans Mono',consolas,'Courier New',monospace\">copied weights for rpn.head.bbox_pred.weight\n",
              "</pre>\n"
            ]
          },
          "metadata": {}
        },
        {
          "output_type": "display_data",
          "data": {
            "text/plain": [
              "copied weights for rpn.head.bbox_pred.bias\n"
            ],
            "text/html": [
              "<pre style=\"white-space:pre;overflow-x:auto;line-height:normal;font-family:Menlo,'DejaVu Sans Mono',consolas,'Courier New',monospace\">copied weights for rpn.head.bbox_pred.bias\n",
              "</pre>\n"
            ]
          },
          "metadata": {}
        },
        {
          "output_type": "display_data",
          "data": {
            "text/plain": [
              "copied weights for roi_heads.box_head.fc6.weight\n"
            ],
            "text/html": [
              "<pre style=\"white-space:pre;overflow-x:auto;line-height:normal;font-family:Menlo,'DejaVu Sans Mono',consolas,'Courier New',monospace\">copied weights for roi_heads.box_head.fc6.weight\n",
              "</pre>\n"
            ]
          },
          "metadata": {}
        },
        {
          "output_type": "display_data",
          "data": {
            "text/plain": [
              "copied weights for roi_heads.box_head.fc6.bias\n"
            ],
            "text/html": [
              "<pre style=\"white-space:pre;overflow-x:auto;line-height:normal;font-family:Menlo,'DejaVu Sans Mono',consolas,'Courier New',monospace\">copied weights for roi_heads.box_head.fc6.bias\n",
              "</pre>\n"
            ]
          },
          "metadata": {}
        },
        {
          "output_type": "display_data",
          "data": {
            "text/plain": [
              "copied weights for roi_heads.box_head.fc7.weight\n"
            ],
            "text/html": [
              "<pre style=\"white-space:pre;overflow-x:auto;line-height:normal;font-family:Menlo,'DejaVu Sans Mono',consolas,'Courier New',monospace\">copied weights for roi_heads.box_head.fc7.weight\n",
              "</pre>\n"
            ]
          },
          "metadata": {}
        },
        {
          "output_type": "display_data",
          "data": {
            "text/plain": [
              "copied weights for roi_heads.box_head.fc7.bias\n"
            ],
            "text/html": [
              "<pre style=\"white-space:pre;overflow-x:auto;line-height:normal;font-family:Menlo,'DejaVu Sans Mono',consolas,'Courier New',monospace\">copied weights for roi_heads.box_head.fc7.bias\n",
              "</pre>\n"
            ]
          },
          "metadata": {}
        },
        {
          "output_type": "display_data",
          "data": {
            "text/plain": [
              "copied weights for roi_heads.box_predictor.cls_score.weight\n"
            ],
            "text/html": [
              "<pre style=\"white-space:pre;overflow-x:auto;line-height:normal;font-family:Menlo,'DejaVu Sans Mono',consolas,'Courier New',monospace\">copied weights for roi_heads.box_predictor.cls_score.weight\n",
              "</pre>\n"
            ]
          },
          "metadata": {}
        },
        {
          "output_type": "display_data",
          "data": {
            "text/plain": [
              "copied weights for roi_heads.box_predictor.cls_score.bias\n"
            ],
            "text/html": [
              "<pre style=\"white-space:pre;overflow-x:auto;line-height:normal;font-family:Menlo,'DejaVu Sans Mono',consolas,'Courier New',monospace\">copied weights for roi_heads.box_predictor.cls_score.bias\n",
              "</pre>\n"
            ]
          },
          "metadata": {}
        },
        {
          "output_type": "display_data",
          "data": {
            "text/plain": [
              "copied weights for roi_heads.box_predictor.bbox_pred.weight\n"
            ],
            "text/html": [
              "<pre style=\"white-space:pre;overflow-x:auto;line-height:normal;font-family:Menlo,'DejaVu Sans Mono',consolas,'Courier New',monospace\">copied weights for roi_heads.box_predictor.bbox_pred.weight\n",
              "</pre>\n"
            ]
          },
          "metadata": {}
        },
        {
          "output_type": "display_data",
          "data": {
            "text/plain": [
              "copied weights for roi_heads.box_predictor.bbox_pred.bias\n"
            ],
            "text/html": [
              "<pre style=\"white-space:pre;overflow-x:auto;line-height:normal;font-family:Menlo,'DejaVu Sans Mono',consolas,'Courier New',monospace\">copied weights for roi_heads.box_predictor.bbox_pred.bias\n",
              "</pre>\n"
            ]
          },
          "metadata": {}
        }
      ],
      "source": [
        "# we have four labels\n",
        "labels = ['background', 'orange', 'apple', 'banana']\n",
        "label2targets = {l: t for t, l in enumerate(labels)}\n",
        "targets2label = {t: l for l, t in label2targets.items()}\n",
        "num_classes = len(targets2label)\n",
        "\n",
        "def get_model():\n",
        "  if model_settings['backbone'] == \"RESNET\":\n",
        "    model = models.detection.fasterrcnn_resnet50_fpn(pretrained=False)\n",
        "  elif model_settings['backbone'] == \"MOBILENET\":\n",
        "    model = models.detection.fasterrcnn_mobilenet_v3_large_320_fpn(pretrained=False)\n",
        "  in_features = model.roi_heads.box_predictor.cls_score.in_features\n",
        "  model.roi_heads.box_predictor = FastRCNNPredictor(in_features, num_classes)\n",
        "  return model\n",
        "\n",
        "def load_checkpoint(model, file_name):\n",
        "    ckpt = torch.load(file_name, map_location=device)\n",
        "    model_weights = ckpt['model_weights']\n",
        "    model.load_state_dict(model_weights)\n",
        "    print(\"Model's pretrained weights loaded!\")\n",
        "\n",
        "model = get_model().to(device)\n",
        "\n",
        "\n",
        "#load_checkpoint(model, checkpoint)\n",
        "\n",
        "\n",
        "state_dict = torch.load(checkpoint, map_location=torch.device(device))\n",
        "\n",
        "for k, par in state_dict.items():\n",
        "    if k in model.state_dict().keys() and par.size() == model.state_dict()[k].size():\n",
        "\n",
        "        model.state_dict()[k].copy_(par)\n",
        "        print(f'copied weights for {k}')\n",
        "    else:\n",
        "        print(\"Weight dimensions mismatch for {}\".format(k))\n"
      ]
    },
    {
      "cell_type": "code",
      "execution_count": 60,
      "metadata": {
        "id": "grqHBH1QeRci"
      },
      "outputs": [],
      "source": [
        "root = path_settings['train_root']\n",
        "val_root = path_settings['val_root']\n",
        "\n",
        "# we have four labels\n",
        "labels = ['background', 'orange', 'apple', 'banana']\n",
        "label2targets = {l: t for t, l in enumerate(labels)}\n",
        "targets2label = {t: l for l, t in label2targets.items()}\n",
        "num_classes = len(targets2label)\n",
        "\n",
        "\n",
        "batch_size_train = train_settings['batch_size_train']\n",
        "batch_size_val = train_settings['batch_size_val']\n",
        "learning_rate = train_settings['learning_rate']\n",
        "weight_decay = train_settings['weight_decay']\n",
        "\n",
        "def preprocess_img(img):\n",
        "    img = torch.tensor(img).permute(2, 0 ,1)\n",
        "    return img.to(device).float()\n",
        "\n",
        "class FruitsDataset(Dataset):\n",
        "    def __init__(self, root=root, transforms=None):\n",
        "        self.root = root\n",
        "        self.transforms = transforms\n",
        "        self.img_paths = sorted(Glob(self.root + '/*.jpg'))\n",
        "        self.xml_paths = sorted(Glob(self.root + '/*.xml'))\n",
        "\n",
        "    def __len__(self):\n",
        "        return len(self.img_paths)\n",
        "\n",
        "    def __getitem__(self, idx):\n",
        "        w = train_settings['image_size']\n",
        "        h = train_settings['image_size']\n",
        "        img_path = self.img_paths[idx]\n",
        "        xml_path = self.xml_paths[idx]\n",
        "        img = Image.open(img_path).convert('RGB')\n",
        "        W, H = img.size\n",
        "        img = np.array(img.resize((w, h), resample=Image.BILINEAR))/255.\n",
        "        xml = et.parse(xml_path)\n",
        "        objects = xml.findall('object')\n",
        "        labels = []\n",
        "        boxes = []\n",
        "        for obj in objects:\n",
        "            label = obj.find('name').text\n",
        "            labels.append(label)\n",
        "            XMin = float(obj.find('bndbox').find('xmin').text)\n",
        "            YMin = float(obj.find('bndbox').find('ymin').text)\n",
        "            XMax = float(obj.find('bndbox').find('xmax').text)\n",
        "            YMax = float(obj.find('bndbox').find('ymax').text)\n",
        "            bbox = [XMin / W, YMin / H, XMax / W, YMax / H]\n",
        "            bbox = (bbox * np.array([w, h, w, h])).astype(np.int16).tolist()\n",
        "            boxes.append(bbox)\n",
        "        target = {}\n",
        "        target['labels'] = torch.tensor([label2targets[label] for label in labels]).long()\n",
        "        target['boxes'] = torch.tensor(boxes).float()\n",
        "        img = preprocess_img(img)\n",
        "        return img, target\n",
        "\n",
        "    def collate_fn(self, batch):\n",
        "        return tuple(zip(*batch))\n",
        "\n",
        "\n",
        "\n",
        "val_ds = FruitsDataset(root=val_root)\n",
        "val_dl = DataLoader(val_ds, batch_size=batch_size_val, shuffle=True, collate_fn=val_ds.collate_fn)"
      ]
    },
    {
      "cell_type": "code",
      "execution_count": 71,
      "metadata": {
        "id": "PYpVZqpUeRcj",
        "colab": {
          "base_uri": "https://localhost:8080/",
          "height": 1000
        },
        "outputId": "2d59b31a-fcf6-463c-8630-56372a1cf251"
      },
      "outputs": [
        {
          "output_type": "stream",
          "name": "stderr",
          "text": [
            "WARNING:matplotlib.image:Clipping input data to the valid range for imshow with RGB data ([0..1] for floats or [0..255] for integers).\n"
          ]
        },
        {
          "output_type": "display_data",
          "data": {
            "text/plain": [
              "<Figure size 500x500 with 1 Axes>"
            ],
            "image/png": "[encoded data removed]"
          },
          "metadata": {}
        },
        {
          "output_type": "stream",
          "name": "stderr",
          "text": [
            "WARNING:matplotlib.image:Clipping input data to the valid range for imshow with RGB data ([0..1] for floats or [0..255] for integers).\n"
          ]
        },
        {
          "output_type": "display_data",
          "data": {
            "text/plain": [
              "<Figure size 500x500 with 1 Axes>"
            ],
            "image/png": "[encoded data removed]"
          },
          "metadata": {}
        },
        {
          "output_type": "stream",
          "name": "stderr",
          "text": [
            "WARNING:matplotlib.image:Clipping input data to the valid range for imshow with RGB data ([0..1] for floats or [0..255] for integers).\n"
          ]
        },
        {
          "output_type": "display_data",
          "data": {
            "text/plain": [
              "<Figure size 500x500 with 1 Axes>"
            ],
            "image/png": "[encoded data removed]"
          },
          "metadata": {}
        },
        {
          "output_type": "stream",
          "name": "stderr",
          "text": [
            "WARNING:matplotlib.image:Clipping input data to the valid range for imshow with RGB data ([0..1] for floats or [0..255] for integers).\n"
          ]
        },
        {
          "output_type": "display_data",
          "data": {
            "text/plain": [
              "<Figure size 500x500 with 1 Axes>"
            ],
            "image/png": "[encoded data removed]"
          },
          "metadata": {}
        },
        {
          "output_type": "stream",
          "name": "stderr",
          "text": [
            "WARNING:matplotlib.image:Clipping input data to the valid range for imshow with RGB data ([0..1] for floats or [0..255] for integers).\n"
          ]
        },
        {
          "output_type": "display_data",
          "data": {
            "text/plain": [
              "<Figure size 500x500 with 1 Axes>"
            ],
            "image/png": "[encoded data removed]"
          },
          "metadata": {}
        },
        {
          "output_type": "stream",
          "name": "stderr",
          "text": [
            "WARNING:matplotlib.image:Clipping input data to the valid range for imshow with RGB data ([0..1] for floats or [0..255] for integers).\n"
          ]
        },
        {
          "output_type": "display_data",
          "data": {
            "text/plain": [
              "<Figure size 500x500 with 1 Axes>"
            ],
            "image/png": "[encoded data removed]"
          },
          "metadata": {}
        },
        {
          "output_type": "stream",
          "name": "stderr",
          "text": [
            "WARNING:matplotlib.image:Clipping input data to the valid range for imshow with RGB data ([0..1] for floats or [0..255] for integers).\n"
          ]
        },
        {
          "output_type": "display_data",
          "data": {
            "text/plain": [
              "<Figure size 500x500 with 1 Axes>"
            ],
            "image/png": "[encoded data removed]"
          },
          "metadata": {}
        },
        {
          "output_type": "stream",
          "name": "stderr",
          "text": [
            "WARNING:matplotlib.image:Clipping input data to the valid range for imshow with RGB data ([0..1] for floats or [0..255] for integers).\n"
          ]
        },
        {
          "output_type": "display_data",
          "data": {
            "text/plain": [
              "<Figure size 500x500 with 1 Axes>"
            ],
            "image/png": "[encoded data removed]"
          },
          "metadata": {}
        },
        {
          "output_type": "stream",
          "name": "stderr",
          "text": [
            "WARNING:matplotlib.image:Clipping input data to the valid range for imshow with RGB data ([0..1] for floats or [0..255] for integers).\n"
          ]
        },
        {
          "output_type": "display_data",
          "data": {
            "text/plain": [
              "<Figure size 500x500 with 1 Axes>"
            ],
            "image/png": "[encoded data removed]"
          },
          "metadata": {}
        },
        {
          "output_type": "stream",
          "name": "stderr",
          "text": [
            "WARNING:matplotlib.image:Clipping input data to the valid range for imshow with RGB data ([0..1] for floats or [0..255] for integers).\n"
          ]
        },
        {
          "output_type": "display_data",
          "data": {
            "text/plain": [
              "<Figure size 500x500 with 1 Axes>"
            ],
            "image/png": "[encoded data removed]"
          },
          "metadata": {}
        },
        {
          "output_type": "stream",
          "name": "stderr",
          "text": [
            "WARNING:matplotlib.image:Clipping input data to the valid range for imshow with RGB data ([0..1] for floats or [0..255] for integers).\n"
          ]
        },
        {
          "output_type": "display_data",
          "data": {
            "text/plain": [
              "<Figure size 500x500 with 1 Axes>"
            ],
            "image/png": "[encoded data removed]"
          },
          "metadata": {}
        },
        {
          "output_type": "stream",
          "name": "stderr",
          "text": [
            "WARNING:matplotlib.image:Clipping input data to the valid range for imshow with RGB data ([0..1] for floats or [0..255] for integers).\n"
          ]
        },
        {
          "output_type": "display_data",
          "data": {
            "text/plain": [
              "<Figure size 500x500 with 1 Axes>"
            ],
            "image/png": "[encoded data removed]"
          },
          "metadata": {}
        },
        {
          "output_type": "stream",
          "name": "stderr",
          "text": [
            "WARNING:matplotlib.image:Clipping input data to the valid range for imshow with RGB data ([0..1] for floats or [0..255] for integers).\n"
          ]
        },
        {
          "output_type": "display_data",
          "data": {
            "text/plain": [
              "<Figure size 500x500 with 1 Axes>"
            ],
            "image/png": "[encoded data removed]"
          },
          "metadata": {}
        },
        {
          "output_type": "stream",
          "name": "stderr",
          "text": [
            "WARNING:matplotlib.image:Clipping input data to the valid range for imshow with RGB data ([0..1] for floats or [0..255] for integers).\n"
          ]
        },
        {
          "output_type": "display_data",
          "data": {
            "text/plain": [
              "<Figure size 500x500 with 1 Axes>"
            ],
            "image/png": "[encoded data removed]"
          },
          "metadata": {}
        },
        {
          "output_type": "stream",
          "name": "stderr",
          "text": [
            "WARNING:matplotlib.image:Clipping input data to the valid range for imshow with RGB data ([0..1] for floats or [0..255] for integers).\n"
          ]
        },
        {
          "output_type": "display_data",
          "data": {
            "text/plain": [
              "<Figure size 500x500 with 1 Axes>"
            ],
            "image/png": "[encoded data removed]"
          },
          "metadata": {}
        },
        {
          "output_type": "stream",
          "name": "stderr",
          "text": [
            "WARNING:matplotlib.image:Clipping input data to the valid range for imshow with RGB data ([0..1] for floats or [0..255] for integers).\n"
          ]
        },
        {
          "output_type": "display_data",
          "data": {
            "text/plain": [
              "<Figure size 500x500 with 1 Axes>"
            ],
            "image/png": "[encoded data removed]"
          },
          "metadata": {}
        },
        {
          "output_type": "stream",
          "name": "stderr",
          "text": [
            "WARNING:matplotlib.image:Clipping input data to the valid range for imshow with RGB data ([0..1] for floats or [0..255] for integers).\n"
          ]
        },
        {
          "output_type": "display_data",
          "data": {
            "text/plain": [
              "<Figure size 500x500 with 1 Axes>"
            ],
            "image/png": "[encoded data removed]"
          },
          "metadata": {}
        },
        {
          "output_type": "stream",
          "name": "stderr",
          "text": [
            "WARNING:matplotlib.image:Clipping input data to the valid range for imshow with RGB data ([0..1] for floats or [0..255] for integers).\n"
          ]
        },
        {
          "output_type": "display_data",
          "data": {
            "text/plain": [
              "<Figure size 500x500 with 1 Axes>"
            ],
            "image/png": "[encoded data removed]"
          },
          "metadata": {}
        },
        {
          "output_type": "stream",
          "name": "stderr",
          "text": [
            "WARNING:matplotlib.image:Clipping input data to the valid range for imshow with RGB data ([0..1] for floats or [0..255] for integers).\n"
          ]
        },
        {
          "output_type": "display_data",
          "data": {
            "text/plain": [
              "<Figure size 500x500 with 1 Axes>"
            ],
            "image/png": "[encoded data removed]"
          },
          "metadata": {}
        },
        {
          "output_type": "stream",
          "name": "stderr",
          "text": [
            "WARNING:matplotlib.image:Clipping input data to the valid range for imshow with RGB data ([0..1] for floats or [0..255] for integers).\n"
          ]
        },
        {
          "output_type": "display_data",
          "data": {
            "text/plain": [
              "<Figure size 500x500 with 1 Axes>"
            ],
            "image/png": "[encoded data removed]"
          },
          "metadata": {}
        }
      ],
      "source": [
        "from torchvision.ops import nms\n",
        "\n",
        "\n",
        "def decode_output(output):\n",
        "    bbs = output['boxes'].cpu().detach().numpy().astype(np.uint16)\n",
        "    labels = np.array([targets2label[i] for i in output['labels'].cpu().detach().numpy()])\n",
        "    confs = output['scores'].cpu().detach().numpy()\n",
        "    idxs = nms(torch.tensor(bbs.astype(np.float32)), torch.tensor(confs), 0.05)\n",
        "    bbs, confs, labels = [tensor[idxs] for tensor in [bbs, confs, labels]]\n",
        "    if len(idxs) == 1:\n",
        "        bbs, confs, labels = [np.array([tensor]) for tensor in [bbs, confs, labels]]\n",
        "    return bbs.tolist(), confs.tolist(), labels.tolist()\n",
        "\n",
        "model.eval()\n",
        "for i, (images, targets) in enumerate(val_dl):\n",
        "    if i == 10: break\n",
        "    images = [im for im in images]\n",
        "    outputs = model(images)\n",
        "    for i, output in enumerate(outputs):\n",
        "        bbs, confs, labels = decode_output(output)\n",
        "        show(images[i].cpu().permute(1,2,0), bbs=bbs, texts=labels, sz=5, text_sz=10)\n",
        "\n"
      ]
    },
    {
      "cell_type": "code",
      "source": [],
      "metadata": {
        "id": "-S9p7F3RVqWh"
      },
      "execution_count": null,
      "outputs": []
    }
  ],
  "metadata": {
    "kernelspec": {
      "display_name": "Python 3",
      "name": "python3"
    },
    "language_info": {
      "name": "python",
      "version": "3.10.2"
    },
    "colab": {
      "provenance": [],
      "machine_shape": "hm",
      "gpuType": "A100"
    },
    "accelerator": "GPU"
  },
  "nbformat": 4,
  "nbformat_minor": 0
}